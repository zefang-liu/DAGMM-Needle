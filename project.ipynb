{
 "cells": [
  {
   "cell_type": "markdown",
   "metadata": {
    "id": "tYti3NYwC9Fc"
   },
   "source": [
    "# 10-714 Project: Needle-DAGMM\n",
    "\n",
    "Needle (NEcessary Elements of Deep Learning) Implementation for the Deep Autoencoding Gaussian Mixture Model (DAGMM)"
   ]
  },
  {
   "cell_type": "markdown",
   "source": [
    "## Introduction"
   ],
   "metadata": {
    "id": "QgpQwtQOdVl0"
   }
  },
  {
   "cell_type": "code",
   "execution_count": 1,
   "metadata": {
    "id": "QsmQ1wfxC9Fe",
    "colab": {
     "base_uri": "https://localhost:8080/"
    },
    "outputId": "adb1e48c-96b9-470a-b45b-0b8d10dba7dc"
   },
   "outputs": [
    {
     "output_type": "stream",
     "name": "stdout",
     "text": [
      "Drive already mounted at /content/drive; to attempt to forcibly remount, call drive.mount(\"/content/drive\", force_remount=True).\n",
      "/content/drive/MyDrive\n",
      "/content/drive/MyDrive/10714/project\n",
      "Looking in indexes: https://pypi.org/simple, https://us-python.pkg.dev/colab-wheels/public/simple/\n",
      "Requirement already satisfied: pybind11 in /usr/local/lib/python3.8/dist-packages (2.10.2)\n"
     ]
    }
   ],
   "source": [
    "from google.colab import drive\n",
    "drive.mount('/content/drive')\n",
    "%cd /content/drive/MyDrive/\n",
    "!mkdir -p 10714\n",
    "%cd /content/drive/MyDrive/10714/project\n",
    "!pip3 install pybind11"
   ]
  },
  {
   "cell_type": "code",
   "execution_count": 31,
   "metadata": {
    "id": "NRCrMddoC9Ff",
    "colab": {
     "base_uri": "https://localhost:8080/"
    },
    "outputId": "b73b9915-a299-454e-d8a1-1c36537d5d05"
   },
   "outputs": [
    {
     "output_type": "stream",
     "name": "stdout",
     "text": [
      "-- Found pybind11: /usr/local/lib/python3.8/dist-packages/pybind11/include (found version \"2.10.2\")\n",
      "-- Found cuda, building cuda backend\n",
      "Wed Dec 28 00:10:40 2022       \n",
      "+-----------------------------------------------------------------------------+\n",
      "| NVIDIA-SMI 460.32.03    Driver Version: 460.32.03    CUDA Version: 11.2     |\n",
      "|-------------------------------+----------------------+----------------------+\n",
      "| GPU  Name        Persistence-M| Bus-Id        Disp.A | Volatile Uncorr. ECC |\n",
      "| Fan  Temp  Perf  Pwr:Usage/Cap|         Memory-Usage | GPU-Util  Compute M. |\n",
      "|                               |                      |               MIG M. |\n",
      "|===============================+======================+======================|\n",
      "|   0  Tesla T4            Off  | 00000000:00:04.0 Off |                    0 |\n",
      "| N/A   56C    P0    29W /  70W |    138MiB / 15109MiB |      0%      Default |\n",
      "|                               |                      |                  N/A |\n",
      "+-------------------------------+----------------------+----------------------+\n",
      "                                                                               \n",
      "+-----------------------------------------------------------------------------+\n",
      "| Processes:                                                                  |\n",
      "|  GPU   GI   CI        PID   Type   Process name                  GPU Memory |\n",
      "|        ID   ID                                                   Usage      |\n",
      "|=============================================================================|\n",
      "+-----------------------------------------------------------------------------+\n",
      "-- Autodetected CUDA architecture(s):  7.5\n",
      "-- Configuring done\n",
      "-- Generating done\n",
      "-- Build files have been written to: /content/drive/MyDrive/10714/project/build\n",
      "make[1]: Entering directory '/content/drive/MyDrive/10714/project/build'\n",
      "make[2]: Entering directory '/content/drive/MyDrive/10714/project/build'\n",
      "make[3]: Entering directory '/content/drive/MyDrive/10714/project/build'\n",
      "\u001B[35m\u001B[1mConsolidate compiler generated dependencies of target ndarray_backend_cpu\u001B[0m\n",
      "make[3]: Leaving directory '/content/drive/MyDrive/10714/project/build'\n",
      "make[3]: Entering directory '/content/drive/MyDrive/10714/project/build'\n",
      "[-25%] \u001B[32mBuilding CXX object CMakeFiles/ndarray_backend_cpu.dir/src/ndarray_backend_cpu.cc.o\u001B[0m\n",
      "[  0%] \u001B[32m\u001B[1mLinking CXX shared module ../python/needle/backend_ndarray/ndarray_backend_cpu.cpython-38-x86_64-linux-gnu.so\u001B[0m\n",
      "make[3]: Leaving directory '/content/drive/MyDrive/10714/project/build'\n",
      "[  0%] Built target ndarray_backend_cpu\n",
      "make[3]: Entering directory '/content/drive/MyDrive/10714/project/build'\n",
      "[ 25%] \u001B[34m\u001B[1mBuilding NVCC (Device) object CMakeFiles/ndarray_backend_cuda.dir/src/ndarray_backend_cuda_generated_ndarray_backend_cuda.cu.o\u001B[0m\n",
      "make[3]: Leaving directory '/content/drive/MyDrive/10714/project/build'\n",
      "make[3]: Entering directory '/content/drive/MyDrive/10714/project/build'\n",
      "[ 50%] \u001B[32m\u001B[1mLinking CXX shared module ../python/needle/backend_ndarray/ndarray_backend_cuda.cpython-38-x86_64-linux-gnu.so\u001B[0m\n",
      "make[3]: Leaving directory '/content/drive/MyDrive/10714/project/build'\n",
      "[ 50%] Built target ndarray_backend_cuda\n",
      "make[2]: Leaving directory '/content/drive/MyDrive/10714/project/build'\n",
      "make[1]: Leaving directory '/content/drive/MyDrive/10714/project/build'\n"
     ]
    }
   ],
   "source": [
    "!make"
   ]
  },
  {
   "cell_type": "code",
   "execution_count": 32,
   "metadata": {
    "id": "ZvHDK8J5C9Ff"
   },
   "outputs": [],
   "source": [
    "import sys\n",
    "sys.path.append('./python')"
   ]
  },
  {
   "cell_type": "markdown",
   "source": [
    "## Needle Framework\n",
    "\n",
    "The following operators are implemented in `python/needle/ops.py`:\n",
    "\n",
    "- `squeeze`\n",
    "- `unsqueeze`\n",
    "- `norm`\n",
    "- `cosine_similarity`\n",
    "- `pairwise_distance`\n",
    "- `relative_distance`\n",
    "- `softmax`\n",
    "- `bmm`\n",
    "- `Inverse` and `inv`\n",
    "- `Det` and `det`\n",
    "- `Phi` and `phi`\n",
    "- `Cholesky` and `cholesky`\n",
    "\n"
   ],
   "metadata": {
    "id": "QeTe1La1cxH4"
   }
  },
  {
   "cell_type": "markdown",
   "source": [
    "### Squeeze and Unsqueeze\n",
    "\n",
    "The `needle.ops.squeeze` and `needle.ops.unsqueeze` are implemented to compute new tensors with dimensions removed or inserted at the specified position. These operator functions are verified by [`torch.squeeze`](https://pytorch.org/docs/stable/generated/torch.squeeze.html) and [`torch.unsqueeze`](https://pytorch.org/docs/stable/generated/torch.unsqueeze.html)."
   ],
   "metadata": {
    "id": "GIW69z3UewFL"
   }
  },
  {
   "cell_type": "code",
   "source": [
    "!python3 -m pytest -l -v -k \"op_squeeze\""
   ],
   "metadata": {
    "colab": {
     "base_uri": "https://localhost:8080/"
    },
    "id": "AjTKbxaDe1DY",
    "outputId": "d2c277cb-0b4d-4253-b5f3-2aae6c33506f"
   },
   "execution_count": null,
   "outputs": [
    {
     "output_type": "stream",
     "name": "stdout",
     "text": [
      "\u001B[1m============================= test session starts ==============================\u001B[0m\n",
      "platform linux -- Python 3.8.16, pytest-3.6.4, py-1.11.0, pluggy-0.7.1 -- /usr/bin/python3\n",
      "cachedir: .pytest_cache\n",
      "rootdir: /content/drive/MyDrive/10714/project, inifile:\n",
      "plugins: typeguard-2.7.1\n",
      "collected 144 items / 128 deselected                                           \u001B[0m\n",
      "\n",
      "tests/test_ops.py::test_op_squeeze[forward-cpu-x_shape0-None] \u001B[32mPASSED\u001B[0m\u001B[36m     [  6%]\u001B[0m\n",
      "tests/test_ops.py::test_op_squeeze[forward-cpu-x_shape1-0] \u001B[32mPASSED\u001B[0m\u001B[36m        [ 12%]\u001B[0m\n",
      "tests/test_ops.py::test_op_squeeze[forward-cpu-x_shape2-1] \u001B[32mPASSED\u001B[0m\u001B[36m        [ 18%]\u001B[0m\n",
      "tests/test_ops.py::test_op_squeeze[forward-cpu-x_shape3-1] \u001B[32mPASSED\u001B[0m\u001B[36m        [ 25%]\u001B[0m\n",
      "tests/test_ops.py::test_op_squeeze[forward-cuda-x_shape0-None] \u001B[32mPASSED\u001B[0m\u001B[36m    [ 31%]\u001B[0m\n",
      "tests/test_ops.py::test_op_squeeze[forward-cuda-x_shape1-0] \u001B[32mPASSED\u001B[0m\u001B[36m       [ 37%]\u001B[0m\n",
      "tests/test_ops.py::test_op_squeeze[forward-cuda-x_shape2-1] \u001B[32mPASSED\u001B[0m\u001B[36m       [ 43%]\u001B[0m\n",
      "tests/test_ops.py::test_op_squeeze[forward-cuda-x_shape3-1] \u001B[32mPASSED\u001B[0m\u001B[36m       [ 50%]\u001B[0m\n",
      "tests/test_ops.py::test_op_squeeze[backward-cpu-x_shape0-None] \u001B[32mPASSED\u001B[0m\u001B[36m    [ 56%]\u001B[0m\n",
      "tests/test_ops.py::test_op_squeeze[backward-cpu-x_shape1-0] \u001B[32mPASSED\u001B[0m\u001B[36m       [ 62%]\u001B[0m\n",
      "tests/test_ops.py::test_op_squeeze[backward-cpu-x_shape2-1] \u001B[32mPASSED\u001B[0m\u001B[36m       [ 68%]\u001B[0m\n",
      "tests/test_ops.py::test_op_squeeze[backward-cpu-x_shape3-1] \u001B[32mPASSED\u001B[0m\u001B[36m       [ 75%]\u001B[0m\n",
      "tests/test_ops.py::test_op_squeeze[backward-cuda-x_shape0-None] \u001B[32mPASSED\u001B[0m\u001B[36m   [ 81%]\u001B[0m\n",
      "tests/test_ops.py::test_op_squeeze[backward-cuda-x_shape1-0] \u001B[32mPASSED\u001B[0m\u001B[36m      [ 87%]\u001B[0m\n",
      "tests/test_ops.py::test_op_squeeze[backward-cuda-x_shape2-1] \u001B[32mPASSED\u001B[0m\u001B[36m      [ 93%]\u001B[0m\n",
      "tests/test_ops.py::test_op_squeeze[backward-cuda-x_shape3-1] \u001B[32mPASSED\u001B[0m\u001B[36m      [100%]\u001B[0m\n",
      "\n",
      "\u001B[32m\u001B[1m================== 16 passed, 128 deselected in 3.09 seconds ===================\u001B[0m\n"
     ]
    }
   ]
  },
  {
   "cell_type": "code",
   "source": [
    "!python3 -m pytest -l -v -k \"op_unsqueeze\""
   ],
   "metadata": {
    "colab": {
     "base_uri": "https://localhost:8080/"
    },
    "id": "DhEvBMqye1LJ",
    "outputId": "1a13ab8b-fa1c-4338-fdec-8c0100cad379"
   },
   "execution_count": null,
   "outputs": [
    {
     "output_type": "stream",
     "name": "stdout",
     "text": [
      "\u001B[1m============================= test session starts ==============================\u001B[0m\n",
      "platform linux -- Python 3.8.16, pytest-3.6.4, py-1.11.0, pluggy-0.7.1 -- /usr/bin/python3\n",
      "cachedir: .pytest_cache\n",
      "rootdir: /content/drive/MyDrive/10714/project, inifile:\n",
      "plugins: typeguard-2.7.1\n",
      "collected 144 items / 124 deselected                                           \u001B[0m\n",
      "\n",
      "tests/test_ops.py::test_op_unsqueeze[forward-cpu-x_shape0-0] \u001B[32mPASSED\u001B[0m\u001B[36m      [  5%]\u001B[0m\n",
      "tests/test_ops.py::test_op_unsqueeze[forward-cpu-x_shape1-1] \u001B[32mPASSED\u001B[0m\u001B[36m      [ 10%]\u001B[0m\n",
      "tests/test_ops.py::test_op_unsqueeze[forward-cpu-x_shape2-0] \u001B[32mPASSED\u001B[0m\u001B[36m      [ 15%]\u001B[0m\n",
      "tests/test_ops.py::test_op_unsqueeze[forward-cpu-x_shape3-1] \u001B[32mPASSED\u001B[0m\u001B[36m      [ 20%]\u001B[0m\n",
      "tests/test_ops.py::test_op_unsqueeze[forward-cpu-x_shape4-2] \u001B[32mPASSED\u001B[0m\u001B[36m      [ 25%]\u001B[0m\n",
      "tests/test_ops.py::test_op_unsqueeze[forward-cuda-x_shape0-0] \u001B[32mPASSED\u001B[0m\u001B[36m     [ 30%]\u001B[0m\n",
      "tests/test_ops.py::test_op_unsqueeze[forward-cuda-x_shape1-1] \u001B[32mPASSED\u001B[0m\u001B[36m     [ 35%]\u001B[0m\n",
      "tests/test_ops.py::test_op_unsqueeze[forward-cuda-x_shape2-0] \u001B[32mPASSED\u001B[0m\u001B[36m     [ 40%]\u001B[0m\n",
      "tests/test_ops.py::test_op_unsqueeze[forward-cuda-x_shape3-1] \u001B[32mPASSED\u001B[0m\u001B[36m     [ 45%]\u001B[0m\n",
      "tests/test_ops.py::test_op_unsqueeze[forward-cuda-x_shape4-2] \u001B[32mPASSED\u001B[0m\u001B[36m     [ 50%]\u001B[0m\n",
      "tests/test_ops.py::test_op_unsqueeze[backward-cpu-x_shape0-0] \u001B[32mPASSED\u001B[0m\u001B[36m     [ 55%]\u001B[0m\n",
      "tests/test_ops.py::test_op_unsqueeze[backward-cpu-x_shape1-1] \u001B[32mPASSED\u001B[0m\u001B[36m     [ 60%]\u001B[0m\n",
      "tests/test_ops.py::test_op_unsqueeze[backward-cpu-x_shape2-0] \u001B[32mPASSED\u001B[0m\u001B[36m     [ 65%]\u001B[0m\n",
      "tests/test_ops.py::test_op_unsqueeze[backward-cpu-x_shape3-1] \u001B[32mPASSED\u001B[0m\u001B[36m     [ 70%]\u001B[0m\n",
      "tests/test_ops.py::test_op_unsqueeze[backward-cpu-x_shape4-2] \u001B[32mPASSED\u001B[0m\u001B[36m     [ 75%]\u001B[0m\n",
      "tests/test_ops.py::test_op_unsqueeze[backward-cuda-x_shape0-0] \u001B[32mPASSED\u001B[0m\u001B[36m    [ 80%]\u001B[0m\n",
      "tests/test_ops.py::test_op_unsqueeze[backward-cuda-x_shape1-1] \u001B[32mPASSED\u001B[0m\u001B[36m    [ 85%]\u001B[0m\n",
      "tests/test_ops.py::test_op_unsqueeze[backward-cuda-x_shape2-0] \u001B[32mPASSED\u001B[0m\u001B[36m    [ 90%]\u001B[0m\n",
      "tests/test_ops.py::test_op_unsqueeze[backward-cuda-x_shape3-1] \u001B[32mPASSED\u001B[0m\u001B[36m    [ 95%]\u001B[0m\n",
      "tests/test_ops.py::test_op_unsqueeze[backward-cuda-x_shape4-2] \u001B[32mPASSED\u001B[0m\u001B[36m    [100%]\u001B[0m\n",
      "\n",
      "\u001B[32m\u001B[1m================== 20 passed, 124 deselected in 4.26 seconds ===================\u001B[0m\n"
     ]
    }
   ]
  },
  {
   "cell_type": "markdown",
   "source": [
    "### Abs\n",
    "\n",
    "The `needle.ops.abs` is implemented to compute the absolute value of each element in a tensor. This operator function is verified by [`torch.abs`](https://pytorch.org/docs/stable/generated/torch.abs.html)."
   ],
   "metadata": {
    "id": "5y4CKksDyuxl"
   }
  },
  {
   "cell_type": "code",
   "source": [
    "!python3 -m pytest -l -v -k \"op_abs\""
   ],
   "metadata": {
    "colab": {
     "base_uri": "https://localhost:8080/"
    },
    "outputId": "fdd8121f-0e76-4aae-f222-03c4b983c1b6",
    "id": "W7JuPSsByuxm"
   },
   "execution_count": null,
   "outputs": [
    {
     "output_type": "stream",
     "name": "stdout",
     "text": [
      "\u001B[1m============================= test session starts ==============================\u001B[0m\n",
      "platform linux -- Python 3.8.16, pytest-3.6.4, py-1.11.0, pluggy-0.7.1 -- /usr/bin/python3\n",
      "cachedir: .pytest_cache\n",
      "rootdir: /content/drive/MyDrive/10714/project, inifile:\n",
      "plugins: typeguard-2.7.1\n",
      "collected 144 items / 132 deselected                                           \u001B[0m\n",
      "\n",
      "tests/test_ops.py::test_op_abs[forward-cpu-x_shape0] \u001B[32mPASSED\u001B[0m\u001B[36m              [  8%]\u001B[0m\n",
      "tests/test_ops.py::test_op_abs[forward-cpu-x_shape1] \u001B[32mPASSED\u001B[0m\u001B[36m              [ 16%]\u001B[0m\n",
      "tests/test_ops.py::test_op_abs[forward-cpu-x_shape2] \u001B[32mPASSED\u001B[0m\u001B[36m              [ 25%]\u001B[0m\n",
      "tests/test_ops.py::test_op_abs[forward-cuda-x_shape0] \u001B[32mPASSED\u001B[0m\u001B[36m             [ 33%]\u001B[0m\n",
      "tests/test_ops.py::test_op_abs[forward-cuda-x_shape1] \u001B[32mPASSED\u001B[0m\u001B[36m             [ 41%]\u001B[0m\n",
      "tests/test_ops.py::test_op_abs[forward-cuda-x_shape2] \u001B[32mPASSED\u001B[0m\u001B[36m             [ 50%]\u001B[0m\n",
      "tests/test_ops.py::test_op_abs[backward-cpu-x_shape0] \u001B[32mPASSED\u001B[0m\u001B[36m             [ 58%]\u001B[0m\n",
      "tests/test_ops.py::test_op_abs[backward-cpu-x_shape1] \u001B[32mPASSED\u001B[0m\u001B[36m             [ 66%]\u001B[0m\n",
      "tests/test_ops.py::test_op_abs[backward-cpu-x_shape2] \u001B[32mPASSED\u001B[0m\u001B[36m             [ 75%]\u001B[0m\n",
      "tests/test_ops.py::test_op_abs[backward-cuda-x_shape0] \u001B[32mPASSED\u001B[0m\u001B[36m            [ 83%]\u001B[0m\n",
      "tests/test_ops.py::test_op_abs[backward-cuda-x_shape1] \u001B[32mPASSED\u001B[0m\u001B[36m            [ 91%]\u001B[0m\n",
      "tests/test_ops.py::test_op_abs[backward-cuda-x_shape2] \u001B[32mPASSED\u001B[0m\u001B[36m            [100%]\u001B[0m\n",
      "\n",
      "\u001B[32m\u001B[1m================== 12 passed, 132 deselected in 2.53 seconds ===================\u001B[0m\n"
     ]
    }
   ]
  },
  {
   "cell_type": "markdown",
   "source": [
    "### Norm\n",
    "\n",
    "The `needle.ops.norm` is implemented to compute the vector norm of a tensor. This operator function is verified by [`torch.norm`](https://pytorch.org/docs/stable/generated/torch.norm.html)."
   ],
   "metadata": {
    "id": "CTA5-hfYezy0"
   }
  },
  {
   "cell_type": "code",
   "source": [
    "!python3 -m pytest -l -v -k \"op_norm\""
   ],
   "metadata": {
    "colab": {
     "base_uri": "https://localhost:8080/"
    },
    "id": "ANoCyU5KLOLJ",
    "outputId": "4cb5429d-ee62-4d11-ced0-dd79db0142b9"
   },
   "execution_count": null,
   "outputs": [
    {
     "output_type": "stream",
     "name": "stdout",
     "text": [
      "\u001B[1m============================= test session starts ==============================\u001B[0m\n",
      "platform linux -- Python 3.8.16, pytest-3.6.4, py-1.11.0, pluggy-0.7.1 -- /usr/bin/python3\n",
      "cachedir: .pytest_cache\n",
      "rootdir: /content/drive/MyDrive/10714/project, inifile:\n",
      "plugins: typeguard-2.7.1\n",
      "collected 144 items / 132 deselected                                           \u001B[0m\n",
      "\n",
      "tests/test_ops.py::test_op_norm[forward-cpu-x_shape0-0] \u001B[32mPASSED\u001B[0m\u001B[36m           [  8%]\u001B[0m\n",
      "tests/test_ops.py::test_op_norm[forward-cpu-x_shape1-0] \u001B[32mPASSED\u001B[0m\u001B[36m           [ 16%]\u001B[0m\n",
      "tests/test_ops.py::test_op_norm[forward-cpu-x_shape2-1] \u001B[32mPASSED\u001B[0m\u001B[36m           [ 25%]\u001B[0m\n",
      "tests/test_ops.py::test_op_norm[forward-cuda-x_shape0-0] \u001B[32mPASSED\u001B[0m\u001B[36m          [ 33%]\u001B[0m\n",
      "tests/test_ops.py::test_op_norm[forward-cuda-x_shape1-0] \u001B[32mPASSED\u001B[0m\u001B[36m          [ 41%]\u001B[0m\n",
      "tests/test_ops.py::test_op_norm[forward-cuda-x_shape2-1] \u001B[32mPASSED\u001B[0m\u001B[36m          [ 50%]\u001B[0m\n",
      "tests/test_ops.py::test_op_norm[backward-cpu-x_shape0-0] \u001B[32mPASSED\u001B[0m\u001B[36m          [ 58%]\u001B[0m\n",
      "tests/test_ops.py::test_op_norm[backward-cpu-x_shape1-0] \u001B[32mPASSED\u001B[0m\u001B[36m          [ 66%]\u001B[0m\n",
      "tests/test_ops.py::test_op_norm[backward-cpu-x_shape2-1] \u001B[32mPASSED\u001B[0m\u001B[36m          [ 75%]\u001B[0m\n",
      "tests/test_ops.py::test_op_norm[backward-cuda-x_shape0-0] \u001B[32mPASSED\u001B[0m\u001B[36m         [ 83%]\u001B[0m\n",
      "tests/test_ops.py::test_op_norm[backward-cuda-x_shape1-0] \u001B[32mPASSED\u001B[0m\u001B[36m         [ 91%]\u001B[0m\n",
      "tests/test_ops.py::test_op_norm[backward-cuda-x_shape2-1] \u001B[32mPASSED\u001B[0m\u001B[36m         [100%]\u001B[0m\n",
      "\n",
      "\u001B[32m\u001B[1m================== 12 passed, 132 deselected in 2.89 seconds ===================\u001B[0m\n"
     ]
    }
   ]
  },
  {
   "cell_type": "markdown",
   "source": [
    "### Cosine Similarity\n",
    "\n",
    "The `needle.ops.cosine_similarity` is implemented to compute the cosine similarity of two vectors:\n",
    "$$ \\frac{\\mathbf{x} \\cdot \\mathbf{x}'}{\\lVert \\mathbf{x} \\rVert_2 \\lVert \\mathbf{x}' \\rVert_2} . $$\n",
    "This operator function is verified by [`torch.nn.functional.cosine_similarity`](https://pytorch.org/docs/stable/generated/torch.nn.functional.cosine_similarity.html)."
   ],
   "metadata": {
    "id": "LNOeihnLe4z6"
   }
  },
  {
   "cell_type": "code",
   "source": [
    "!python3 -m pytest -l -v -k \"op_cosine_similarity\""
   ],
   "metadata": {
    "colab": {
     "base_uri": "https://localhost:8080/"
    },
    "id": "BCnt4MlWMvOl",
    "outputId": "60219496-647b-4dc9-c05f-e87df8bb18de"
   },
   "execution_count": null,
   "outputs": [
    {
     "output_type": "stream",
     "name": "stdout",
     "text": [
      "\u001B[1m============================= test session starts ==============================\u001B[0m\n",
      "platform linux -- Python 3.8.16, pytest-3.6.4, py-1.11.0, pluggy-0.7.1 -- /usr/bin/python3\n",
      "cachedir: .pytest_cache\n",
      "rootdir: /content/drive/MyDrive/10714/project, inifile:\n",
      "plugins: typeguard-2.7.1\n",
      "collected 144 items / 132 deselected                                           \u001B[0m\n",
      "\n",
      "tests/test_ops.py::test_op_cosine_similarity[forward-cpu-x_shape0-0] \u001B[32mPASSED\u001B[0m\u001B[36m [  8%]\u001B[0m\n",
      "tests/test_ops.py::test_op_cosine_similarity[forward-cpu-x_shape1-0] \u001B[32mPASSED\u001B[0m\u001B[36m [ 16%]\u001B[0m\n",
      "tests/test_ops.py::test_op_cosine_similarity[forward-cpu-x_shape2-1] \u001B[32mPASSED\u001B[0m\u001B[36m [ 25%]\u001B[0m\n",
      "tests/test_ops.py::test_op_cosine_similarity[forward-cuda-x_shape0-0] \u001B[32mPASSED\u001B[0m\u001B[36m [ 33%]\u001B[0m\n",
      "tests/test_ops.py::test_op_cosine_similarity[forward-cuda-x_shape1-0] \u001B[32mPASSED\u001B[0m\u001B[36m [ 41%]\u001B[0m\n",
      "tests/test_ops.py::test_op_cosine_similarity[forward-cuda-x_shape2-1] \u001B[32mPASSED\u001B[0m\u001B[36m [ 50%]\u001B[0m\n",
      "tests/test_ops.py::test_op_cosine_similarity[backward-cpu-x_shape0-0] \u001B[32mPASSED\u001B[0m\u001B[36m [ 58%]\u001B[0m\n",
      "tests/test_ops.py::test_op_cosine_similarity[backward-cpu-x_shape1-0] \u001B[32mPASSED\u001B[0m\u001B[36m [ 66%]\u001B[0m\n",
      "tests/test_ops.py::test_op_cosine_similarity[backward-cpu-x_shape2-1] \u001B[32mPASSED\u001B[0m\u001B[36m [ 75%]\u001B[0m\n",
      "tests/test_ops.py::test_op_cosine_similarity[backward-cuda-x_shape0-0] \u001B[32mPASSED\u001B[0m\u001B[36m [ 83%]\u001B[0m\n",
      "tests/test_ops.py::test_op_cosine_similarity[backward-cuda-x_shape1-0] \u001B[32mPASSED\u001B[0m\u001B[36m [ 91%]\u001B[0m\n",
      "tests/test_ops.py::test_op_cosine_similarity[backward-cuda-x_shape2-1] \u001B[32mPASSED\u001B[0m\u001B[36m [100%]\u001B[0m\n",
      "\n",
      "\u001B[32m\u001B[1m================== 12 passed, 132 deselected in 2.54 seconds ===================\u001B[0m\n"
     ]
    }
   ]
  },
  {
   "cell_type": "markdown",
   "source": [
    "### Pairwise Distance\n",
    "\n",
    "The `needle.ops.pairwise_distance` is implemented to compute the pairwise distance between input vectors. This operator function is verified by [`torch.nn.functional.pairwise_distance`](https://pytorch.org/docs/stable/generated/torch.nn.functional.pairwise_distance.html)."
   ],
   "metadata": {
    "id": "Uyu0qj_9e7UV"
   }
  },
  {
   "cell_type": "code",
   "source": [
    "!python3 -m pytest -l -v -k \"op_pairwise_distance\""
   ],
   "metadata": {
    "colab": {
     "base_uri": "https://localhost:8080/"
    },
    "id": "4jRgyws_SRbd",
    "outputId": "d009941b-f8bc-4bf0-f34c-246d99d9187a"
   },
   "execution_count": null,
   "outputs": [
    {
     "output_type": "stream",
     "name": "stdout",
     "text": [
      "\u001B[1m============================= test session starts ==============================\u001B[0m\n",
      "platform linux -- Python 3.8.16, pytest-3.6.4, py-1.11.0, pluggy-0.7.1 -- /usr/bin/python3\n",
      "cachedir: .pytest_cache\n",
      "rootdir: /content/drive/MyDrive/10714/project, inifile:\n",
      "plugins: typeguard-2.7.1\n",
      "collected 144 items / 136 deselected                                           \u001B[0m\n",
      "\n",
      "tests/test_ops.py::test_op_pairwise_distance[forward-cpu-x_shape0-0] \u001B[32mPASSED\u001B[0m\u001B[36m [ 12%]\u001B[0m\n",
      "tests/test_ops.py::test_op_pairwise_distance[forward-cpu-x_shape1-1] \u001B[32mPASSED\u001B[0m\u001B[36m [ 25%]\u001B[0m\n",
      "tests/test_ops.py::test_op_pairwise_distance[forward-cuda-x_shape0-0] \u001B[32mPASSED\u001B[0m\u001B[36m [ 37%]\u001B[0m\n",
      "tests/test_ops.py::test_op_pairwise_distance[forward-cuda-x_shape1-1] \u001B[32mPASSED\u001B[0m\u001B[36m [ 50%]\u001B[0m\n",
      "tests/test_ops.py::test_op_pairwise_distance[backward-cpu-x_shape0-0] \u001B[32mPASSED\u001B[0m\u001B[36m [ 62%]\u001B[0m\n",
      "tests/test_ops.py::test_op_pairwise_distance[backward-cpu-x_shape1-1] \u001B[32mPASSED\u001B[0m\u001B[36m [ 75%]\u001B[0m\n",
      "tests/test_ops.py::test_op_pairwise_distance[backward-cuda-x_shape0-0] \u001B[32mPASSED\u001B[0m\u001B[36m [ 87%]\u001B[0m\n",
      "tests/test_ops.py::test_op_pairwise_distance[backward-cuda-x_shape1-1] \u001B[32mPASSED\u001B[0m\u001B[36m [100%]\u001B[0m\n",
      "\n",
      "\u001B[32m\u001B[1m=================== 8 passed, 136 deselected in 2.49 seconds ===================\u001B[0m\n"
     ]
    }
   ]
  },
  {
   "cell_type": "markdown",
   "source": [
    "### Softmax\n",
    "\n",
    "The `needle.ops.softmax` is implemented to apply the softmax function. This operator function is verified by [`torch.nn.functional.softmax`](https://pytorch.org/docs/stable/generated/torch.nn.functional.softmax.html)."
   ],
   "metadata": {
    "id": "kqfZdFZ3e-Is"
   }
  },
  {
   "cell_type": "code",
   "source": [
    "!python3 -m pytest -l -v -k \"op_softmax\""
   ],
   "metadata": {
    "colab": {
     "base_uri": "https://localhost:8080/"
    },
    "id": "KSjOsn3CQKNS",
    "outputId": "febaf252-e38a-4e1b-bffe-83aa0e5c5350"
   },
   "execution_count": null,
   "outputs": [
    {
     "output_type": "stream",
     "name": "stdout",
     "text": [
      "\u001B[1m============================= test session starts ==============================\u001B[0m\n",
      "platform linux -- Python 3.8.16, pytest-3.6.4, py-1.11.0, pluggy-0.7.1 -- /usr/bin/python3\n",
      "cachedir: .pytest_cache\n",
      "rootdir: /content/drive/MyDrive/10714/project, inifile:\n",
      "plugins: typeguard-2.7.1\n",
      "collected 144 items / 132 deselected                                           \u001B[0m\n",
      "\n",
      "tests/test_ops.py::test_op_softmax[forward-cpu-x_shape0-0] \u001B[32mPASSED\u001B[0m\u001B[36m        [  8%]\u001B[0m\n",
      "tests/test_ops.py::test_op_softmax[forward-cpu-x_shape1-1] \u001B[32mPASSED\u001B[0m\u001B[36m        [ 16%]\u001B[0m\n",
      "tests/test_ops.py::test_op_softmax[forward-cpu-x_shape2-1] \u001B[32mPASSED\u001B[0m\u001B[36m        [ 25%]\u001B[0m\n",
      "tests/test_ops.py::test_op_softmax[forward-cuda-x_shape0-0] \u001B[32mPASSED\u001B[0m\u001B[36m       [ 33%]\u001B[0m\n",
      "tests/test_ops.py::test_op_softmax[forward-cuda-x_shape1-1] \u001B[32mPASSED\u001B[0m\u001B[36m       [ 41%]\u001B[0m\n",
      "tests/test_ops.py::test_op_softmax[forward-cuda-x_shape2-1] \u001B[32mPASSED\u001B[0m\u001B[36m       [ 50%]\u001B[0m\n",
      "tests/test_ops.py::test_op_softmax[backward-cpu-x_shape0-0] \u001B[32mPASSED\u001B[0m\u001B[36m       [ 58%]\u001B[0m\n",
      "tests/test_ops.py::test_op_softmax[backward-cpu-x_shape1-1] \u001B[32mPASSED\u001B[0m\u001B[36m       [ 66%]\u001B[0m\n",
      "tests/test_ops.py::test_op_softmax[backward-cpu-x_shape2-1] \u001B[32mPASSED\u001B[0m\u001B[36m       [ 75%]\u001B[0m\n",
      "tests/test_ops.py::test_op_softmax[backward-cuda-x_shape0-0] \u001B[32mPASSED\u001B[0m\u001B[36m      [ 83%]\u001B[0m\n",
      "tests/test_ops.py::test_op_softmax[backward-cuda-x_shape1-1] \u001B[32mPASSED\u001B[0m\u001B[36m      [ 91%]\u001B[0m\n",
      "tests/test_ops.py::test_op_softmax[backward-cuda-x_shape2-1] \u001B[32mPASSED\u001B[0m\u001B[36m      [100%]\u001B[0m\n",
      "\n",
      "\u001B[32m\u001B[1m================== 12 passed, 132 deselected in 2.81 seconds ===================\u001B[0m\n"
     ]
    }
   ]
  },
  {
   "cell_type": "markdown",
   "source": [
    "### Batch Matrix Multiplication\n",
    "\n",
    "The `needle.ops.bmm` is implemented to compute a batch matrix-matrix product of matrices. This operator function is verified by [`torch.bmm`](https://pytorch.org/docs/stable/generated/torch.bmm.html)."
   ],
   "metadata": {
    "id": "Nyo1UrkWfGS2"
   }
  },
  {
   "cell_type": "code",
   "source": [
    "!python3 -m pytest -l -v -k \"op_bmm\""
   ],
   "metadata": {
    "colab": {
     "base_uri": "https://localhost:8080/"
    },
    "id": "XJ0piw54UW0y",
    "outputId": "838222fc-23d9-447a-8eee-f9e333a1b15f"
   },
   "execution_count": null,
   "outputs": [
    {
     "output_type": "stream",
     "name": "stdout",
     "text": [
      "\u001B[1m============================= test session starts ==============================\u001B[0m\n",
      "platform linux -- Python 3.8.16, pytest-3.6.4, py-1.11.0, pluggy-0.7.1 -- /usr/bin/python3\n",
      "cachedir: .pytest_cache\n",
      "rootdir: /content/drive/MyDrive/10714/project, inifile:\n",
      "plugins: typeguard-2.7.1\n",
      "collected 144 items / 136 deselected                                           \u001B[0m\n",
      "\n",
      "tests/test_ops.py::test_op_bmm[forward-cpu-A_shape0-B_shape0] \u001B[32mPASSED\u001B[0m\u001B[36m     [ 12%]\u001B[0m\n",
      "tests/test_ops.py::test_op_bmm[forward-cpu-A_shape1-B_shape1] \u001B[32mPASSED\u001B[0m\u001B[36m     [ 25%]\u001B[0m\n",
      "tests/test_ops.py::test_op_bmm[forward-cuda-A_shape0-B_shape0] \u001B[32mPASSED\u001B[0m\u001B[36m    [ 37%]\u001B[0m\n",
      "tests/test_ops.py::test_op_bmm[forward-cuda-A_shape1-B_shape1] \u001B[32mPASSED\u001B[0m\u001B[36m    [ 50%]\u001B[0m\n",
      "tests/test_ops.py::test_op_bmm[backward-cpu-A_shape0-B_shape0] \u001B[32mPASSED\u001B[0m\u001B[36m    [ 62%]\u001B[0m\n",
      "tests/test_ops.py::test_op_bmm[backward-cpu-A_shape1-B_shape1] \u001B[32mPASSED\u001B[0m\u001B[36m    [ 75%]\u001B[0m\n",
      "tests/test_ops.py::test_op_bmm[backward-cuda-A_shape0-B_shape0] \u001B[32mPASSED\u001B[0m\u001B[36m   [ 87%]\u001B[0m\n",
      "tests/test_ops.py::test_op_bmm[backward-cuda-A_shape1-B_shape1] \u001B[32mPASSED\u001B[0m\u001B[36m   [100%]\u001B[0m\n",
      "\n",
      "\u001B[32m\u001B[1m=================== 8 passed, 136 deselected in 2.51 seconds ===================\u001B[0m\n"
     ]
    }
   ]
  },
  {
   "cell_type": "markdown",
   "source": [
    "### Matrix Inverse\n",
    "\n",
    "The `needle.ops.Inverse` and `needle.ops.inv` are implemented to compute the inverse of a square matrix. The reverse mode can be calculatedc by $ \\bar{A} = - C^{T} \\bar{C} C^{T} $, where $ C = A^{-1} $. This operator function is verified by [`torch.linalg.inv`](https://pytorch.org/docs/stable/generated/torch.linalg.inv.html)."
   ],
   "metadata": {
    "id": "9yW5Qo5DfNkt"
   }
  },
  {
   "cell_type": "code",
   "source": [
    "!python3 -m pytest -l -v -k \"op_inv\""
   ],
   "metadata": {
    "colab": {
     "base_uri": "https://localhost:8080/"
    },
    "id": "FeVPaPPV_B-Q",
    "outputId": "bacde985-20e8-42f3-9c49-c119950d3929"
   },
   "execution_count": null,
   "outputs": [
    {
     "output_type": "stream",
     "name": "stdout",
     "text": [
      "\u001B[1m============================= test session starts ==============================\u001B[0m\n",
      "platform linux -- Python 3.8.16, pytest-3.6.4, py-1.11.0, pluggy-0.7.1 -- /usr/bin/python3\n",
      "cachedir: .pytest_cache\n",
      "rootdir: /content/drive/MyDrive/10714/project, inifile:\n",
      "plugins: typeguard-2.7.1\n",
      "collected 144 items / 136 deselected                                           \u001B[0m\n",
      "\n",
      "tests/test_ops.py::test_op_inv[forward-cpu-A_shape0] \u001B[32mPASSED\u001B[0m\u001B[36m              [ 12%]\u001B[0m\n",
      "tests/test_ops.py::test_op_inv[forward-cpu-A_shape1] \u001B[32mPASSED\u001B[0m\u001B[36m              [ 25%]\u001B[0m\n",
      "tests/test_ops.py::test_op_inv[forward-cuda-A_shape0] \u001B[32mPASSED\u001B[0m\u001B[36m             [ 37%]\u001B[0m\n",
      "tests/test_ops.py::test_op_inv[forward-cuda-A_shape1] \u001B[32mPASSED\u001B[0m\u001B[36m             [ 50%]\u001B[0m\n",
      "tests/test_ops.py::test_op_inv[backward-cpu-A_shape0] \u001B[32mPASSED\u001B[0m\u001B[36m             [ 62%]\u001B[0m\n",
      "tests/test_ops.py::test_op_inv[backward-cpu-A_shape1] \u001B[32mPASSED\u001B[0m\u001B[36m             [ 75%]\u001B[0m\n",
      "tests/test_ops.py::test_op_inv[backward-cuda-A_shape0] \u001B[32mPASSED\u001B[0m\u001B[36m            [ 87%]\u001B[0m\n",
      "tests/test_ops.py::test_op_inv[backward-cuda-A_shape1] \u001B[32mPASSED\u001B[0m\u001B[36m            [100%]\u001B[0m\n",
      "\n",
      "\u001B[32m\u001B[1m=================== 8 passed, 136 deselected in 2.52 seconds ===================\u001B[0m\n"
     ]
    }
   ]
  },
  {
   "cell_type": "markdown",
   "source": [
    "### Matrix Determinant\n",
    "\n",
    "The `needle.ops.Det` and `needle.ops.det` are implemented to compute the determinant of a square matrix. The reverse mode can be calculatedc by $ \\bar{A} = \\bar{C} C A^{-T} $, where $ C = \\text{det} A $. This operator function is verified by [`torch.linalg.det`](https://pytorch.org/docs/stable/generated/torch.linalg.det.html)."
   ],
   "metadata": {
    "id": "_cEyCLJSfPaq"
   }
  },
  {
   "cell_type": "code",
   "source": [
    "!python3 -m pytest -l -v -k \"op_det\""
   ],
   "metadata": {
    "colab": {
     "base_uri": "https://localhost:8080/"
    },
    "id": "m5pta9q__BC6",
    "outputId": "970dea1e-c9ab-4770-dc26-988e2d88f7c4"
   },
   "execution_count": null,
   "outputs": [
    {
     "output_type": "stream",
     "name": "stdout",
     "text": [
      "\u001B[1m============================= test session starts ==============================\u001B[0m\n",
      "platform linux -- Python 3.8.16, pytest-3.6.4, py-1.11.0, pluggy-0.7.1 -- /usr/bin/python3\n",
      "cachedir: .pytest_cache\n",
      "rootdir: /content/drive/MyDrive/10714/project, inifile:\n",
      "plugins: typeguard-2.7.1\n",
      "collected 144 items / 136 deselected                                           \u001B[0m\n",
      "\n",
      "tests/test_ops.py::test_op_det[forward-cpu-A_shape0] \u001B[32mPASSED\u001B[0m\u001B[36m              [ 12%]\u001B[0m\n",
      "tests/test_ops.py::test_op_det[forward-cpu-A_shape1] \u001B[32mPASSED\u001B[0m\u001B[36m              [ 25%]\u001B[0m\n",
      "tests/test_ops.py::test_op_det[forward-cuda-A_shape0] \u001B[32mPASSED\u001B[0m\u001B[36m             [ 37%]\u001B[0m\n",
      "tests/test_ops.py::test_op_det[forward-cuda-A_shape1] \u001B[32mPASSED\u001B[0m\u001B[36m             [ 50%]\u001B[0m\n",
      "tests/test_ops.py::test_op_det[backward-cpu-A_shape0] \u001B[32mPASSED\u001B[0m\u001B[36m             [ 62%]\u001B[0m\n",
      "tests/test_ops.py::test_op_det[backward-cpu-A_shape1] \u001B[32mPASSED\u001B[0m\u001B[36m             [ 75%]\u001B[0m\n",
      "tests/test_ops.py::test_op_det[backward-cuda-A_shape0] \u001B[32mPASSED\u001B[0m\u001B[36m            [ 87%]\u001B[0m\n",
      "tests/test_ops.py::test_op_det[backward-cuda-A_shape1] \u001B[32mPASSED\u001B[0m\u001B[36m            [100%]\u001B[0m\n",
      "\n",
      "\u001B[32m\u001B[1m=================== 8 passed, 136 deselected in 2.44 seconds ===================\u001B[0m\n"
     ]
    }
   ]
  },
  {
   "cell_type": "markdown",
   "source": [
    "### Matrix Diagonal\n",
    "\n",
    "The `needle.ops.Diagonal` and `needle.ops.diagonal` are implemented to get the diagonal of a square matrix. This operator function is verified by [`torch.diag`](https://pytorch.org/docs/stable/generated/torch.diag.html)."
   ],
   "metadata": {
    "id": "FB45s2TjfVv3"
   }
  },
  {
   "cell_type": "code",
   "source": [
    "!python3 -m pytest -l -v -k \"op_diagonal\""
   ],
   "metadata": {
    "colab": {
     "base_uri": "https://localhost:8080/"
    },
    "id": "lW-c2bQik-yE",
    "outputId": "3fba3c23-8542-4350-c0a5-f97800e080fc"
   },
   "execution_count": null,
   "outputs": [
    {
     "output_type": "stream",
     "name": "stdout",
     "text": [
      "\u001B[1m============================= test session starts ==============================\u001B[0m\n",
      "platform linux -- Python 3.8.16, pytest-3.6.4, py-1.11.0, pluggy-0.7.1 -- /usr/bin/python3\n",
      "cachedir: .pytest_cache\n",
      "rootdir: /content/drive/MyDrive/10714/project, inifile:\n",
      "plugins: typeguard-2.7.1\n",
      "collected 144 items / 140 deselected                                           \u001B[0m\n",
      "\n",
      "tests/test_ops.py::test_op_diagonal[forward-cpu-A_shape0] \u001B[32mPASSED\u001B[0m\u001B[36m         [ 25%]\u001B[0m\n",
      "tests/test_ops.py::test_op_diagonal[forward-cuda-A_shape0] \u001B[32mPASSED\u001B[0m\u001B[36m        [ 50%]\u001B[0m\n",
      "tests/test_ops.py::test_op_diagonal[backward-cpu-A_shape0] \u001B[32mPASSED\u001B[0m\u001B[36m        [ 75%]\u001B[0m\n",
      "tests/test_ops.py::test_op_diagonal[backward-cuda-A_shape0] \u001B[32mPASSED\u001B[0m\u001B[36m       [100%]\u001B[0m\n",
      "\n",
      "\u001B[32m\u001B[1m=================== 4 passed, 140 deselected in 3.27 seconds ===================\u001B[0m\n"
     ]
    }
   ]
  },
  {
   "cell_type": "markdown",
   "source": [
    "### Cholesky Decomposition\n",
    "\n",
    "The Cholesky decomposition a symmetric positive definite matrix $ \\Sigma $ is to compute the unique lower-triangular matrix $ L $ with positive diagonal elements such that $ \\Sigma = L L^{T} $. The reverse mode of the Cholesky decomposition can be obtained by $ \\text{tril}{\\bar{\\Sigma}} = \\Phi \\left( L^{-T} \\left( P + P^{T} \\right) L^{-1} \\right) $, where $ P = \\Phi \\left(L^{T} \\bar{L} \\right) $ and $ \\Phi $ takes the lower-triangular part of a matrix and halves its diagonal:\n",
    "$$\n",
    "\\Phi_{ij} (A) = \\begin{cases}\n",
    "A_{ij} & i > j \\\\\n",
    "A_{ii} / 2 & i = j \\\\\n",
    "0 & i < j\n",
    "\\end{cases} .\n",
    "$$\n",
    "The `needle.ops.Cholesky` and `needle.ops.cholesky` are implemented with auxiliary functions `needle.ops.Phi` and `needle.ops.phi`. This operator function is verified by [`torch.cholesky`](https://pytorch.org/docs/stable/generated/torch.cholesky.html)."
   ],
   "metadata": {
    "id": "oUwmhCUJfX9h"
   }
  },
  {
   "cell_type": "code",
   "source": [
    "!python3 -m pytest -l -v -k \"op_cholesky\""
   ],
   "metadata": {
    "colab": {
     "base_uri": "https://localhost:8080/"
    },
    "id": "M4louqzu_Bp-",
    "outputId": "3c53099e-da82-4e4d-e7a7-ecd981e1d065"
   },
   "execution_count": null,
   "outputs": [
    {
     "output_type": "stream",
     "name": "stdout",
     "text": [
      "\u001B[1m============================= test session starts ==============================\u001B[0m\n",
      "platform linux -- Python 3.8.16, pytest-3.6.4, py-1.11.0, pluggy-0.7.1 -- /usr/bin/python3\n",
      "cachedir: .pytest_cache\n",
      "rootdir: /content/drive/MyDrive/10714/project, inifile:\n",
      "plugins: typeguard-2.7.1\n",
      "collected 144 items / 136 deselected                                           \u001B[0m\n",
      "\n",
      "tests/test_ops.py::test_op_cholesky[forward-cpu-A_shape0] \u001B[32mPASSED\u001B[0m\u001B[36m         [ 12%]\u001B[0m\n",
      "tests/test_ops.py::test_op_cholesky[forward-cpu-A_shape1] \u001B[32mPASSED\u001B[0m\u001B[36m         [ 25%]\u001B[0m\n",
      "tests/test_ops.py::test_op_cholesky[forward-cuda-A_shape0] \u001B[32mPASSED\u001B[0m\u001B[36m        [ 37%]\u001B[0m\n",
      "tests/test_ops.py::test_op_cholesky[forward-cuda-A_shape1] \u001B[32mPASSED\u001B[0m\u001B[36m        [ 50%]\u001B[0m\n",
      "tests/test_ops.py::test_op_cholesky[backward-cpu-A_shape0] \u001B[32mPASSED\u001B[0m\u001B[36m        [ 62%]\u001B[0m\n",
      "tests/test_ops.py::test_op_cholesky[backward-cpu-A_shape1] \u001B[32mPASSED\u001B[0m\u001B[36m        [ 75%]\u001B[0m\n",
      "tests/test_ops.py::test_op_cholesky[backward-cuda-A_shape0] \u001B[32mPASSED\u001B[0m\u001B[36m       [ 87%]\u001B[0m\n",
      "tests/test_ops.py::test_op_cholesky[backward-cuda-A_shape1] \u001B[32mPASSED\u001B[0m\u001B[36m       [100%]\u001B[0m\n",
      "\n",
      "\u001B[32m\u001B[1m=================== 8 passed, 136 deselected in 2.77 seconds ===================\u001B[0m\n"
     ]
    }
   ]
  },
  {
   "cell_type": "markdown",
   "source": [
    "## Deep Autoencoding Gaussian Mixture Model\n",
    "\n",
    "The Deep Autoencoding Gaussian Mixture Model (DAGMM) `DAGMM` is implemented in `apps/models.py`."
   ],
   "metadata": {
    "id": "xY7_DzU6dBEH"
   }
  },
  {
   "cell_type": "markdown",
   "source": [
    "### Model Overview\n",
    "\n",
    "Deep Autoencoding Gaussian Mixture Model (DAGMM):\n",
    "* A compression network, and \n",
    "* An estimation network."
   ],
   "metadata": {
    "id": "LGGPx7mjfhGC"
   }
  },
  {
   "cell_type": "markdown",
   "source": [
    "### Compression Network\n",
    "\n",
    "Encoder: $ \\mathbf{z}_c = h \\left( \\mathbf{x}; \\theta_e \\right) $, where $ \\theta_e $ is the parameter of the encoder.\n",
    "\n",
    "Decoder: $ \\mathbf{x}' = g \\left( \\mathbf{z}_c; \\theta_d \\right) $, where $ \\theta_d $ is the parameter of the decoder.\n",
    "\n",
    "Reconstruction features: $ \\mathbf{z}_r = f(\\mathbf{x}, \\mathbf{x}') $, where the relative Euclidean distance $ \\frac{\\lVert \\mathbf{x} - \\mathbf{x}' \\rVert_2}{\\lVert \\mathbf{x} \\rVert_2} $ and cosine similarity $ \\frac{\\mathbf{x} \\cdot \\mathbf{x}'}{\\lVert \\mathbf{x} \\rVert_2 \\lVert \\mathbf{x}' \\rVert_2} $ are used. \n",
    "\n",
    "Low-dimensional representation: $ \\mathbf{z} = \\left[ \\mathbf{z}_c, \\mathbf{z}_r \\right] $.\n"
   ],
   "metadata": {
    "id": "M-NmZ-0Zgjpr"
   }
  },
  {
   "cell_type": "markdown",
   "source": [
    "### Estimation Network\n",
    "\n",
    "Estimation network: $ \\mathbf{p} = \\text{MLN} \\left( \\mathbf{z}; \\theta_m \\right) $, where $ \\theta_m $ is the parameter of the estimation network.\n",
    "\n",
    "Soft mixture component membership prediction: $ \\hat{\\gamma} = \\text{softmax} (\\mathbf{p}) $.\n",
    "\n",
    "Gaussian Mixture Model (GMM) parameters:\n",
    "* Mixture probability: $$ \\hat{\\phi}_k = \\sum_{i=1}^{N} \\frac{\\hat{\\gamma}_{ik}}{N} .$$\n",
    "* Mean: $$ \\hat{\\mu}_k = \\frac{\\sum_{i=1}^{N} \\hat{\\gamma}_{ik} \\mathbf{z}_i}{\\sum_{i=1}^{N} \\hat{\\gamma}_{ik}} . $$\n",
    "* Covariance: $$ \\hat{\\mathbf{\\Sigma}}_k = \\frac{\\sum_{i=1}^{N} \\hat{\\gamma}_{ik} \\left( \\mathbf{z}_i - \\hat{\\mu}_k \\right) \\left( \\mathbf{z}_i - \\hat{\\mu}_k \\right)^{T}}{\\sum_{i=1}^{N} \\hat{\\gamma}_{ik}} . $$\n",
    "\n",
    "Sample energy:\n",
    "$$\n",
    "E(\\mathbf{z}) = - \\log \\left( \\sum_{k=1}^{K} \\hat{\\phi}_k \\frac{\\exp \\left( -\\frac{1}{2} \\left( \\mathbf{z} - \\hat{\\mu}_k \\right)^{T} \\hat{\\mathbf{\\Sigma}}_k^{-1} \\left( \\mathbf{z} - \\hat{\\mu}_k \\right)^{T} \\right)}{\\sqrt{\\left| 2 \\pi \\hat{\\mathbf{\\Sigma}}_k \\right|}} \\right)\n",
    "$$"
   ],
   "metadata": {
    "id": "EjhbbfsSglK7"
   }
  },
  {
   "cell_type": "code",
   "source": [
    "!python3 -m pytest -l -v -k \"gmm_parameters\""
   ],
   "metadata": {
    "colab": {
     "base_uri": "https://localhost:8080/"
    },
    "id": "V0xEg8s1-JK0",
    "outputId": "2060d9d9-838e-473f-8e7b-570c06b0d8c4"
   },
   "execution_count": null,
   "outputs": [
    {
     "output_type": "stream",
     "name": "stdout",
     "text": [
      "\u001B[1m============================= test session starts ==============================\u001B[0m\n",
      "platform linux -- Python 3.8.16, pytest-3.6.4, py-1.11.0, pluggy-0.7.1 -- /usr/bin/python3\n",
      "cachedir: .pytest_cache\n",
      "rootdir: /content/drive/MyDrive/10714/project, inifile:\n",
      "plugins: typeguard-2.7.1\n",
      "collected 144 items / 142 deselected                                           \u001B[0m\n",
      "\n",
      "tests/test_dagmm.py::test_gmm_parameters[cpu-16-120-3-4] \u001B[32mPASSED\u001B[0m\u001B[36m          [ 50%]\u001B[0m\n",
      "tests/test_dagmm.py::test_gmm_parameters[cuda-16-120-3-4] \u001B[32mPASSED\u001B[0m\u001B[36m         [100%]\u001B[0m\n",
      "\n",
      "\u001B[32m\u001B[1m=================== 2 passed, 142 deselected in 2.41 seconds ===================\u001B[0m\n"
     ]
    }
   ]
  },
  {
   "cell_type": "code",
   "source": [
    "!python3 -m pytest -l -v -k \"sample_energy\""
   ],
   "metadata": {
    "colab": {
     "base_uri": "https://localhost:8080/"
    },
    "id": "yqOjKrr1OtCd",
    "outputId": "e5cad530-f197-40aa-b8ca-c5e1cedda733"
   },
   "execution_count": null,
   "outputs": [
    {
     "output_type": "stream",
     "name": "stdout",
     "text": [
      "\u001B[1m============================= test session starts ==============================\u001B[0m\n",
      "platform linux -- Python 3.8.16, pytest-3.6.4, py-1.11.0, pluggy-0.7.1 -- /usr/bin/python3\n",
      "cachedir: .pytest_cache\n",
      "rootdir: /content/drive/MyDrive/10714/project, inifile:\n",
      "plugins: typeguard-2.7.1\n",
      "collected 144 items / 142 deselected                                           \u001B[0m\n",
      "\n",
      "tests/test_dagmm.py::test_sample_energy[cpu-16-120-3-4] \u001B[32mPASSED\u001B[0m\u001B[36m           [ 50%]\u001B[0m\n",
      "tests/test_dagmm.py::test_sample_energy[cuda-16-120-3-4] \u001B[32mPASSED\u001B[0m\u001B[36m          [100%]\u001B[0m\n",
      "\n",
      "\u001B[32m\u001B[1m=================== 2 passed, 142 deselected in 2.49 seconds ===================\u001B[0m\n"
     ]
    }
   ]
  },
  {
   "cell_type": "markdown",
   "source": [
    "### Objective Function\n",
    "\n",
    "Objective function:\n",
    "$$\n",
    "J(\\theta_e, \\theta_d, \\theta_m) = \\frac{1}{N} \\sum_{i=1}{N} L \\left( \\mathbf{x}_i, \\mathbf{x}'_i \\right) + \\frac{\\lambda_1}{N} \\sum_{i=1}{N} E \\left( \\mathbf{z}_i \\right) + \\lambda_2 P \\left( \\hat{\\mathbf{\\Sigma}} \\right) ,\n",
    "$$\n",
    "where $ L \\left( \\mathbf{x}_i, \\mathbf{x}'_i \\right) $ is the reconstruction error, $ E \\left( \\mathbf{z}_i \\right) $ is the sample energy, $ P \\left( \\hat{\\mathbf{\\Sigma}} \\right) $ is the penalty loss for the diagonal entries of the covariance  matrix: $ P \\left( \\hat{\\mathbf{\\Sigma}} \\right) = \\sum_{k=1}^{K} \\sum_{j=1}^{d} \\frac{1}{\\hat{\\mathbf{\\Sigma}}_{kjj}} $, and the meta parameters are $ \\lambda_1 = 0.1 $ and $ \\lambda_2 = 0.005 $."
   ],
   "metadata": {
    "id": "1dygiDhNfwBI"
   }
  },
  {
   "cell_type": "code",
   "source": [
    "!python3 -m pytest -l -v -k \"model_dagmm\""
   ],
   "metadata": {
    "colab": {
     "base_uri": "https://localhost:8080/"
    },
    "id": "KVvSidHf5DUl",
    "outputId": "106c8f6a-7966-44a4-fb8c-8c0bfa9c9180"
   },
   "execution_count": null,
   "outputs": [
    {
     "output_type": "stream",
     "name": "stdout",
     "text": [
      "\u001B[1m============================= test session starts ==============================\u001B[0m\n",
      "platform linux -- Python 3.8.16, pytest-3.6.4, py-1.11.0, pluggy-0.7.1 -- /usr/bin/python3\n",
      "cachedir: .pytest_cache\n",
      "rootdir: /content/drive/MyDrive/10714/project, inifile:\n",
      "plugins: typeguard-2.7.1\n",
      "collected 144 items / 142 deselected                                           \u001B[0m\n",
      "\n",
      "tests/test_dagmm.py::test_model_dagmm[cpu-16-120-3-4] \u001B[32mPASSED\u001B[0m\u001B[36m             [ 50%]\u001B[0m\n",
      "tests/test_dagmm.py::test_model_dagmm[cuda-16-120-3-4] \u001B[32mPASSED\u001B[0m\u001B[36m            [100%]\u001B[0m\n",
      "\n",
      "\u001B[32m\u001B[1m=================== 2 passed, 142 deselected in 2.48 seconds ===================\u001B[0m\n"
     ]
    }
   ]
  },
  {
   "cell_type": "markdown",
   "source": [],
   "metadata": {
    "id": "R9Ln44F8dJ5q"
   }
  },
  {
   "cell_type": "markdown",
   "source": [
    "## Experiment"
   ],
   "metadata": {
    "id": "fngn2shfdMYY"
   }
  },
  {
   "cell_type": "markdown",
   "source": [
    "### KDD CUP Dataset\n",
    "\n",
    "The KDD CUP 1999 Dataset `KDDCUPDataset` is implemented in `python/needle/data.py`."
   ],
   "metadata": {
    "id": "h6LGiyAwf78A"
   }
  },
  {
   "cell_type": "code",
   "source": [
    "!python3 -m pytest -l -v -k \"kdd_cup_dataset\""
   ],
   "metadata": {
    "colab": {
     "base_uri": "https://localhost:8080/"
    },
    "id": "Jay4hvQBlGVj",
    "outputId": "b4c93103-0064-4727-dd8b-c62e377da2b9"
   },
   "execution_count": 29,
   "outputs": [
    {
     "output_type": "stream",
     "name": "stdout",
     "text": [
      "\u001B[1m============================= test session starts ==============================\u001B[0m\n",
      "platform linux -- Python 3.8.16, pytest-3.6.4, py-1.11.0, pluggy-0.7.1 -- /usr/bin/python3\n",
      "cachedir: .pytest_cache\n",
      "rootdir: /content/drive/MyDrive/10714/project, inifile:\n",
      "plugins: typeguard-2.7.1\n",
      "collected 144 items / 142 deselected                                           \u001B[0m\n",
      "\n",
      "tests/test_dataset.py::test_kdd_cup_dataset[True] \u001B[32mPASSED\u001B[0m\u001B[36m                 [ 50%]\u001B[0m\n",
      "tests/test_dataset.py::test_kdd_cup_dataset[False] \u001B[32mPASSED\u001B[0m\u001B[36m                [100%]\u001B[0m\n",
      "\n",
      "\u001B[32m\u001B[1m=================== 2 passed, 142 deselected in 7.73 seconds ===================\u001B[0m\n"
     ]
    }
   ]
  },
  {
   "cell_type": "code",
   "source": [
    "!python3 -m pytest -l -v -k \"kdd_cup_dataloader\""
   ],
   "metadata": {
    "colab": {
     "base_uri": "https://localhost:8080/"
    },
    "id": "jDDYESVqlO6I",
    "outputId": "9f03766f-1e2d-43dd-f23e-3aa8889c8b2b"
   },
   "execution_count": 30,
   "outputs": [
    {
     "output_type": "stream",
     "name": "stdout",
     "text": [
      "\u001B[1m============================= test session starts ==============================\u001B[0m\n",
      "platform linux -- Python 3.8.16, pytest-3.6.4, py-1.11.0, pluggy-0.7.1 -- /usr/bin/python3\n",
      "cachedir: .pytest_cache\n",
      "rootdir: /content/drive/MyDrive/10714/project, inifile:\n",
      "plugins: typeguard-2.7.1\n",
      "collected 144 items / 136 deselected                                           \u001B[0m\n",
      "\n",
      "tests/test_dataset.py::test_kdd_cup_dataloader[cpu-True-1] \u001B[32mPASSED\u001B[0m\u001B[36m        [ 12%]\u001B[0m\n",
      "tests/test_dataset.py::test_kdd_cup_dataloader[cpu-True-16] \u001B[32mPASSED\u001B[0m\u001B[36m       [ 25%]\u001B[0m\n",
      "tests/test_dataset.py::test_kdd_cup_dataloader[cpu-False-1] \u001B[32mPASSED\u001B[0m\u001B[36m       [ 37%]\u001B[0m\n",
      "tests/test_dataset.py::test_kdd_cup_dataloader[cpu-False-16] \u001B[32mPASSED\u001B[0m\u001B[36m      [ 50%]\u001B[0m\n",
      "tests/test_dataset.py::test_kdd_cup_dataloader[cuda-True-1] \u001B[32mPASSED\u001B[0m\u001B[36m       [ 62%]\u001B[0m\n",
      "tests/test_dataset.py::test_kdd_cup_dataloader[cuda-True-16] \u001B[32mPASSED\u001B[0m\u001B[36m      [ 75%]\u001B[0m\n",
      "tests/test_dataset.py::test_kdd_cup_dataloader[cuda-False-1] \u001B[32mPASSED\u001B[0m\u001B[36m      [ 87%]\u001B[0m\n",
      "tests/test_dataset.py::test_kdd_cup_dataloader[cuda-False-16] \u001B[32mPASSED\u001B[0m\u001B[36m     [100%]\u001B[0m\n",
      "\n",
      "\u001B[32m\u001B[1m================== 8 passed, 136 deselected in 12.07 seconds ===================\u001B[0m\n"
     ]
    }
   ]
  },
  {
   "cell_type": "markdown",
   "source": [
    "### Model Training"
   ],
   "metadata": {
    "id": "yxCJjZefgB1n"
   }
  },
  {
   "cell_type": "code",
   "source": [
    "import sys\n",
    "sys.path.append('./python')\n",
    "sys.path.append('./apps')\n",
    "import numpy as np\n",
    "import needle as ndl\n",
    "from models import DAGMM\n",
    "from training import train_kdd_cup, evaluate_kdd_cup"
   ],
   "metadata": {
    "id": "AmsAp4LKTHFn"
   },
   "execution_count": 2,
   "outputs": []
  },
  {
   "cell_type": "code",
   "source": [
    "device = ndl.cuda()\n",
    "dataset_train = ndl.data.KDDCUPDataset(train=True, train_ratio=0.5, sample_ratio=0.01)\n",
    "dataset_test = ndl.data.KDDCUPDataset(train=False, train_ratio=0.5, sample_ratio=0.01)"
   ],
   "metadata": {
    "id": "cdmqlO0bTKAT"
   },
   "execution_count": 3,
   "outputs": []
  },
  {
   "cell_type": "code",
   "source": [
    "dataloader_train = ndl.data.DataLoader(\n",
    "    dataset=dataset_train,\n",
    "    batch_size=64,\n",
    "    shuffle=True,\n",
    "    device=device,\n",
    "    dtype=\"float32\")\n",
    "dataloader_test = ndl.data.DataLoader(\n",
    "    dataset=dataset_test,\n",
    "    batch_size=64,\n",
    "    shuffle=False,\n",
    "    device=device,\n",
    "    dtype=\"float32\")"
   ],
   "metadata": {
    "id": "exIXYRfeJYY9"
   },
   "execution_count": 4,
   "outputs": []
  },
  {
   "cell_type": "code",
   "source": [
    "model = DAGMM(device=device, dtype=\"float32\")"
   ],
   "metadata": {
    "id": "4RP69d1BTQyL"
   },
   "execution_count": 5,
   "outputs": []
  },
  {
   "cell_type": "code",
   "source": [
    "_, energies_train, targets_train = train_kdd_cup(\n",
    "    model, dataloader_train, n_epochs=1, optimizer=ndl.optim.Adam,\n",
    "    lr=0.0001, weight_decay=0.001, verbose=True, print_step=1)"
   ],
   "metadata": {
    "id": "Icu8Su8_UHaf",
    "colab": {
     "base_uri": "https://localhost:8080/"
    },
    "outputId": "f58c8e3e-4e22-4e89-adf3-b48e74e94f71"
   },
   "execution_count": 6,
   "outputs": [
    {
     "output_type": "stream",
     "name": "stdout",
     "text": [
      "Batch [1/38]: loss = 17.3992, time = 0:00:07\n",
      "Batch [2/38]: loss = 16.8924, time = 0:00:13\n",
      "Batch [3/38]: loss = 15.9807, time = 0:00:17\n",
      "Batch [4/38]: loss = 15.8043, time = 0:00:21\n",
      "Batch [5/38]: loss = 15.7920, time = 0:00:25\n",
      "Batch [6/38]: loss = 15.4827, time = 0:00:29\n",
      "Batch [7/38]: loss = 15.2779, time = 0:00:33\n",
      "Batch [8/38]: loss = 15.3148, time = 0:00:37\n",
      "Batch [9/38]: loss = 15.0179, time = 0:00:41\n",
      "Batch [10/38]: loss = 14.9582, time = 0:00:45\n",
      "Batch [11/38]: loss = 14.8771, time = 0:00:49\n",
      "Batch [12/38]: loss = 14.7611, time = 0:00:54\n",
      "Batch [13/38]: loss = 14.6472, time = 0:00:58\n",
      "Batch [14/38]: loss = 14.4973, time = 0:01:02\n",
      "Batch [15/38]: loss = 14.4231, time = 0:01:06\n",
      "Batch [16/38]: loss = 14.4259, time = 0:01:10\n",
      "Batch [17/38]: loss = 14.4145, time = 0:01:14\n",
      "Batch [18/38]: loss = 14.2861, time = 0:01:19\n",
      "Batch [19/38]: loss = 14.2417, time = 0:01:23\n",
      "Batch [20/38]: loss = 14.0976, time = 0:01:27\n",
      "Batch [21/38]: loss = 14.0153, time = 0:01:32\n",
      "Batch [22/38]: loss = 13.9483, time = 0:01:36\n",
      "Batch [23/38]: loss = 13.9176, time = 0:01:40\n",
      "Batch [24/38]: loss = 13.8199, time = 0:01:44\n",
      "Batch [25/38]: loss = 13.7180, time = 0:01:48\n",
      "Batch [26/38]: loss = 13.6970, time = 0:01:52\n",
      "Batch [27/38]: loss = 13.6204, time = 0:01:56\n",
      "Batch [28/38]: loss = 13.5715, time = 0:02:00\n",
      "Batch [29/38]: loss = 13.5812, time = 0:02:04\n",
      "Batch [30/38]: loss = 13.5318, time = 0:02:08\n",
      "Batch [31/38]: loss = 13.5347, time = 0:02:12\n",
      "Batch [32/38]: loss = 13.5554, time = 0:02:16\n",
      "Batch [33/38]: loss = 13.5008, time = 0:02:20\n",
      "Batch [34/38]: loss = 13.4466, time = 0:02:24\n",
      "Batch [35/38]: loss = 13.4653, time = 0:02:28\n",
      "Batch [36/38]: loss = 13.4098, time = 0:02:32\n",
      "Batch [37/38]: loss = 13.3427, time = 0:02:36\n",
      "Batch [38/38]: loss = 13.2631, time = 0:02:40\n",
      "Batch [39/38]: loss = 13.2777, time = 0:02:42\n",
      "Batch [1/1]: loss = 13.2777, time = 0:02:42\n"
     ]
    }
   ]
  },
  {
   "cell_type": "code",
   "source": [
    "_, energies_test, targets_test = evaluate_kdd_cup(\n",
    "    model, dataloader_test, verbose=True, print_step=1)"
   ],
   "metadata": {
    "id": "KZuks9meUHzV",
    "colab": {
     "base_uri": "https://localhost:8080/"
    },
    "outputId": "559fc29b-b167-46bc-f1dc-8667e4ccc9f7"
   },
   "execution_count": 7,
   "outputs": [
    {
     "output_type": "stream",
     "name": "stdout",
     "text": [
      "Batch [1/38]: loss = 12.1465, time = 0:00:00\n",
      "Batch [2/38]: loss = 12.9145, time = 0:00:00\n",
      "Batch [3/38]: loss = 12.4002, time = 0:00:01\n",
      "Batch [4/38]: loss = 12.2214, time = 0:00:01\n",
      "Batch [5/38]: loss = 11.8747, time = 0:00:01\n",
      "Batch [6/38]: loss = 12.0245, time = 0:00:01\n",
      "Batch [7/38]: loss = 11.9278, time = 0:00:02\n",
      "Batch [8/38]: loss = 11.9990, time = 0:00:02\n",
      "Batch [9/38]: loss = 11.8737, time = 0:00:02\n",
      "Batch [10/38]: loss = 11.8550, time = 0:00:02\n",
      "Batch [11/38]: loss = 11.7414, time = 0:00:02\n",
      "Batch [12/38]: loss = 11.7785, time = 0:00:03\n",
      "Batch [13/38]: loss = 11.8043, time = 0:00:03\n",
      "Batch [14/38]: loss = 11.8348, time = 0:00:03\n",
      "Batch [15/38]: loss = 11.7961, time = 0:00:03\n",
      "Batch [16/38]: loss = 11.9093, time = 0:00:04\n",
      "Batch [17/38]: loss = 11.9042, time = 0:00:04\n",
      "Batch [18/38]: loss = 11.9788, time = 0:00:04\n",
      "Batch [19/38]: loss = 12.0073, time = 0:00:04\n",
      "Batch [20/38]: loss = 11.9615, time = 0:00:04\n",
      "Batch [21/38]: loss = 11.9214, time = 0:00:05\n",
      "Batch [22/38]: loss = 11.8508, time = 0:00:05\n",
      "Batch [23/38]: loss = 11.8295, time = 0:00:05\n",
      "Batch [24/38]: loss = 12.2970, time = 0:00:05\n",
      "Batch [25/38]: loss = 14.1229, time = 0:00:06\n",
      "Batch [26/38]: loss = 16.5735, time = 0:00:06\n",
      "Batch [27/38]: loss = 18.7626, time = 0:00:06\n",
      "Batch [28/38]: loss = 20.3369, time = 0:00:06\n",
      "Batch [29/38]: loss = 22.2208, time = 0:00:06\n",
      "Batch [30/38]: loss = 24.0062, time = 0:00:07\n",
      "Batch [31/38]: loss = 26.4393, time = 0:00:07\n",
      "Batch [32/38]: loss = 28.3126, time = 0:00:07\n",
      "Batch [33/38]: loss = 29.7168, time = 0:00:07\n",
      "Batch [34/38]: loss = 31.2931, time = 0:00:08\n",
      "Batch [35/38]: loss = 31.9585, time = 0:00:08\n",
      "Batch [36/38]: loss = 34.4167, time = 0:00:08\n",
      "Batch [37/38]: loss = 34.9477, time = 0:00:08\n",
      "Batch [38/38]: loss = 35.6020, time = 0:00:08\n",
      "Batch [39/38]: loss = 35.8746, time = 0:00:09\n"
     ]
    }
   ]
  },
  {
   "cell_type": "code",
   "source": [
    "energy_threshold = np.percentile(energies_test, 60)\n",
    "preds_test = (energies_test > energy_threshold).astype(int)\n",
    "targets_test = targets_test.astype(int)"
   ],
   "metadata": {
    "id": "A68T8szd-r_i"
   },
   "execution_count": 57,
   "outputs": []
  },
  {
   "cell_type": "markdown",
   "source": [
    "### Experiment Results"
   ],
   "metadata": {
    "id": "HicvCuRTgM-p"
   }
  },
  {
   "cell_type": "code",
   "source": [
    "from sklearn.metrics import classification_report, ConfusionMatrixDisplay\n",
    "print(classification_report(y_true=targets_test, y_pred=preds_test))"
   ],
   "metadata": {
    "colab": {
     "base_uri": "https://localhost:8080/"
    },
    "id": "NUz2JArACy_3",
    "outputId": "50539b09-2c07-41b5-9625-ee44502ec882"
   },
   "execution_count": 58,
   "outputs": [
    {
     "output_type": "stream",
     "name": "stdout",
     "text": [
      "              precision    recall  f1-score   support\n",
      "\n",
      "           0       0.50      0.50      0.50      1498\n",
      "           1       0.22      0.22      0.22       972\n",
      "\n",
      "    accuracy                           0.39      2470\n",
      "   macro avg       0.36      0.36      0.36      2470\n",
      "weighted avg       0.39      0.39      0.39      2470\n",
      "\n"
     ]
    }
   ]
  },
  {
   "cell_type": "code",
   "source": [
    "ConfusionMatrixDisplay.from_predictions(\n",
    "    y_true=targets_test, y_pred=preds_test)"
   ],
   "metadata": {
    "colab": {
     "base_uri": "https://localhost:8080/",
     "height": 297
    },
    "id": "4y1p6VdVDHEp",
    "outputId": "d06f7987-11b0-4e61-c64b-306094b6f67d"
   },
   "execution_count": 59,
   "outputs": [
    {
     "output_type": "execute_result",
     "data": {
      "text/plain": [
       "<sklearn.metrics._plot.confusion_matrix.ConfusionMatrixDisplay at 0x7f8ac441dd60>"
      ]
     },
     "metadata": {},
     "execution_count": 59
    },
    {
     "output_type": "display_data",
     "data": {
      "text/plain": [
       "<Figure size 432x288 with 2 Axes>"
      ],
      "image/png": "[encoded data removed]"
     },
     "metadata": {
      "needs_background": "light"
     }
    }
   ]
  },
  {
   "cell_type": "markdown",
   "source": [
    "## Conclusion"
   ],
   "metadata": {
    "id": "xnQHWQnEdoRi"
   }
  },
  {
   "cell_type": "markdown",
   "source": [
    "## References\n",
    "\n",
    "* Deep Autoencoding Gaussian Mixture Model for Unsupervised Anomaly Detection: [paper](https://openreview.net/forum?id=BJJLHbb0-).\n",
    "* Differentiation of the Cholesky decomposition: [paper](https://arxiv.org/abs/1602.07527).\n",
    "* A PyTorch implementation for the Deep Autoencoding Gaussian Mixture Model: [GitHub repository](https://github.com/mperezcarrasco/PyTorch-DAGMM).\n",
    "* Another PyTorch implementation for the Deep Autoencoding Gaussian Mixture Model: [GitHub repository](https://github.com/lixiangwang/DAGMM-pytorch).\n",
    "* Differentiating the Cholesky decomposition: [GitHub repository](https://github.com/imurray/chol-rev).\n",
    "* An extended collection of matrix derivative results for forward and reverse mode algorithmic differentiation: [report](https://people.maths.ox.ac.uk/gilesm/files/NA-08-01.pdf).\n",
    "* PyTorch: [documentation](https://pytorch.org/docs/stable/index.html).\n",
    "* KDD Cup 1999 Data: [dataset](https://archive.ics.uci.edu/ml/datasets/kdd+cup+1999+data).\n",
    "* Loading the KDD Cup 1999 dataset: [API](https://scikit-learn.org/stable/modules/generated/sklearn.datasets.fetch_kddcup99.html).\n"
   ],
   "metadata": {
    "id": "O4QfT2cqdslc"
   }
  }
 ],
 "metadata": {
  "kernelspec": {
   "display_name": "Python 3",
   "language": "python",
   "name": "python3"
  },
  "language_info": {
   "codemirror_mode": {
    "name": "ipython",
    "version": 3
   },
   "file_extension": ".py",
   "mimetype": "text/x-python",
   "name": "python",
   "nbconvert_exporter": "python",
   "pygments_lexer": "ipython3",
   "version": "3.7.4"
  },
  "colab": {
   "provenance": []
  },
  "gpuClass": "standard",
  "accelerator": "GPU"
 },
 "nbformat": 4,
 "nbformat_minor": 0
}