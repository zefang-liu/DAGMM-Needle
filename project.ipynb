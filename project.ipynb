{
  "cells": [
    {
      "cell_type": "markdown",
      "metadata": {
        "id": "tYti3NYwC9Fc"
      },
      "source": [
        "# 10-714 Project: Needle-DAGMM\n",
        "\n",
        "Needle (NEcessary Elements of Deep Learning) Implementation for the Deep Autoencoding Gaussian Mixture Model (DAGMM)"
      ]
    },
    {
      "cell_type": "markdown",
      "source": [
        "## Introduction"
      ],
      "metadata": {
        "id": "QgpQwtQOdVl0"
      }
    },
    {
      "cell_type": "code",
      "execution_count": 1,
      "metadata": {
        "id": "QsmQ1wfxC9Fe",
        "colab": {
          "base_uri": "https://localhost:8080/"
        },
        "outputId": "b4d1cc5c-7cf2-485f-e4eb-bcc31e38cce6"
      },
      "outputs": [
        {
          "output_type": "stream",
          "name": "stdout",
          "text": [
            "Drive already mounted at /content/drive; to attempt to forcibly remount, call drive.mount(\"/content/drive\", force_remount=True).\n",
            "/content/drive/MyDrive\n",
            "/content/drive/MyDrive/10714/project\n",
            "Looking in indexes: https://pypi.org/simple, https://us-python.pkg.dev/colab-wheels/public/simple/\n",
            "Collecting pybind11\n",
            "  Downloading pybind11-2.10.2-py3-none-any.whl (222 kB)\n",
            "\u001b[K     |████████████████████████████████| 222 kB 30.7 MB/s \n",
            "\u001b[?25hInstalling collected packages: pybind11\n",
            "Successfully installed pybind11-2.10.2\n"
          ]
        }
      ],
      "source": [
        "from google.colab import drive\n",
        "drive.mount('/content/drive')\n",
        "%cd /content/drive/MyDrive/\n",
        "!mkdir -p 10714\n",
        "%cd /content/drive/MyDrive/10714/project\n",
        "!pip3 install pybind11"
      ]
    },
    {
      "cell_type": "code",
      "execution_count": 2,
      "metadata": {
        "id": "NRCrMddoC9Ff",
        "colab": {
          "base_uri": "https://localhost:8080/"
        },
        "outputId": "94a4b04b-d488-4dcb-830d-ece602fcc199"
      },
      "outputs": [
        {
          "output_type": "stream",
          "name": "stdout",
          "text": [
            "-- Found pybind11: /usr/local/lib/python3.8/dist-packages/pybind11/include (found version \"2.10.2\")\n",
            "-- Found cuda, building cuda backend\n",
            "Sun Dec 25 00:27:01 2022       \n",
            "+-----------------------------------------------------------------------------+\n",
            "| NVIDIA-SMI 460.32.03    Driver Version: 460.32.03    CUDA Version: 11.2     |\n",
            "|-------------------------------+----------------------+----------------------+\n",
            "| GPU  Name        Persistence-M| Bus-Id        Disp.A | Volatile Uncorr. ECC |\n",
            "| Fan  Temp  Perf  Pwr:Usage/Cap|         Memory-Usage | GPU-Util  Compute M. |\n",
            "|                               |                      |               MIG M. |\n",
            "|===============================+======================+======================|\n",
            "|   0  Tesla T4            Off  | 00000000:00:04.0 Off |                    0 |\n",
            "| N/A   47C    P0    26W /  70W |      0MiB / 15109MiB |      0%      Default |\n",
            "|                               |                      |                  N/A |\n",
            "+-------------------------------+----------------------+----------------------+\n",
            "                                                                               \n",
            "+-----------------------------------------------------------------------------+\n",
            "| Processes:                                                                  |\n",
            "|  GPU   GI   CI        PID   Type   Process name                  GPU Memory |\n",
            "|        ID   ID                                                   Usage      |\n",
            "|=============================================================================|\n",
            "|  No running processes found                                                 |\n",
            "+-----------------------------------------------------------------------------+\n",
            "-- Autodetected CUDA architecture(s):  7.5\n",
            "-- Configuring done\n",
            "-- Generating done\n",
            "-- Build files have been written to: /content/drive/MyDrive/10714/project/build\n",
            "make[1]: Entering directory '/content/drive/MyDrive/10714/project/build'\n",
            "make[2]: Entering directory '/content/drive/MyDrive/10714/project/build'\n",
            "make[3]: Entering directory '/content/drive/MyDrive/10714/project/build'\n",
            "\u001b[35m\u001b[1mConsolidate compiler generated dependencies of target ndarray_backend_cpu\u001b[0m\n",
            "make[3]: Leaving directory '/content/drive/MyDrive/10714/project/build'\n",
            "make[3]: Entering directory '/content/drive/MyDrive/10714/project/build'\n",
            "[-25%] \u001b[32mBuilding CXX object CMakeFiles/ndarray_backend_cpu.dir/src/ndarray_backend_cpu.cc.o\u001b[0m\n",
            "[  0%] \u001b[32m\u001b[1mLinking CXX shared module ../python/needle/backend_ndarray/ndarray_backend_cpu.cpython-38-x86_64-linux-gnu.so\u001b[0m\n",
            "make[3]: Leaving directory '/content/drive/MyDrive/10714/project/build'\n",
            "[  0%] Built target ndarray_backend_cpu\n",
            "make[3]: Entering directory '/content/drive/MyDrive/10714/project/build'\n",
            "[ 25%] \u001b[34m\u001b[1mBuilding NVCC (Device) object CMakeFiles/ndarray_backend_cuda.dir/src/ndarray_backend_cuda_generated_ndarray_backend_cuda.cu.o\u001b[0m\n",
            "make[3]: Leaving directory '/content/drive/MyDrive/10714/project/build'\n",
            "make[3]: Entering directory '/content/drive/MyDrive/10714/project/build'\n",
            "[ 50%] \u001b[32m\u001b[1mLinking CXX shared module ../python/needle/backend_ndarray/ndarray_backend_cuda.cpython-38-x86_64-linux-gnu.so\u001b[0m\n",
            "make[3]: Leaving directory '/content/drive/MyDrive/10714/project/build'\n",
            "[ 50%] Built target ndarray_backend_cuda\n",
            "make[2]: Leaving directory '/content/drive/MyDrive/10714/project/build'\n",
            "make[1]: Leaving directory '/content/drive/MyDrive/10714/project/build'\n"
          ]
        }
      ],
      "source": [
        "!make"
      ]
    },
    {
      "cell_type": "code",
      "execution_count": 3,
      "metadata": {
        "id": "ZvHDK8J5C9Ff"
      },
      "outputs": [],
      "source": [
        "import sys\n",
        "sys.path.append('./python')"
      ]
    },
    {
      "cell_type": "markdown",
      "source": [
        "## Needle Framework\n",
        "\n",
        "The following operators are implemented in `python/needle/ops.py`:\n",
        "\n",
        "- `squeeze`\n",
        "- `unsqueeze`\n",
        "- `bmm`\n",
        "- `norm`\n",
        "- `cosine_similarity`\n",
        "- `pairwise_distance`\n",
        "- `relative_distance`\n",
        "- `softmax`\n",
        "- `Inverse` and `inv`\n",
        "- `Det` and `det`\n",
        "- `Phi` and `phi`\n",
        "- `Cholesky` and `cholesky`\n",
        "\n"
      ],
      "metadata": {
        "id": "QeTe1La1cxH4"
      }
    },
    {
      "cell_type": "markdown",
      "source": [
        "### Squeeze and Unsqueeze\n",
        "\n",
        "The `needle.ops.squeeze` and `needle.ops.unsqueeze` are implemented to compute new tensors with dimensions removed or inserted at the specified position. These operator functions are verified by [`torch.squeeze`](https://pytorch.org/docs/stable/generated/torch.squeeze.html) and [`torch.unsqueeze`](https://pytorch.org/docs/stable/generated/torch.unsqueeze.html)."
      ],
      "metadata": {
        "id": "GIW69z3UewFL"
      }
    },
    {
      "cell_type": "code",
      "source": [
        "!python3 -m pytest -l -v -k \"op_squeeze\""
      ],
      "metadata": {
        "colab": {
          "base_uri": "https://localhost:8080/"
        },
        "id": "AjTKbxaDe1DY",
        "outputId": "317610fb-f4a4-4a76-d179-fab5b65baeb0"
      },
      "execution_count": 4,
      "outputs": [
        {
          "output_type": "stream",
          "name": "stdout",
          "text": [
            "\u001b[1m============================= test session starts ==============================\u001b[0m\n",
            "platform linux -- Python 3.8.16, pytest-3.6.4, py-1.11.0, pluggy-0.7.1 -- /usr/bin/python3\n",
            "cachedir: .pytest_cache\n",
            "rootdir: /content/drive/MyDrive/10714/project, inifile:\n",
            "plugins: typeguard-2.7.1\n",
            "collected 124 items / 108 deselected                                           \u001b[0m\n",
            "\n",
            "tests/test_ops.py::test_op_squeeze[forward-cpu-x_shape0-None] \u001b[32mPASSED\u001b[0m\u001b[36m     [  6%]\u001b[0m\n",
            "tests/test_ops.py::test_op_squeeze[forward-cpu-x_shape1-0] \u001b[32mPASSED\u001b[0m\u001b[36m        [ 12%]\u001b[0m\n",
            "tests/test_ops.py::test_op_squeeze[forward-cpu-x_shape2-1] \u001b[32mPASSED\u001b[0m\u001b[36m        [ 18%]\u001b[0m\n",
            "tests/test_ops.py::test_op_squeeze[forward-cpu-x_shape3-1] \u001b[32mPASSED\u001b[0m\u001b[36m        [ 25%]\u001b[0m\n",
            "tests/test_ops.py::test_op_squeeze[forward-cuda-x_shape0-None] \u001b[32mPASSED\u001b[0m\u001b[36m    [ 31%]\u001b[0m\n",
            "tests/test_ops.py::test_op_squeeze[forward-cuda-x_shape1-0] \u001b[32mPASSED\u001b[0m\u001b[36m       [ 37%]\u001b[0m\n",
            "tests/test_ops.py::test_op_squeeze[forward-cuda-x_shape2-1] \u001b[32mPASSED\u001b[0m\u001b[36m       [ 43%]\u001b[0m\n",
            "tests/test_ops.py::test_op_squeeze[forward-cuda-x_shape3-1] \u001b[32mPASSED\u001b[0m\u001b[36m       [ 50%]\u001b[0m\n",
            "tests/test_ops.py::test_op_squeeze[backward-cpu-x_shape0-None] \u001b[32mPASSED\u001b[0m\u001b[36m    [ 56%]\u001b[0m\n",
            "tests/test_ops.py::test_op_squeeze[backward-cpu-x_shape1-0] \u001b[32mPASSED\u001b[0m\u001b[36m       [ 62%]\u001b[0m\n",
            "tests/test_ops.py::test_op_squeeze[backward-cpu-x_shape2-1] \u001b[32mPASSED\u001b[0m\u001b[36m       [ 68%]\u001b[0m\n",
            "tests/test_ops.py::test_op_squeeze[backward-cpu-x_shape3-1] \u001b[32mPASSED\u001b[0m\u001b[36m       [ 75%]\u001b[0m\n",
            "tests/test_ops.py::test_op_squeeze[backward-cuda-x_shape0-None] \u001b[32mPASSED\u001b[0m\u001b[36m   [ 81%]\u001b[0m\n",
            "tests/test_ops.py::test_op_squeeze[backward-cuda-x_shape1-0] \u001b[32mPASSED\u001b[0m\u001b[36m      [ 87%]\u001b[0m\n",
            "tests/test_ops.py::test_op_squeeze[backward-cuda-x_shape2-1] \u001b[32mPASSED\u001b[0m\u001b[36m      [ 93%]\u001b[0m\n",
            "tests/test_ops.py::test_op_squeeze[backward-cuda-x_shape3-1] \u001b[32mPASSED\u001b[0m\u001b[36m      [100%]\u001b[0m\n",
            "\n",
            "\u001b[32m\u001b[1m================== 16 passed, 108 deselected in 18.95 seconds ==================\u001b[0m\n"
          ]
        }
      ]
    },
    {
      "cell_type": "code",
      "source": [
        "!python3 -m pytest -l -v -k \"op_unsqueeze\""
      ],
      "metadata": {
        "colab": {
          "base_uri": "https://localhost:8080/"
        },
        "id": "DhEvBMqye1LJ",
        "outputId": "756fc32a-bee0-462c-fa76-b58313d78b51"
      },
      "execution_count": 5,
      "outputs": [
        {
          "output_type": "stream",
          "name": "stdout",
          "text": [
            "\u001b[1m============================= test session starts ==============================\u001b[0m\n",
            "platform linux -- Python 3.8.16, pytest-3.6.4, py-1.11.0, pluggy-0.7.1 -- /usr/bin/python3\n",
            "cachedir: .pytest_cache\n",
            "rootdir: /content/drive/MyDrive/10714/project, inifile:\n",
            "plugins: typeguard-2.7.1\n",
            "collected 124 items / 104 deselected                                           \u001b[0m\n",
            "\n",
            "tests/test_ops.py::test_op_unsqueeze[forward-cpu-x_shape0-0] \u001b[32mPASSED\u001b[0m\u001b[36m      [  5%]\u001b[0m\n",
            "tests/test_ops.py::test_op_unsqueeze[forward-cpu-x_shape1-1] \u001b[32mPASSED\u001b[0m\u001b[36m      [ 10%]\u001b[0m\n",
            "tests/test_ops.py::test_op_unsqueeze[forward-cpu-x_shape2-0] \u001b[32mPASSED\u001b[0m\u001b[36m      [ 15%]\u001b[0m\n",
            "tests/test_ops.py::test_op_unsqueeze[forward-cpu-x_shape3-1] \u001b[32mPASSED\u001b[0m\u001b[36m      [ 20%]\u001b[0m\n",
            "tests/test_ops.py::test_op_unsqueeze[forward-cpu-x_shape4-2] \u001b[32mPASSED\u001b[0m\u001b[36m      [ 25%]\u001b[0m\n",
            "tests/test_ops.py::test_op_unsqueeze[forward-cuda-x_shape0-0] \u001b[32mPASSED\u001b[0m\u001b[36m     [ 30%]\u001b[0m\n",
            "tests/test_ops.py::test_op_unsqueeze[forward-cuda-x_shape1-1] \u001b[32mPASSED\u001b[0m\u001b[36m     [ 35%]\u001b[0m\n",
            "tests/test_ops.py::test_op_unsqueeze[forward-cuda-x_shape2-0] \u001b[32mPASSED\u001b[0m\u001b[36m     [ 40%]\u001b[0m\n",
            "tests/test_ops.py::test_op_unsqueeze[forward-cuda-x_shape3-1] \u001b[32mPASSED\u001b[0m\u001b[36m     [ 45%]\u001b[0m\n",
            "tests/test_ops.py::test_op_unsqueeze[forward-cuda-x_shape4-2] \u001b[32mPASSED\u001b[0m\u001b[36m     [ 50%]\u001b[0m\n",
            "tests/test_ops.py::test_op_unsqueeze[backward-cpu-x_shape0-0] \u001b[32mPASSED\u001b[0m\u001b[36m     [ 55%]\u001b[0m\n",
            "tests/test_ops.py::test_op_unsqueeze[backward-cpu-x_shape1-1] \u001b[32mPASSED\u001b[0m\u001b[36m     [ 60%]\u001b[0m\n",
            "tests/test_ops.py::test_op_unsqueeze[backward-cpu-x_shape2-0] \u001b[32mPASSED\u001b[0m\u001b[36m     [ 65%]\u001b[0m\n",
            "tests/test_ops.py::test_op_unsqueeze[backward-cpu-x_shape3-1] \u001b[32mPASSED\u001b[0m\u001b[36m     [ 70%]\u001b[0m\n",
            "tests/test_ops.py::test_op_unsqueeze[backward-cpu-x_shape4-2] \u001b[32mPASSED\u001b[0m\u001b[36m     [ 75%]\u001b[0m\n",
            "tests/test_ops.py::test_op_unsqueeze[backward-cuda-x_shape0-0] \u001b[32mPASSED\u001b[0m\u001b[36m    [ 80%]\u001b[0m\n",
            "tests/test_ops.py::test_op_unsqueeze[backward-cuda-x_shape1-1] \u001b[32mPASSED\u001b[0m\u001b[36m    [ 85%]\u001b[0m\n",
            "tests/test_ops.py::test_op_unsqueeze[backward-cuda-x_shape2-0] \u001b[32mPASSED\u001b[0m\u001b[36m    [ 90%]\u001b[0m\n",
            "tests/test_ops.py::test_op_unsqueeze[backward-cuda-x_shape3-1] \u001b[32mPASSED\u001b[0m\u001b[36m    [ 95%]\u001b[0m\n",
            "tests/test_ops.py::test_op_unsqueeze[backward-cuda-x_shape4-2] \u001b[32mPASSED\u001b[0m\u001b[36m    [100%]\u001b[0m\n",
            "\n",
            "\u001b[32m\u001b[1m================== 20 passed, 104 deselected in 2.08 seconds ===================\u001b[0m\n"
          ]
        }
      ]
    },
    {
      "cell_type": "markdown",
      "source": [
        "### Norm\n",
        "\n",
        "The `needle.ops.norm` is implemented to compute the vector norm of a tensor. This operator function is verified by [`torch.norm`](https://pytorch.org/docs/stable/generated/torch.norm.html)."
      ],
      "metadata": {
        "id": "CTA5-hfYezy0"
      }
    },
    {
      "cell_type": "code",
      "source": [
        "!python3 -m pytest -l -v -k \"op_norm\""
      ],
      "metadata": {
        "colab": {
          "base_uri": "https://localhost:8080/"
        },
        "id": "ANoCyU5KLOLJ",
        "outputId": "bc635f50-a4bd-47ed-cd2a-e06ca9a6a3dc"
      },
      "execution_count": 6,
      "outputs": [
        {
          "output_type": "stream",
          "name": "stdout",
          "text": [
            "\u001b[1m============================= test session starts ==============================\u001b[0m\n",
            "platform linux -- Python 3.8.16, pytest-3.6.4, py-1.11.0, pluggy-0.7.1 -- /usr/bin/python3\n",
            "cachedir: .pytest_cache\n",
            "rootdir: /content/drive/MyDrive/10714/project, inifile:\n",
            "plugins: typeguard-2.7.1\n",
            "collected 124 items / 112 deselected                                           \u001b[0m\n",
            "\n",
            "tests/test_ops.py::test_op_norm[forward-cpu-x_shape0-0] \u001b[32mPASSED\u001b[0m\u001b[36m           [  8%]\u001b[0m\n",
            "tests/test_ops.py::test_op_norm[forward-cpu-x_shape1-0] \u001b[32mPASSED\u001b[0m\u001b[36m           [ 16%]\u001b[0m\n",
            "tests/test_ops.py::test_op_norm[forward-cpu-x_shape2-1] \u001b[32mPASSED\u001b[0m\u001b[36m           [ 25%]\u001b[0m\n",
            "tests/test_ops.py::test_op_norm[forward-cuda-x_shape0-0] \u001b[32mPASSED\u001b[0m\u001b[36m          [ 33%]\u001b[0m\n",
            "tests/test_ops.py::test_op_norm[forward-cuda-x_shape1-0] \u001b[32mPASSED\u001b[0m\u001b[36m          [ 41%]\u001b[0m\n",
            "tests/test_ops.py::test_op_norm[forward-cuda-x_shape2-1] \u001b[32mPASSED\u001b[0m\u001b[36m          [ 50%]\u001b[0m\n",
            "tests/test_ops.py::test_op_norm[backward-cpu-x_shape0-0] \u001b[32mPASSED\u001b[0m\u001b[36m          [ 58%]\u001b[0m\n",
            "tests/test_ops.py::test_op_norm[backward-cpu-x_shape1-0] \u001b[32mPASSED\u001b[0m\u001b[36m          [ 66%]\u001b[0m\n",
            "tests/test_ops.py::test_op_norm[backward-cpu-x_shape2-1] \u001b[32mPASSED\u001b[0m\u001b[36m          [ 75%]\u001b[0m\n",
            "tests/test_ops.py::test_op_norm[backward-cuda-x_shape0-0] \u001b[32mPASSED\u001b[0m\u001b[36m         [ 83%]\u001b[0m\n",
            "tests/test_ops.py::test_op_norm[backward-cuda-x_shape1-0] \u001b[32mPASSED\u001b[0m\u001b[36m         [ 91%]\u001b[0m\n",
            "tests/test_ops.py::test_op_norm[backward-cuda-x_shape2-1] \u001b[32mPASSED\u001b[0m\u001b[36m         [100%]\u001b[0m\n",
            "\n",
            "\u001b[32m\u001b[1m================== 12 passed, 112 deselected in 2.10 seconds ===================\u001b[0m\n"
          ]
        }
      ]
    },
    {
      "cell_type": "markdown",
      "source": [
        "### Cosine Similarity\n",
        "\n",
        "The `needle.ops.cosine_similarity` is implemented to compute the cosine similarity of two vectors:\n",
        "$$ \\frac{\\mathbf{x} \\cdot \\mathbf{x}'}{\\lVert \\mathbf{x} \\rVert_2 \\lVert \\mathbf{x}' \\rVert_2} . $$\n",
        "This operator function is verified by [`torch.nn.functional.cosine_similarity`](https://pytorch.org/docs/stable/generated/torch.nn.functional.cosine_similarity.html)."
      ],
      "metadata": {
        "id": "LNOeihnLe4z6"
      }
    },
    {
      "cell_type": "code",
      "source": [
        "!python3 -m pytest -l -v -k \"op_cosine_similarity\""
      ],
      "metadata": {
        "colab": {
          "base_uri": "https://localhost:8080/"
        },
        "id": "BCnt4MlWMvOl",
        "outputId": "d8a9a4e9-988b-4d9a-e063-6d1ea5c7714e"
      },
      "execution_count": 7,
      "outputs": [
        {
          "output_type": "stream",
          "name": "stdout",
          "text": [
            "\u001b[1m============================= test session starts ==============================\u001b[0m\n",
            "platform linux -- Python 3.8.16, pytest-3.6.4, py-1.11.0, pluggy-0.7.1 -- /usr/bin/python3\n",
            "cachedir: .pytest_cache\n",
            "rootdir: /content/drive/MyDrive/10714/project, inifile:\n",
            "plugins: typeguard-2.7.1\n",
            "collected 124 items / 112 deselected                                           \u001b[0m\n",
            "\n",
            "tests/test_ops.py::test_op_cosine_similarity[forward-cpu-x_shape0-0] \u001b[32mPASSED\u001b[0m\u001b[36m [  8%]\u001b[0m\n",
            "tests/test_ops.py::test_op_cosine_similarity[forward-cpu-x_shape1-0] \u001b[32mPASSED\u001b[0m\u001b[36m [ 16%]\u001b[0m\n",
            "tests/test_ops.py::test_op_cosine_similarity[forward-cpu-x_shape2-1] \u001b[32mPASSED\u001b[0m\u001b[36m [ 25%]\u001b[0m\n",
            "tests/test_ops.py::test_op_cosine_similarity[forward-cuda-x_shape0-0] \u001b[32mPASSED\u001b[0m\u001b[36m [ 33%]\u001b[0m\n",
            "tests/test_ops.py::test_op_cosine_similarity[forward-cuda-x_shape1-0] \u001b[32mPASSED\u001b[0m\u001b[36m [ 41%]\u001b[0m\n",
            "tests/test_ops.py::test_op_cosine_similarity[forward-cuda-x_shape2-1] \u001b[32mPASSED\u001b[0m\u001b[36m [ 50%]\u001b[0m\n",
            "tests/test_ops.py::test_op_cosine_similarity[backward-cpu-x_shape0-0] \u001b[32mPASSED\u001b[0m\u001b[36m [ 58%]\u001b[0m\n",
            "tests/test_ops.py::test_op_cosine_similarity[backward-cpu-x_shape1-0] \u001b[32mPASSED\u001b[0m\u001b[36m [ 66%]\u001b[0m\n",
            "tests/test_ops.py::test_op_cosine_similarity[backward-cpu-x_shape2-1] \u001b[32mPASSED\u001b[0m\u001b[36m [ 75%]\u001b[0m\n",
            "tests/test_ops.py::test_op_cosine_similarity[backward-cuda-x_shape0-0] \u001b[32mPASSED\u001b[0m\u001b[36m [ 83%]\u001b[0m\n",
            "tests/test_ops.py::test_op_cosine_similarity[backward-cuda-x_shape1-0] \u001b[32mPASSED\u001b[0m\u001b[36m [ 91%]\u001b[0m\n",
            "tests/test_ops.py::test_op_cosine_similarity[backward-cuda-x_shape2-1] \u001b[32mPASSED\u001b[0m\u001b[36m [100%]\u001b[0m\n",
            "\n",
            "\u001b[32m\u001b[1m================== 12 passed, 112 deselected in 2.09 seconds ===================\u001b[0m\n"
          ]
        }
      ]
    },
    {
      "cell_type": "markdown",
      "source": [
        "### Pairwise Distance\n",
        "\n",
        "The `needle.ops.pairwise_distance` is implemented to compute the pairwise distance between input vectors. This operator function is verified by [`torch.nn.functional.pairwise_distance`](https://pytorch.org/docs/stable/generated/torch.nn.functional.pairwise_distance.html)."
      ],
      "metadata": {
        "id": "Uyu0qj_9e7UV"
      }
    },
    {
      "cell_type": "code",
      "source": [
        "!python3 -m pytest -l -v -k \"op_pairwise_distance\""
      ],
      "metadata": {
        "colab": {
          "base_uri": "https://localhost:8080/"
        },
        "id": "4jRgyws_SRbd",
        "outputId": "36592967-4216-405a-f2cf-be3e4b2c5d92"
      },
      "execution_count": 8,
      "outputs": [
        {
          "output_type": "stream",
          "name": "stdout",
          "text": [
            "\u001b[1m============================= test session starts ==============================\u001b[0m\n",
            "platform linux -- Python 3.8.16, pytest-3.6.4, py-1.11.0, pluggy-0.7.1 -- /usr/bin/python3\n",
            "cachedir: .pytest_cache\n",
            "rootdir: /content/drive/MyDrive/10714/project, inifile:\n",
            "plugins: typeguard-2.7.1\n",
            "collected 124 items / 116 deselected                                           \u001b[0m\n",
            "\n",
            "tests/test_ops.py::test_op_pairwise_distance[forward-cpu-x_shape0-0] \u001b[32mPASSED\u001b[0m\u001b[36m [ 12%]\u001b[0m\n",
            "tests/test_ops.py::test_op_pairwise_distance[forward-cpu-x_shape1-1] \u001b[32mPASSED\u001b[0m\u001b[36m [ 25%]\u001b[0m\n",
            "tests/test_ops.py::test_op_pairwise_distance[forward-cuda-x_shape0-0] \u001b[32mPASSED\u001b[0m\u001b[36m [ 37%]\u001b[0m\n",
            "tests/test_ops.py::test_op_pairwise_distance[forward-cuda-x_shape1-1] \u001b[32mPASSED\u001b[0m\u001b[36m [ 50%]\u001b[0m\n",
            "tests/test_ops.py::test_op_pairwise_distance[backward-cpu-x_shape0-0] \u001b[32mPASSED\u001b[0m\u001b[36m [ 62%]\u001b[0m\n",
            "tests/test_ops.py::test_op_pairwise_distance[backward-cpu-x_shape1-1] \u001b[32mPASSED\u001b[0m\u001b[36m [ 75%]\u001b[0m\n",
            "tests/test_ops.py::test_op_pairwise_distance[backward-cuda-x_shape0-0] \u001b[32mPASSED\u001b[0m\u001b[36m [ 87%]\u001b[0m\n",
            "tests/test_ops.py::test_op_pairwise_distance[backward-cuda-x_shape1-1] \u001b[32mPASSED\u001b[0m\u001b[36m [100%]\u001b[0m\n",
            "\n",
            "\u001b[32m\u001b[1m=================== 8 passed, 116 deselected in 2.03 seconds ===================\u001b[0m\n"
          ]
        }
      ]
    },
    {
      "cell_type": "markdown",
      "source": [
        "### Softmax\n",
        "\n",
        "The `needle.ops.softmax` is implemented to apply the softmax function. This operator function is verified by [`torch.nn.functional.softmax`](https://pytorch.org/docs/stable/generated/torch.nn.functional.softmax.html)."
      ],
      "metadata": {
        "id": "kqfZdFZ3e-Is"
      }
    },
    {
      "cell_type": "code",
      "source": [
        "!python3 -m pytest -l -v -k \"op_softmax\""
      ],
      "metadata": {
        "colab": {
          "base_uri": "https://localhost:8080/"
        },
        "id": "KSjOsn3CQKNS",
        "outputId": "6cb38e7d-b48d-405c-d2ae-438a63c2aa05"
      },
      "execution_count": 9,
      "outputs": [
        {
          "output_type": "stream",
          "name": "stdout",
          "text": [
            "\u001b[1m============================= test session starts ==============================\u001b[0m\n",
            "platform linux -- Python 3.8.16, pytest-3.6.4, py-1.11.0, pluggy-0.7.1 -- /usr/bin/python3\n",
            "cachedir: .pytest_cache\n",
            "rootdir: /content/drive/MyDrive/10714/project, inifile:\n",
            "plugins: typeguard-2.7.1\n",
            "collected 124 items / 112 deselected                                           \u001b[0m\n",
            "\n",
            "tests/test_ops.py::test_op_softmax[forward-cpu-x_shape0-0] \u001b[32mPASSED\u001b[0m\u001b[36m        [  8%]\u001b[0m\n",
            "tests/test_ops.py::test_op_softmax[forward-cpu-x_shape1-1] \u001b[32mPASSED\u001b[0m\u001b[36m        [ 16%]\u001b[0m\n",
            "tests/test_ops.py::test_op_softmax[forward-cpu-x_shape2-1] \u001b[32mPASSED\u001b[0m\u001b[36m        [ 25%]\u001b[0m\n",
            "tests/test_ops.py::test_op_softmax[forward-cuda-x_shape0-0] \u001b[32mPASSED\u001b[0m\u001b[36m       [ 33%]\u001b[0m\n",
            "tests/test_ops.py::test_op_softmax[forward-cuda-x_shape1-1] \u001b[32mPASSED\u001b[0m\u001b[36m       [ 41%]\u001b[0m\n",
            "tests/test_ops.py::test_op_softmax[forward-cuda-x_shape2-1] \u001b[32mPASSED\u001b[0m\u001b[36m       [ 50%]\u001b[0m\n",
            "tests/test_ops.py::test_op_softmax[backward-cpu-x_shape0-0] \u001b[32mPASSED\u001b[0m\u001b[36m       [ 58%]\u001b[0m\n",
            "tests/test_ops.py::test_op_softmax[backward-cpu-x_shape1-1] \u001b[32mPASSED\u001b[0m\u001b[36m       [ 66%]\u001b[0m\n",
            "tests/test_ops.py::test_op_softmax[backward-cpu-x_shape2-1] \u001b[32mPASSED\u001b[0m\u001b[36m       [ 75%]\u001b[0m\n",
            "tests/test_ops.py::test_op_softmax[backward-cuda-x_shape0-0] \u001b[32mPASSED\u001b[0m\u001b[36m      [ 83%]\u001b[0m\n",
            "tests/test_ops.py::test_op_softmax[backward-cuda-x_shape1-1] \u001b[32mPASSED\u001b[0m\u001b[36m      [ 91%]\u001b[0m\n",
            "tests/test_ops.py::test_op_softmax[backward-cuda-x_shape2-1] \u001b[32mPASSED\u001b[0m\u001b[36m      [100%]\u001b[0m\n",
            "\n",
            "\u001b[32m\u001b[1m================== 12 passed, 112 deselected in 2.09 seconds ===================\u001b[0m\n"
          ]
        }
      ]
    },
    {
      "cell_type": "markdown",
      "source": [
        "### Batch Matrix Multiplication\n",
        "\n",
        "The `needle.ops.bmm` is implemented to compute a batch matrix-matrix product of matrices. This operator function is verified by [`torch.bmm`](https://pytorch.org/docs/stable/generated/torch.bmm.html)."
      ],
      "metadata": {
        "id": "Nyo1UrkWfGS2"
      }
    },
    {
      "cell_type": "code",
      "source": [
        "!python3 -m pytest -l -v -k \"op_bmm\""
      ],
      "metadata": {
        "colab": {
          "base_uri": "https://localhost:8080/"
        },
        "id": "XJ0piw54UW0y",
        "outputId": "01beb419-8bef-45f9-fed4-7c0530c90891"
      },
      "execution_count": 10,
      "outputs": [
        {
          "output_type": "stream",
          "name": "stdout",
          "text": [
            "\u001b[1m============================= test session starts ==============================\u001b[0m\n",
            "platform linux -- Python 3.8.16, pytest-3.6.4, py-1.11.0, pluggy-0.7.1 -- /usr/bin/python3\n",
            "cachedir: .pytest_cache\n",
            "rootdir: /content/drive/MyDrive/10714/project, inifile:\n",
            "plugins: typeguard-2.7.1\n",
            "collected 124 items / 116 deselected                                           \u001b[0m\n",
            "\n",
            "tests/test_ops.py::test_op_bmm[forward-cpu-A_shape0-B_shape0] \u001b[32mPASSED\u001b[0m\u001b[36m     [ 12%]\u001b[0m\n",
            "tests/test_ops.py::test_op_bmm[forward-cpu-A_shape1-B_shape1] \u001b[32mPASSED\u001b[0m\u001b[36m     [ 25%]\u001b[0m\n",
            "tests/test_ops.py::test_op_bmm[forward-cuda-A_shape0-B_shape0] \u001b[32mPASSED\u001b[0m\u001b[36m    [ 37%]\u001b[0m\n",
            "tests/test_ops.py::test_op_bmm[forward-cuda-A_shape1-B_shape1] \u001b[32mPASSED\u001b[0m\u001b[36m    [ 50%]\u001b[0m\n",
            "tests/test_ops.py::test_op_bmm[backward-cpu-A_shape0-B_shape0] \u001b[32mPASSED\u001b[0m\u001b[36m    [ 62%]\u001b[0m\n",
            "tests/test_ops.py::test_op_bmm[backward-cpu-A_shape1-B_shape1] \u001b[32mPASSED\u001b[0m\u001b[36m    [ 75%]\u001b[0m\n",
            "tests/test_ops.py::test_op_bmm[backward-cuda-A_shape0-B_shape0] \u001b[32mPASSED\u001b[0m\u001b[36m   [ 87%]\u001b[0m\n",
            "tests/test_ops.py::test_op_bmm[backward-cuda-A_shape1-B_shape1] \u001b[32mPASSED\u001b[0m\u001b[36m   [100%]\u001b[0m\n",
            "\n",
            "\u001b[32m\u001b[1m=================== 8 passed, 116 deselected in 2.60 seconds ===================\u001b[0m\n"
          ]
        }
      ]
    },
    {
      "cell_type": "markdown",
      "source": [
        "### Matrix Inverse\n",
        "\n",
        "The `needle.ops.Inverse` and `needle.ops.inv` are implemented to compute the inverse of a square matrix. The reverse mode can be calculatedc by $ \\bar{A} = - C^{T} \\bar{C} C^{T} $, where $ C = A^{-1} $. This operator function is verified by [`torch.linalg.inv`](https://pytorch.org/docs/stable/generated/torch.linalg.inv.html)."
      ],
      "metadata": {
        "id": "9yW5Qo5DfNkt"
      }
    },
    {
      "cell_type": "code",
      "source": [
        "!python3 -m pytest -l -v -k \"op_inv\""
      ],
      "metadata": {
        "colab": {
          "base_uri": "https://localhost:8080/"
        },
        "id": "FeVPaPPV_B-Q",
        "outputId": "a3737d9f-6f6d-4e46-cce6-53da34039b44"
      },
      "execution_count": 11,
      "outputs": [
        {
          "output_type": "stream",
          "name": "stdout",
          "text": [
            "\u001b[1m============================= test session starts ==============================\u001b[0m\n",
            "platform linux -- Python 3.8.16, pytest-3.6.4, py-1.11.0, pluggy-0.7.1 -- /usr/bin/python3\n",
            "cachedir: .pytest_cache\n",
            "rootdir: /content/drive/MyDrive/10714/project, inifile:\n",
            "plugins: typeguard-2.7.1\n",
            "collected 124 items / 116 deselected                                           \u001b[0m\n",
            "\n",
            "tests/test_ops.py::test_op_inv[forward-cpu-A_shape0] \u001b[32mPASSED\u001b[0m\u001b[36m              [ 12%]\u001b[0m\n",
            "tests/test_ops.py::test_op_inv[forward-cpu-A_shape1] \u001b[32mPASSED\u001b[0m\u001b[36m              [ 25%]\u001b[0m\n",
            "tests/test_ops.py::test_op_inv[forward-cuda-A_shape0] \u001b[32mPASSED\u001b[0m\u001b[36m             [ 37%]\u001b[0m\n",
            "tests/test_ops.py::test_op_inv[forward-cuda-A_shape1] \u001b[32mPASSED\u001b[0m\u001b[36m             [ 50%]\u001b[0m\n",
            "tests/test_ops.py::test_op_inv[backward-cpu-A_shape0] \u001b[32mPASSED\u001b[0m\u001b[36m             [ 62%]\u001b[0m\n",
            "tests/test_ops.py::test_op_inv[backward-cpu-A_shape1] \u001b[32mPASSED\u001b[0m\u001b[36m             [ 75%]\u001b[0m\n",
            "tests/test_ops.py::test_op_inv[backward-cuda-A_shape0] \u001b[32mPASSED\u001b[0m\u001b[36m            [ 87%]\u001b[0m\n",
            "tests/test_ops.py::test_op_inv[backward-cuda-A_shape1] \u001b[32mPASSED\u001b[0m\u001b[36m            [100%]\u001b[0m\n",
            "\n",
            "\u001b[32m\u001b[1m=================== 8 passed, 116 deselected in 2.45 seconds ===================\u001b[0m\n"
          ]
        }
      ]
    },
    {
      "cell_type": "markdown",
      "source": [
        "### Matrix Determinant\n",
        "\n",
        "The `needle.ops.Det` and `needle.ops.det` are implemented to compute the determinant of a square matrix. The reverse mode can be calculatedc by $ \\bar{A} = \\bar{C} C A^{-T} $, where $ C = \\text{det} A $. This operator function is verified by [`torch.linalg.det`](https://pytorch.org/docs/stable/generated/torch.linalg.det.html)."
      ],
      "metadata": {
        "id": "_cEyCLJSfPaq"
      }
    },
    {
      "cell_type": "code",
      "source": [
        "!python3 -m pytest -l -v -k \"op_det\""
      ],
      "metadata": {
        "colab": {
          "base_uri": "https://localhost:8080/"
        },
        "id": "m5pta9q__BC6",
        "outputId": "f355b23c-bb3c-471a-c5ca-bd4f6e3216e2"
      },
      "execution_count": 12,
      "outputs": [
        {
          "output_type": "stream",
          "name": "stdout",
          "text": [
            "\u001b[1m============================= test session starts ==============================\u001b[0m\n",
            "platform linux -- Python 3.8.16, pytest-3.6.4, py-1.11.0, pluggy-0.7.1 -- /usr/bin/python3\n",
            "cachedir: .pytest_cache\n",
            "rootdir: /content/drive/MyDrive/10714/project, inifile:\n",
            "plugins: typeguard-2.7.1\n",
            "collected 124 items / 116 deselected                                           \u001b[0m\n",
            "\n",
            "tests/test_ops.py::test_op_det[forward-cpu-A_shape0] \u001b[32mPASSED\u001b[0m\u001b[36m              [ 12%]\u001b[0m\n",
            "tests/test_ops.py::test_op_det[forward-cpu-A_shape1] \u001b[32mPASSED\u001b[0m\u001b[36m              [ 25%]\u001b[0m\n",
            "tests/test_ops.py::test_op_det[forward-cuda-A_shape0] \u001b[32mPASSED\u001b[0m\u001b[36m             [ 37%]\u001b[0m\n",
            "tests/test_ops.py::test_op_det[forward-cuda-A_shape1] \u001b[32mPASSED\u001b[0m\u001b[36m             [ 50%]\u001b[0m\n",
            "tests/test_ops.py::test_op_det[backward-cpu-A_shape0] \u001b[32mPASSED\u001b[0m\u001b[36m             [ 62%]\u001b[0m\n",
            "tests/test_ops.py::test_op_det[backward-cpu-A_shape1] \u001b[32mPASSED\u001b[0m\u001b[36m             [ 75%]\u001b[0m\n",
            "tests/test_ops.py::test_op_det[backward-cuda-A_shape0] \u001b[32mPASSED\u001b[0m\u001b[36m            [ 87%]\u001b[0m\n",
            "tests/test_ops.py::test_op_det[backward-cuda-A_shape1] \u001b[32mPASSED\u001b[0m\u001b[36m            [100%]\u001b[0m\n",
            "\n",
            "\u001b[32m\u001b[1m=================== 8 passed, 116 deselected in 2.00 seconds ===================\u001b[0m\n"
          ]
        }
      ]
    },
    {
      "cell_type": "markdown",
      "source": [
        "### Matrix Diagonal\n",
        "\n",
        "The `needle.ops.Diagonal` and `needle.ops.diagonal` are implemented to get the diagonal of a square matrix. This operator function is verified by [`torch.diag`](https://pytorch.org/docs/stable/generated/torch.diag.html)."
      ],
      "metadata": {
        "id": "FB45s2TjfVv3"
      }
    },
    {
      "cell_type": "code",
      "source": [
        "!python3 -m pytest -l -v -k \"op_diagonal\""
      ],
      "metadata": {
        "colab": {
          "base_uri": "https://localhost:8080/"
        },
        "id": "lW-c2bQik-yE",
        "outputId": "702980be-2d2f-4102-a770-5cfd6f488be4"
      },
      "execution_count": 13,
      "outputs": [
        {
          "output_type": "stream",
          "name": "stdout",
          "text": [
            "\u001b[1m============================= test session starts ==============================\u001b[0m\n",
            "platform linux -- Python 3.8.16, pytest-3.6.4, py-1.11.0, pluggy-0.7.1 -- /usr/bin/python3\n",
            "cachedir: .pytest_cache\n",
            "rootdir: /content/drive/MyDrive/10714/project, inifile:\n",
            "plugins: typeguard-2.7.1\n",
            "collected 124 items / 120 deselected                                           \u001b[0m\n",
            "\n",
            "tests/test_ops.py::test_op_diagonal[forward-cpu-A_shape0] \u001b[32mPASSED\u001b[0m\u001b[36m         [ 25%]\u001b[0m\n",
            "tests/test_ops.py::test_op_diagonal[forward-cuda-A_shape0] \u001b[32mPASSED\u001b[0m\u001b[36m        [ 50%]\u001b[0m\n",
            "tests/test_ops.py::test_op_diagonal[backward-cpu-A_shape0] \u001b[32mPASSED\u001b[0m\u001b[36m        [ 75%]\u001b[0m\n",
            "tests/test_ops.py::test_op_diagonal[backward-cuda-A_shape0] \u001b[32mPASSED\u001b[0m\u001b[36m       [100%]\u001b[0m\n",
            "\n",
            "\u001b[32m\u001b[1m=================== 4 passed, 120 deselected in 2.32 seconds ===================\u001b[0m\n"
          ]
        }
      ]
    },
    {
      "cell_type": "markdown",
      "source": [
        "### Cholesky Decomposition\n",
        "\n",
        "The Cholesky decomposition a symmetric positive definite matrix $ \\Sigma $ is to compute the unique lower-triangular matrix $ L $ with positive diagonal elements such that $ \\Sigma = L L^{T} $. The reverse mode of the Cholesky decomposition can be obtained by $ \\text{tril}{\\bar{\\Sigma}} = \\Phi \\left( L^{-T} \\left( P + P^{T} \\right) L^{-1} \\right) $, where $ P = \\Phi \\left(L^{T} \\bar{L} \\right) $ and $ \\Phi $ takes the lower-triangular part of a matrix and halves its diagonal:\n",
        "$$\n",
        "\\Phi_{ij} (A) = \\begin{cases}\n",
        "A_{ij} & i > j \\\\\n",
        "A_{ii} / 2 & i = j \\\\\n",
        "0 & i < j\n",
        "\\end{cases} .\n",
        "$$\n",
        "The `needle.ops.Cholesky` and `needle.ops.cholesky` are implemented with auxiliary functions `needle.ops.Phi` and `needle.ops.phi`. This operator function is verified by [`torch.cholesky`](https://pytorch.org/docs/stable/generated/torch.cholesky.html)."
      ],
      "metadata": {
        "id": "oUwmhCUJfX9h"
      }
    },
    {
      "cell_type": "code",
      "source": [
        "!python3 -m pytest -l -v -k \"op_cholesky\""
      ],
      "metadata": {
        "colab": {
          "base_uri": "https://localhost:8080/"
        },
        "id": "M4louqzu_Bp-",
        "outputId": "54721d1f-bfaf-498e-9943-2239be337597"
      },
      "execution_count": 14,
      "outputs": [
        {
          "output_type": "stream",
          "name": "stdout",
          "text": [
            "\u001b[1m============================= test session starts ==============================\u001b[0m\n",
            "platform linux -- Python 3.8.16, pytest-3.6.4, py-1.11.0, pluggy-0.7.1 -- /usr/bin/python3\n",
            "cachedir: .pytest_cache\n",
            "rootdir: /content/drive/MyDrive/10714/project, inifile:\n",
            "plugins: typeguard-2.7.1\n",
            "collected 124 items / 116 deselected                                           \u001b[0m\n",
            "\n",
            "tests/test_ops.py::test_op_cholesky[forward-cpu-A_shape0] \u001b[32mPASSED\u001b[0m\u001b[36m         [ 12%]\u001b[0m\n",
            "tests/test_ops.py::test_op_cholesky[forward-cpu-A_shape1] \u001b[32mPASSED\u001b[0m\u001b[36m         [ 25%]\u001b[0m\n",
            "tests/test_ops.py::test_op_cholesky[forward-cuda-A_shape0] \u001b[32mPASSED\u001b[0m\u001b[36m        [ 37%]\u001b[0m\n",
            "tests/test_ops.py::test_op_cholesky[forward-cuda-A_shape1] \u001b[32mPASSED\u001b[0m\u001b[36m        [ 50%]\u001b[0m\n",
            "tests/test_ops.py::test_op_cholesky[backward-cpu-A_shape0] \u001b[32mPASSED\u001b[0m\u001b[36m        [ 62%]\u001b[0m\n",
            "tests/test_ops.py::test_op_cholesky[backward-cpu-A_shape1] \u001b[32mPASSED\u001b[0m\u001b[36m        [ 75%]\u001b[0m\n",
            "tests/test_ops.py::test_op_cholesky[backward-cuda-A_shape0] \u001b[32mPASSED\u001b[0m\u001b[36m       [ 87%]\u001b[0m\n",
            "tests/test_ops.py::test_op_cholesky[backward-cuda-A_shape1] \u001b[32mPASSED\u001b[0m\u001b[36m       [100%]\u001b[0m\n",
            "\n",
            "\u001b[32m\u001b[1m=================== 8 passed, 116 deselected in 2.85 seconds ===================\u001b[0m\n"
          ]
        }
      ]
    },
    {
      "cell_type": "markdown",
      "source": [
        "## Deep Autoencoding Gaussian Mixture Model"
      ],
      "metadata": {
        "id": "xY7_DzU6dBEH"
      }
    },
    {
      "cell_type": "markdown",
      "source": [
        "### Model Overview\n",
        "\n",
        "Deep Autoencoding Gaussian Mixture Model (DAGMM):\n",
        "* A compression network, and \n",
        "* An estimation network."
      ],
      "metadata": {
        "id": "LGGPx7mjfhGC"
      }
    },
    {
      "cell_type": "markdown",
      "source": [
        "### Compression Network\n",
        "\n",
        "Encoder: $ \\mathbf{z}_c = h \\left( \\mathbf{x}; \\theta_e \\right) $, where $ \\theta_e $ is the parameter of the encoder.\n",
        "\n",
        "Decoder: $ \\mathbf{x}' = g \\left( \\mathbf{z}_c; \\theta_d \\right) $, where $ \\theta_d $ is the parameter of the decoder.\n",
        "\n",
        "Reconstruction features: $ \\mathbf{z}_r = f(\\mathbf{x}, \\mathbf{x}') $, where the relative Euclidean distance $ \\frac{\\lVert \\mathbf{x} - \\mathbf{x}' \\rVert_2}{\\lVert \\mathbf{x} \\rVert_2} $ and cosine similarity $ \\frac{\\mathbf{x} \\cdot \\mathbf{x}'}{\\lVert \\mathbf{x} \\rVert_2 \\lVert \\mathbf{x}' \\rVert_2} $ are used. \n",
        "\n",
        "Low-dimensional representation: $ \\mathbf{z} = \\left[ \\mathbf{z}_c, \\mathbf{z}_r \\right] $.\n"
      ],
      "metadata": {
        "id": "M-NmZ-0Zgjpr"
      }
    },
    {
      "cell_type": "markdown",
      "source": [
        "### Estimation Network\n",
        "\n",
        "Estimation network: $ \\mathbf{p} = \\text{MLN} \\left( \\mathbf{z}; \\theta_m \\right) $, where $ \\theta_m $ is the parameter of the estimation network.\n",
        "\n",
        "Soft mixture component membership prediction: $ \\hat{\\gamma} = \\text{softmax} (\\mathbf{p}) $.\n",
        "\n",
        "Gaussian Mixture Model (GMM) parameters:\n",
        "* Mixture probability: $$ \\hat{\\phi}_k = \\sum_{i=1}^{N} \\frac{\\hat{\\gamma}_{ik}}{N} .$$\n",
        "* Mean: $$ \\hat{\\mu}_k = \\frac{\\sum_{i=1}^{N} \\hat{\\gamma}_{ik} \\mathbf{z}_i}{\\sum_{i=1}^{N} \\hat{\\gamma}_{ik}} . $$\n",
        "* Covariance: $$ \\hat{\\mathbf{\\Sigma}}_k = \\frac{\\sum_{i=1}^{N} \\hat{\\gamma}_{ik} \\left( \\mathbf{z}_i - \\hat{\\mu}_k \\right) \\left( \\mathbf{z}_i - \\hat{\\mu}_k \\right)^{T}}{\\sum_{i=1}^{N} \\hat{\\gamma}_{ik}} . $$\n",
        "\n",
        "Sample energy:\n",
        "$$\n",
        "E(\\mathbf{z}) = - \\log \\left( \\sum_{k=1}^{K} \\hat{\\phi}_k \\frac{\\exp \\left( -\\frac{1}{2} \\left( \\mathbf{z} - \\hat{\\mu}_k \\right)^{T} \\hat{\\mathbf{\\Sigma}}_k^{-1} \\left( \\mathbf{z} - \\hat{\\mu}_k \\right)^{T} \\right)}{\\sqrt{\\left| 2 \\pi \\hat{\\mathbf{\\Sigma}}_k \\right|}} \\right)\n",
        "$$"
      ],
      "metadata": {
        "id": "EjhbbfsSglK7"
      }
    },
    {
      "cell_type": "code",
      "source": [
        "!python3 -m pytest -l -v -k \"gmm_parameters\""
      ],
      "metadata": {
        "colab": {
          "base_uri": "https://localhost:8080/"
        },
        "id": "V0xEg8s1-JK0",
        "outputId": "0ef4e281-4bb7-4935-b357-4b179be487a5"
      },
      "execution_count": 15,
      "outputs": [
        {
          "output_type": "stream",
          "name": "stdout",
          "text": [
            "\u001b[1m============================= test session starts ==============================\u001b[0m\n",
            "platform linux -- Python 3.8.16, pytest-3.6.4, py-1.11.0, pluggy-0.7.1 -- /usr/bin/python3\n",
            "cachedir: .pytest_cache\n",
            "rootdir: /content/drive/MyDrive/10714/project, inifile:\n",
            "plugins: typeguard-2.7.1\n",
            "collected 124 items / 122 deselected                                           \u001b[0m\n",
            "\n",
            "tests/test_dagmm.py::test_gmm_parameters[cpu-16-120-3-4] \u001b[32mPASSED\u001b[0m\u001b[36m          [ 50%]\u001b[0m\n",
            "tests/test_dagmm.py::test_gmm_parameters[cuda-16-120-3-4] \u001b[32mPASSED\u001b[0m\u001b[36m         [100%]\u001b[0m\n",
            "\n",
            "\u001b[32m\u001b[1m=================== 2 passed, 122 deselected in 2.02 seconds ===================\u001b[0m\n"
          ]
        }
      ]
    },
    {
      "cell_type": "code",
      "source": [
        "!python3 -m pytest -l -v -k \"sample_energy\""
      ],
      "metadata": {
        "colab": {
          "base_uri": "https://localhost:8080/"
        },
        "id": "yqOjKrr1OtCd",
        "outputId": "7eeab629-3c34-4caa-a817-0e28cbfbed7d"
      },
      "execution_count": 16,
      "outputs": [
        {
          "output_type": "stream",
          "name": "stdout",
          "text": [
            "\u001b[1m============================= test session starts ==============================\u001b[0m\n",
            "platform linux -- Python 3.8.16, pytest-3.6.4, py-1.11.0, pluggy-0.7.1 -- /usr/bin/python3\n",
            "cachedir: .pytest_cache\n",
            "rootdir: /content/drive/MyDrive/10714/project, inifile:\n",
            "plugins: typeguard-2.7.1\n",
            "collected 124 items / 122 deselected                                           \u001b[0m\n",
            "\n",
            "tests/test_dagmm.py::test_sample_energy[cpu-16-120-3-4] \u001b[32mPASSED\u001b[0m\u001b[36m           [ 50%]\u001b[0m\n",
            "tests/test_dagmm.py::test_sample_energy[cuda-16-120-3-4] \u001b[32mPASSED\u001b[0m\u001b[36m          [100%]\u001b[0m\n",
            "\n",
            "\u001b[32m\u001b[1m=================== 2 passed, 122 deselected in 2.08 seconds ===================\u001b[0m\n"
          ]
        }
      ]
    },
    {
      "cell_type": "markdown",
      "source": [
        "### Objective Function\n",
        "\n",
        "Objective function:\n",
        "$$\n",
        "J(\\theta_e, \\theta_d, \\theta_m) = \\frac{1}{N} \\sum_{i=1}{N} L \\left( \\mathbf{x}_i, \\mathbf{x}'_i \\right) + \\frac{\\lambda_1}{N} \\sum_{i=1}{N} E \\left( \\mathbf{z}_i \\right) + \\lambda_2 P \\left( \\hat{\\mathbf{\\Sigma}} \\right) ,\n",
        "$$\n",
        "where $ L \\left( \\mathbf{x}_i, \\mathbf{x}'_i \\right) $ is the reconstruction error, $ E \\left( \\mathbf{z}_i \\right) $ is the sample energy, $ P \\left( \\hat{\\mathbf{\\Sigma}} \\right) $ is the penalty loss for the diagonal entries of the covariance  matrix: $ P \\left( \\hat{\\mathbf{\\Sigma}} \\right) = \\sum_{k=1}^{K} \\sum_{j=1}^{d} \\frac{1}{\\hat{\\mathbf{\\Sigma}}_{kjj}} $, and the meta parameters are $ \\lambda_1 = 0.1 $ and $ \\lambda_2 = 0.005 $."
      ],
      "metadata": {
        "id": "1dygiDhNfwBI"
      }
    },
    {
      "cell_type": "code",
      "source": [
        "!python3 -m pytest -l -v -k \"model_dagmm\""
      ],
      "metadata": {
        "colab": {
          "base_uri": "https://localhost:8080/"
        },
        "id": "KVvSidHf5DUl",
        "outputId": "4f4e6ff3-3823-41c7-b304-3c50b347d030"
      },
      "execution_count": 17,
      "outputs": [
        {
          "output_type": "stream",
          "name": "stdout",
          "text": [
            "\u001b[1m============================= test session starts ==============================\u001b[0m\n",
            "platform linux -- Python 3.8.16, pytest-3.6.4, py-1.11.0, pluggy-0.7.1 -- /usr/bin/python3\n",
            "cachedir: .pytest_cache\n",
            "rootdir: /content/drive/MyDrive/10714/project, inifile:\n",
            "plugins: typeguard-2.7.1\n",
            "collected 124 items / 122 deselected                                           \u001b[0m\n",
            "\n",
            "tests/test_dagmm.py::test_model_dagmm[cpu-16-120-3-4] \u001b[32mPASSED\u001b[0m\u001b[36m             [ 50%]\u001b[0m\n",
            "tests/test_dagmm.py::test_model_dagmm[cuda-16-120-3-4] \u001b[32mPASSED\u001b[0m\u001b[36m            [100%]\u001b[0m\n",
            "\n",
            "\u001b[32m\u001b[1m=================== 2 passed, 122 deselected in 2.20 seconds ===================\u001b[0m\n"
          ]
        }
      ]
    },
    {
      "cell_type": "markdown",
      "source": [],
      "metadata": {
        "id": "R9Ln44F8dJ5q"
      }
    },
    {
      "cell_type": "markdown",
      "source": [
        "## Experiment"
      ],
      "metadata": {
        "id": "fngn2shfdMYY"
      }
    },
    {
      "cell_type": "markdown",
      "source": [
        "### KDD CUP Dataset"
      ],
      "metadata": {
        "id": "h6LGiyAwf78A"
      }
    },
    {
      "cell_type": "code",
      "source": [
        "import pandas as pd\n",
        "from sklearn.datasets import fetch_kddcup99\n",
        "data = fetch_kddcup99(shuffle=False, percent10=True, as_frame=True)\n",
        "df_kddcup = data.frame.convert_dtypes()"
      ],
      "metadata": {
        "id": "s8bpkgGbZG_I"
      },
      "execution_count": 18,
      "outputs": []
    },
    {
      "cell_type": "code",
      "source": [
        "df_kddcup"
      ],
      "metadata": {
        "colab": {
          "base_uri": "https://localhost:8080/",
          "height": 488
        },
        "id": "w3LEs2Tna8kW",
        "outputId": "60394209-bf0c-46c1-b9fb-26b20c2c7a70"
      },
      "execution_count": 19,
      "outputs": [
        {
          "output_type": "execute_result",
          "data": {
            "text/plain": [
              "        duration protocol_type  service   flag  src_bytes  dst_bytes  land  \\\n",
              "0              0        b'tcp'  b'http'  b'SF'        181       5450     0   \n",
              "1              0        b'tcp'  b'http'  b'SF'        239        486     0   \n",
              "2              0        b'tcp'  b'http'  b'SF'        235       1337     0   \n",
              "3              0        b'tcp'  b'http'  b'SF'        219       1337     0   \n",
              "4              0        b'tcp'  b'http'  b'SF'        217       2032     0   \n",
              "...          ...           ...      ...    ...        ...        ...   ...   \n",
              "494016         0        b'tcp'  b'http'  b'SF'        310       1881     0   \n",
              "494017         0        b'tcp'  b'http'  b'SF'        282       2286     0   \n",
              "494018         0        b'tcp'  b'http'  b'SF'        203       1200     0   \n",
              "494019         0        b'tcp'  b'http'  b'SF'        291       1200     0   \n",
              "494020         0        b'tcp'  b'http'  b'SF'        219       1234     0   \n",
              "\n",
              "        wrong_fragment  urgent  hot  ...  dst_host_srv_count  \\\n",
              "0                    0       0    0  ...                   9   \n",
              "1                    0       0    0  ...                  19   \n",
              "2                    0       0    0  ...                  29   \n",
              "3                    0       0    0  ...                  39   \n",
              "4                    0       0    0  ...                  49   \n",
              "...                ...     ...  ...  ...                 ...   \n",
              "494016               0       0    0  ...                 255   \n",
              "494017               0       0    0  ...                 255   \n",
              "494018               0       0    0  ...                 255   \n",
              "494019               0       0    0  ...                 255   \n",
              "494020               0       0    0  ...                 255   \n",
              "\n",
              "        dst_host_same_srv_rate  dst_host_diff_srv_rate  \\\n",
              "0                          1.0                     0.0   \n",
              "1                          1.0                     0.0   \n",
              "2                          1.0                     0.0   \n",
              "3                          1.0                     0.0   \n",
              "4                          1.0                     0.0   \n",
              "...                        ...                     ...   \n",
              "494016                     1.0                     0.0   \n",
              "494017                     1.0                     0.0   \n",
              "494018                     1.0                     0.0   \n",
              "494019                     1.0                     0.0   \n",
              "494020                     1.0                     0.0   \n",
              "\n",
              "        dst_host_same_src_port_rate  dst_host_srv_diff_host_rate  \\\n",
              "0                              0.11                          0.0   \n",
              "1                              0.05                          0.0   \n",
              "2                              0.03                          0.0   \n",
              "3                              0.03                          0.0   \n",
              "4                              0.02                          0.0   \n",
              "...                             ...                          ...   \n",
              "494016                         0.01                         0.05   \n",
              "494017                         0.17                         0.05   \n",
              "494018                         0.06                         0.05   \n",
              "494019                         0.04                         0.05   \n",
              "494020                         0.17                         0.05   \n",
              "\n",
              "        dst_host_serror_rate  dst_host_srv_serror_rate  dst_host_rerror_rate  \\\n",
              "0                        0.0                       0.0                   0.0   \n",
              "1                        0.0                       0.0                   0.0   \n",
              "2                        0.0                       0.0                   0.0   \n",
              "3                        0.0                       0.0                   0.0   \n",
              "4                        0.0                       0.0                   0.0   \n",
              "...                      ...                       ...                   ...   \n",
              "494016                   0.0                      0.01                   0.0   \n",
              "494017                   0.0                      0.01                   0.0   \n",
              "494018                  0.06                      0.01                   0.0   \n",
              "494019                  0.04                      0.01                   0.0   \n",
              "494020                   0.0                      0.01                   0.0   \n",
              "\n",
              "        dst_host_srv_rerror_rate      labels  \n",
              "0                            0.0  b'normal.'  \n",
              "1                            0.0  b'normal.'  \n",
              "2                            0.0  b'normal.'  \n",
              "3                            0.0  b'normal.'  \n",
              "4                            0.0  b'normal.'  \n",
              "...                          ...         ...  \n",
              "494016                       0.0  b'normal.'  \n",
              "494017                       0.0  b'normal.'  \n",
              "494018                       0.0  b'normal.'  \n",
              "494019                       0.0  b'normal.'  \n",
              "494020                       0.0  b'normal.'  \n",
              "\n",
              "[494021 rows x 42 columns]"
            ],
            "text/html": [
              "\n",
              "  <div id=\"df-4867d7a3-573a-48c7-a6bf-27c36bb4b7f0\">\n",
              "    <div class=\"colab-df-container\">\n",
              "      <div>\n",
              "<style scoped>\n",
              "    .dataframe tbody tr th:only-of-type {\n",
              "        vertical-align: middle;\n",
              "    }\n",
              "\n",
              "    .dataframe tbody tr th {\n",
              "        vertical-align: top;\n",
              "    }\n",
              "\n",
              "    .dataframe thead th {\n",
              "        text-align: right;\n",
              "    }\n",
              "</style>\n",
              "<table border=\"1\" class=\"dataframe\">\n",
              "  <thead>\n",
              "    <tr style=\"text-align: right;\">\n",
              "      <th></th>\n",
              "      <th>duration</th>\n",
              "      <th>protocol_type</th>\n",
              "      <th>service</th>\n",
              "      <th>flag</th>\n",
              "      <th>src_bytes</th>\n",
              "      <th>dst_bytes</th>\n",
              "      <th>land</th>\n",
              "      <th>wrong_fragment</th>\n",
              "      <th>urgent</th>\n",
              "      <th>hot</th>\n",
              "      <th>...</th>\n",
              "      <th>dst_host_srv_count</th>\n",
              "      <th>dst_host_same_srv_rate</th>\n",
              "      <th>dst_host_diff_srv_rate</th>\n",
              "      <th>dst_host_same_src_port_rate</th>\n",
              "      <th>dst_host_srv_diff_host_rate</th>\n",
              "      <th>dst_host_serror_rate</th>\n",
              "      <th>dst_host_srv_serror_rate</th>\n",
              "      <th>dst_host_rerror_rate</th>\n",
              "      <th>dst_host_srv_rerror_rate</th>\n",
              "      <th>labels</th>\n",
              "    </tr>\n",
              "  </thead>\n",
              "  <tbody>\n",
              "    <tr>\n",
              "      <th>0</th>\n",
              "      <td>0</td>\n",
              "      <td>b'tcp'</td>\n",
              "      <td>b'http'</td>\n",
              "      <td>b'SF'</td>\n",
              "      <td>181</td>\n",
              "      <td>5450</td>\n",
              "      <td>0</td>\n",
              "      <td>0</td>\n",
              "      <td>0</td>\n",
              "      <td>0</td>\n",
              "      <td>...</td>\n",
              "      <td>9</td>\n",
              "      <td>1.0</td>\n",
              "      <td>0.0</td>\n",
              "      <td>0.11</td>\n",
              "      <td>0.0</td>\n",
              "      <td>0.0</td>\n",
              "      <td>0.0</td>\n",
              "      <td>0.0</td>\n",
              "      <td>0.0</td>\n",
              "      <td>b'normal.'</td>\n",
              "    </tr>\n",
              "    <tr>\n",
              "      <th>1</th>\n",
              "      <td>0</td>\n",
              "      <td>b'tcp'</td>\n",
              "      <td>b'http'</td>\n",
              "      <td>b'SF'</td>\n",
              "      <td>239</td>\n",
              "      <td>486</td>\n",
              "      <td>0</td>\n",
              "      <td>0</td>\n",
              "      <td>0</td>\n",
              "      <td>0</td>\n",
              "      <td>...</td>\n",
              "      <td>19</td>\n",
              "      <td>1.0</td>\n",
              "      <td>0.0</td>\n",
              "      <td>0.05</td>\n",
              "      <td>0.0</td>\n",
              "      <td>0.0</td>\n",
              "      <td>0.0</td>\n",
              "      <td>0.0</td>\n",
              "      <td>0.0</td>\n",
              "      <td>b'normal.'</td>\n",
              "    </tr>\n",
              "    <tr>\n",
              "      <th>2</th>\n",
              "      <td>0</td>\n",
              "      <td>b'tcp'</td>\n",
              "      <td>b'http'</td>\n",
              "      <td>b'SF'</td>\n",
              "      <td>235</td>\n",
              "      <td>1337</td>\n",
              "      <td>0</td>\n",
              "      <td>0</td>\n",
              "      <td>0</td>\n",
              "      <td>0</td>\n",
              "      <td>...</td>\n",
              "      <td>29</td>\n",
              "      <td>1.0</td>\n",
              "      <td>0.0</td>\n",
              "      <td>0.03</td>\n",
              "      <td>0.0</td>\n",
              "      <td>0.0</td>\n",
              "      <td>0.0</td>\n",
              "      <td>0.0</td>\n",
              "      <td>0.0</td>\n",
              "      <td>b'normal.'</td>\n",
              "    </tr>\n",
              "    <tr>\n",
              "      <th>3</th>\n",
              "      <td>0</td>\n",
              "      <td>b'tcp'</td>\n",
              "      <td>b'http'</td>\n",
              "      <td>b'SF'</td>\n",
              "      <td>219</td>\n",
              "      <td>1337</td>\n",
              "      <td>0</td>\n",
              "      <td>0</td>\n",
              "      <td>0</td>\n",
              "      <td>0</td>\n",
              "      <td>...</td>\n",
              "      <td>39</td>\n",
              "      <td>1.0</td>\n",
              "      <td>0.0</td>\n",
              "      <td>0.03</td>\n",
              "      <td>0.0</td>\n",
              "      <td>0.0</td>\n",
              "      <td>0.0</td>\n",
              "      <td>0.0</td>\n",
              "      <td>0.0</td>\n",
              "      <td>b'normal.'</td>\n",
              "    </tr>\n",
              "    <tr>\n",
              "      <th>4</th>\n",
              "      <td>0</td>\n",
              "      <td>b'tcp'</td>\n",
              "      <td>b'http'</td>\n",
              "      <td>b'SF'</td>\n",
              "      <td>217</td>\n",
              "      <td>2032</td>\n",
              "      <td>0</td>\n",
              "      <td>0</td>\n",
              "      <td>0</td>\n",
              "      <td>0</td>\n",
              "      <td>...</td>\n",
              "      <td>49</td>\n",
              "      <td>1.0</td>\n",
              "      <td>0.0</td>\n",
              "      <td>0.02</td>\n",
              "      <td>0.0</td>\n",
              "      <td>0.0</td>\n",
              "      <td>0.0</td>\n",
              "      <td>0.0</td>\n",
              "      <td>0.0</td>\n",
              "      <td>b'normal.'</td>\n",
              "    </tr>\n",
              "    <tr>\n",
              "      <th>...</th>\n",
              "      <td>...</td>\n",
              "      <td>...</td>\n",
              "      <td>...</td>\n",
              "      <td>...</td>\n",
              "      <td>...</td>\n",
              "      <td>...</td>\n",
              "      <td>...</td>\n",
              "      <td>...</td>\n",
              "      <td>...</td>\n",
              "      <td>...</td>\n",
              "      <td>...</td>\n",
              "      <td>...</td>\n",
              "      <td>...</td>\n",
              "      <td>...</td>\n",
              "      <td>...</td>\n",
              "      <td>...</td>\n",
              "      <td>...</td>\n",
              "      <td>...</td>\n",
              "      <td>...</td>\n",
              "      <td>...</td>\n",
              "      <td>...</td>\n",
              "    </tr>\n",
              "    <tr>\n",
              "      <th>494016</th>\n",
              "      <td>0</td>\n",
              "      <td>b'tcp'</td>\n",
              "      <td>b'http'</td>\n",
              "      <td>b'SF'</td>\n",
              "      <td>310</td>\n",
              "      <td>1881</td>\n",
              "      <td>0</td>\n",
              "      <td>0</td>\n",
              "      <td>0</td>\n",
              "      <td>0</td>\n",
              "      <td>...</td>\n",
              "      <td>255</td>\n",
              "      <td>1.0</td>\n",
              "      <td>0.0</td>\n",
              "      <td>0.01</td>\n",
              "      <td>0.05</td>\n",
              "      <td>0.0</td>\n",
              "      <td>0.01</td>\n",
              "      <td>0.0</td>\n",
              "      <td>0.0</td>\n",
              "      <td>b'normal.'</td>\n",
              "    </tr>\n",
              "    <tr>\n",
              "      <th>494017</th>\n",
              "      <td>0</td>\n",
              "      <td>b'tcp'</td>\n",
              "      <td>b'http'</td>\n",
              "      <td>b'SF'</td>\n",
              "      <td>282</td>\n",
              "      <td>2286</td>\n",
              "      <td>0</td>\n",
              "      <td>0</td>\n",
              "      <td>0</td>\n",
              "      <td>0</td>\n",
              "      <td>...</td>\n",
              "      <td>255</td>\n",
              "      <td>1.0</td>\n",
              "      <td>0.0</td>\n",
              "      <td>0.17</td>\n",
              "      <td>0.05</td>\n",
              "      <td>0.0</td>\n",
              "      <td>0.01</td>\n",
              "      <td>0.0</td>\n",
              "      <td>0.0</td>\n",
              "      <td>b'normal.'</td>\n",
              "    </tr>\n",
              "    <tr>\n",
              "      <th>494018</th>\n",
              "      <td>0</td>\n",
              "      <td>b'tcp'</td>\n",
              "      <td>b'http'</td>\n",
              "      <td>b'SF'</td>\n",
              "      <td>203</td>\n",
              "      <td>1200</td>\n",
              "      <td>0</td>\n",
              "      <td>0</td>\n",
              "      <td>0</td>\n",
              "      <td>0</td>\n",
              "      <td>...</td>\n",
              "      <td>255</td>\n",
              "      <td>1.0</td>\n",
              "      <td>0.0</td>\n",
              "      <td>0.06</td>\n",
              "      <td>0.05</td>\n",
              "      <td>0.06</td>\n",
              "      <td>0.01</td>\n",
              "      <td>0.0</td>\n",
              "      <td>0.0</td>\n",
              "      <td>b'normal.'</td>\n",
              "    </tr>\n",
              "    <tr>\n",
              "      <th>494019</th>\n",
              "      <td>0</td>\n",
              "      <td>b'tcp'</td>\n",
              "      <td>b'http'</td>\n",
              "      <td>b'SF'</td>\n",
              "      <td>291</td>\n",
              "      <td>1200</td>\n",
              "      <td>0</td>\n",
              "      <td>0</td>\n",
              "      <td>0</td>\n",
              "      <td>0</td>\n",
              "      <td>...</td>\n",
              "      <td>255</td>\n",
              "      <td>1.0</td>\n",
              "      <td>0.0</td>\n",
              "      <td>0.04</td>\n",
              "      <td>0.05</td>\n",
              "      <td>0.04</td>\n",
              "      <td>0.01</td>\n",
              "      <td>0.0</td>\n",
              "      <td>0.0</td>\n",
              "      <td>b'normal.'</td>\n",
              "    </tr>\n",
              "    <tr>\n",
              "      <th>494020</th>\n",
              "      <td>0</td>\n",
              "      <td>b'tcp'</td>\n",
              "      <td>b'http'</td>\n",
              "      <td>b'SF'</td>\n",
              "      <td>219</td>\n",
              "      <td>1234</td>\n",
              "      <td>0</td>\n",
              "      <td>0</td>\n",
              "      <td>0</td>\n",
              "      <td>0</td>\n",
              "      <td>...</td>\n",
              "      <td>255</td>\n",
              "      <td>1.0</td>\n",
              "      <td>0.0</td>\n",
              "      <td>0.17</td>\n",
              "      <td>0.05</td>\n",
              "      <td>0.0</td>\n",
              "      <td>0.01</td>\n",
              "      <td>0.0</td>\n",
              "      <td>0.0</td>\n",
              "      <td>b'normal.'</td>\n",
              "    </tr>\n",
              "  </tbody>\n",
              "</table>\n",
              "<p>494021 rows × 42 columns</p>\n",
              "</div>\n",
              "      <button class=\"colab-df-convert\" onclick=\"convertToInteractive('df-4867d7a3-573a-48c7-a6bf-27c36bb4b7f0')\"\n",
              "              title=\"Convert this dataframe to an interactive table.\"\n",
              "              style=\"display:none;\">\n",
              "        \n",
              "  <svg xmlns=\"http://www.w3.org/2000/svg\" height=\"24px\"viewBox=\"0 0 24 24\"\n",
              "       width=\"24px\">\n",
              "    <path d=\"M0 0h24v24H0V0z\" fill=\"none\"/>\n",
              "    <path d=\"M18.56 5.44l.94 2.06.94-2.06 2.06-.94-2.06-.94-.94-2.06-.94 2.06-2.06.94zm-11 1L8.5 8.5l.94-2.06 2.06-.94-2.06-.94L8.5 2.5l-.94 2.06-2.06.94zm10 10l.94 2.06.94-2.06 2.06-.94-2.06-.94-.94-2.06-.94 2.06-2.06.94z\"/><path d=\"M17.41 7.96l-1.37-1.37c-.4-.4-.92-.59-1.43-.59-.52 0-1.04.2-1.43.59L10.3 9.45l-7.72 7.72c-.78.78-.78 2.05 0 2.83L4 21.41c.39.39.9.59 1.41.59.51 0 1.02-.2 1.41-.59l7.78-7.78 2.81-2.81c.8-.78.8-2.07 0-2.86zM5.41 20L4 18.59l7.72-7.72 1.47 1.35L5.41 20z\"/>\n",
              "  </svg>\n",
              "      </button>\n",
              "      \n",
              "  <style>\n",
              "    .colab-df-container {\n",
              "      display:flex;\n",
              "      flex-wrap:wrap;\n",
              "      gap: 12px;\n",
              "    }\n",
              "\n",
              "    .colab-df-convert {\n",
              "      background-color: #E8F0FE;\n",
              "      border: none;\n",
              "      border-radius: 50%;\n",
              "      cursor: pointer;\n",
              "      display: none;\n",
              "      fill: #1967D2;\n",
              "      height: 32px;\n",
              "      padding: 0 0 0 0;\n",
              "      width: 32px;\n",
              "    }\n",
              "\n",
              "    .colab-df-convert:hover {\n",
              "      background-color: #E2EBFA;\n",
              "      box-shadow: 0px 1px 2px rgba(60, 64, 67, 0.3), 0px 1px 3px 1px rgba(60, 64, 67, 0.15);\n",
              "      fill: #174EA6;\n",
              "    }\n",
              "\n",
              "    [theme=dark] .colab-df-convert {\n",
              "      background-color: #3B4455;\n",
              "      fill: #D2E3FC;\n",
              "    }\n",
              "\n",
              "    [theme=dark] .colab-df-convert:hover {\n",
              "      background-color: #434B5C;\n",
              "      box-shadow: 0px 1px 3px 1px rgba(0, 0, 0, 0.15);\n",
              "      filter: drop-shadow(0px 1px 2px rgba(0, 0, 0, 0.3));\n",
              "      fill: #FFFFFF;\n",
              "    }\n",
              "  </style>\n",
              "\n",
              "      <script>\n",
              "        const buttonEl =\n",
              "          document.querySelector('#df-4867d7a3-573a-48c7-a6bf-27c36bb4b7f0 button.colab-df-convert');\n",
              "        buttonEl.style.display =\n",
              "          google.colab.kernel.accessAllowed ? 'block' : 'none';\n",
              "\n",
              "        async function convertToInteractive(key) {\n",
              "          const element = document.querySelector('#df-4867d7a3-573a-48c7-a6bf-27c36bb4b7f0');\n",
              "          const dataTable =\n",
              "            await google.colab.kernel.invokeFunction('convertToInteractive',\n",
              "                                                     [key], {});\n",
              "          if (!dataTable) return;\n",
              "\n",
              "          const docLinkHtml = 'Like what you see? Visit the ' +\n",
              "            '<a target=\"_blank\" href=https://colab.research.google.com/notebooks/data_table.ipynb>data table notebook</a>'\n",
              "            + ' to learn more about interactive tables.';\n",
              "          element.innerHTML = '';\n",
              "          dataTable['output_type'] = 'display_data';\n",
              "          await google.colab.output.renderOutput(dataTable, element);\n",
              "          const docLink = document.createElement('div');\n",
              "          docLink.innerHTML = docLinkHtml;\n",
              "          element.appendChild(docLink);\n",
              "        }\n",
              "      </script>\n",
              "    </div>\n",
              "  </div>\n",
              "  "
            ]
          },
          "metadata": {},
          "execution_count": 19
        }
      ]
    },
    {
      "cell_type": "code",
      "source": [
        "df_kddcup.dtypes"
      ],
      "metadata": {
        "colab": {
          "base_uri": "https://localhost:8080/"
        },
        "id": "NGkAEz7afpSy",
        "outputId": "f0966174-3358-4643-dbf5-1a04c8d08b12"
      },
      "execution_count": 20,
      "outputs": [
        {
          "output_type": "execute_result",
          "data": {
            "text/plain": [
              "duration                         Int64\n",
              "protocol_type                   object\n",
              "service                         object\n",
              "flag                            object\n",
              "src_bytes                        Int64\n",
              "dst_bytes                        Int64\n",
              "land                             Int64\n",
              "wrong_fragment                   Int64\n",
              "urgent                           Int64\n",
              "hot                              Int64\n",
              "num_failed_logins                Int64\n",
              "logged_in                        Int64\n",
              "num_compromised                  Int64\n",
              "root_shell                       Int64\n",
              "su_attempted                     Int64\n",
              "num_root                         Int64\n",
              "num_file_creations               Int64\n",
              "num_shells                       Int64\n",
              "num_access_files                 Int64\n",
              "num_outbound_cmds                Int64\n",
              "is_host_login                    Int64\n",
              "is_guest_login                   Int64\n",
              "count                            Int64\n",
              "srv_count                        Int64\n",
              "serror_rate                    Float64\n",
              "srv_serror_rate                Float64\n",
              "rerror_rate                    Float64\n",
              "srv_rerror_rate                Float64\n",
              "same_srv_rate                  Float64\n",
              "diff_srv_rate                  Float64\n",
              "srv_diff_host_rate             Float64\n",
              "dst_host_count                   Int64\n",
              "dst_host_srv_count               Int64\n",
              "dst_host_same_srv_rate         Float64\n",
              "dst_host_diff_srv_rate         Float64\n",
              "dst_host_same_src_port_rate    Float64\n",
              "dst_host_srv_diff_host_rate    Float64\n",
              "dst_host_serror_rate           Float64\n",
              "dst_host_srv_serror_rate       Float64\n",
              "dst_host_rerror_rate           Float64\n",
              "dst_host_srv_rerror_rate       Float64\n",
              "labels                          object\n",
              "dtype: object"
            ]
          },
          "metadata": {},
          "execution_count": 20
        }
      ]
    },
    {
      "cell_type": "markdown",
      "source": [
        "### Model Training and Testing"
      ],
      "metadata": {
        "id": "yxCJjZefgB1n"
      }
    },
    {
      "cell_type": "markdown",
      "source": [
        "### Experiment Results"
      ],
      "metadata": {
        "id": "HicvCuRTgM-p"
      }
    },
    {
      "cell_type": "markdown",
      "source": [
        "## Conclusion"
      ],
      "metadata": {
        "id": "xnQHWQnEdoRi"
      }
    },
    {
      "cell_type": "markdown",
      "source": [
        "## References\n",
        "\n",
        "* Deep Autoencoding Gaussian Mixture Model for Unsupervised Anomaly Detection: [paper](https://openreview.net/forum?id=BJJLHbb0-).\n",
        "* Differentiation of the Cholesky decomposition: [paper](https://arxiv.org/abs/1602.07527).\n",
        "* A PyTorch implementation for the Deep Autoencoding Gaussian Mixture Model: [GitHub repository](https://github.com/mperezcarrasco/PyTorch-DAGMM).\n",
        "* Another PyTorch implementation for the Deep Autoencoding Gaussian Mixture Model: [GitHub repository](https://github.com/lixiangwang/DAGMM-pytorch).\n",
        "* Differentiating the Cholesky decomposition: [GitHub repository](https://github.com/imurray/chol-rev).\n",
        "* An extended collection of matrix derivative results for forward and reverse mode algorithmic differentiation: [report](https://people.maths.ox.ac.uk/gilesm/files/NA-08-01.pdf).\n",
        "* PyTorch: [documentation](https://pytorch.org/docs/stable/index.html).\n",
        "* KDD Cup 1999 Data: [dataset](https://archive.ics.uci.edu/ml/datasets/kdd+cup+1999+data).\n",
        "* Loading the KDD Cup 1999 dataset: [API](https://scikit-learn.org/stable/modules/generated/sklearn.datasets.fetch_kddcup99.html).\n"
      ],
      "metadata": {
        "id": "O4QfT2cqdslc"
      }
    }
  ],
  "metadata": {
    "kernelspec": {
      "display_name": "Python 3",
      "language": "python",
      "name": "python3"
    },
    "language_info": {
      "codemirror_mode": {
        "name": "ipython",
        "version": 3
      },
      "file_extension": ".py",
      "mimetype": "text/x-python",
      "name": "python",
      "nbconvert_exporter": "python",
      "pygments_lexer": "ipython3",
      "version": "3.7.4"
    },
    "colab": {
      "provenance": []
    },
    "gpuClass": "standard",
    "accelerator": "GPU"
  },
  "nbformat": 4,
  "nbformat_minor": 0
}