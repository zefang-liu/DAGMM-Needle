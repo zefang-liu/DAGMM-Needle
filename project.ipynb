{
 "cells": [
  {
   "cell_type": "markdown",
   "metadata": {
    "id": "tYti3NYwC9Fc"
   },
   "source": [
    "# 10-714 Project: Needle-DAGMM\n",
    "\n",
    "Needle (NEcessary Elements of Deep Learning) Implementation for the Deep Autoencoding Gaussian Mixture Model (DAGMM)\n",
    "\n",
    "Authors: Zefang Liu, Bin Gao, Chunshan Ma"
   ]
  },
  {
   "cell_type": "markdown",
   "source": [
    "## Introduction\n",
    "\n",
    "In this project, we implement new features of matrix inverse and Cholesky decomposition by using the developed library in the [Deep Learning Systems](https://dlsyscourse.org/) course, Needle (NEcessary Elements of Deep Learning), plus an implementation of the Deep Autoencoding Gaussian Mixture Model ([DAGMM](https://openreview.net/forum?id=BJJLHbb0-)) model, taking advantage of these features. The Cholesky decomposition is a matrix decomposition, where a positive-definite Hermitian matrix is decomposed into a product of a lower triangular matrix with its conjugate transpose. The DAGMM is a model for unsupervised anomaly detection on multi- or high-dimensional data. The inverse of Cholesky decomposition is used in DAGMM to compute the inverse of the covariance matrix and the sample energy in the loss function. In this project, we apply the DAGMM to build a network intrusion detector for the [KDD CUP 1999 Dataset](https://archive.ics.uci.edu/ml/datasets/kdd+cup+1999+data) with the capability of distinguishing between anomalous intrusion connections and benign regular connections.\n",
    "\n",
    "__Please save a copy of this notebook in your drive before running it.__"
   ],
   "metadata": {
    "id": "QgpQwtQOdVl0"
   }
  },
  {
   "cell_type": "code",
   "execution_count": 1,
   "metadata": {
    "id": "QsmQ1wfxC9Fe",
    "colab": {
     "base_uri": "https://localhost:8080/"
    },
    "outputId": "3b5a1076-0942-44d8-a07f-772c8c1f2531"
   },
   "outputs": [
    {
     "output_type": "stream",
     "name": "stdout",
     "text": [
      "Drive already mounted at /content/drive; to attempt to forcibly remount, call drive.mount(\"/content/drive\", force_remount=True).\n",
      "/content/drive/MyDrive\n",
      "/content/drive/MyDrive/10714\n",
      "fatal: destination path 'DAGMM-Needle' already exists and is not an empty directory.\n",
      "/content/drive/MyDrive/10714/DAGMM-Needle\n",
      "Looking in indexes: https://pypi.org/simple, https://us-python.pkg.dev/colab-wheels/public/simple/\n",
      "Requirement already satisfied: pybind11 in /usr/local/lib/python3.8/dist-packages (2.10.2)\n"
     ]
    }
   ],
   "source": [
    "from google.colab import drive\n",
    "drive.mount('/content/drive')\n",
    "%cd /content/drive/MyDrive/\n",
    "!mkdir -p 10714\n",
    "%cd /content/drive/MyDrive/10714\n",
    "!git clone https://github.com/zefang-liu/DAGMM-Needle\n",
    "%cd /content/drive/MyDrive/10714/DAGMM-Needle\n",
    "!pip3 install pybind11"
   ]
  },
  {
   "cell_type": "code",
   "execution_count": 2,
   "metadata": {
    "id": "NRCrMddoC9Ff",
    "colab": {
     "base_uri": "https://localhost:8080/"
    },
    "outputId": "eff3c687-9623-4b12-e760-ca5ee29a384c"
   },
   "outputs": [
    {
     "output_type": "stream",
     "name": "stdout",
     "text": [
      "-- Found pybind11: /usr/local/lib/python3.8/dist-packages/pybind11/include (found version \"2.10.2\")\n",
      "-- Found cuda, building cuda backend\n",
      "Wed Dec 28 01:25:18 2022       \n",
      "+-----------------------------------------------------------------------------+\n",
      "| NVIDIA-SMI 460.32.03    Driver Version: 460.32.03    CUDA Version: 11.2     |\n",
      "|-------------------------------+----------------------+----------------------+\n",
      "| GPU  Name        Persistence-M| Bus-Id        Disp.A | Volatile Uncorr. ECC |\n",
      "| Fan  Temp  Perf  Pwr:Usage/Cap|         Memory-Usage | GPU-Util  Compute M. |\n",
      "|                               |                      |               MIG M. |\n",
      "|===============================+======================+======================|\n",
      "|   0  Tesla T4            Off  | 00000000:00:04.0 Off |                    0 |\n",
      "| N/A   46C    P0    27W /  70W |      0MiB / 15109MiB |      0%      Default |\n",
      "|                               |                      |                  N/A |\n",
      "+-------------------------------+----------------------+----------------------+\n",
      "                                                                               \n",
      "+-----------------------------------------------------------------------------+\n",
      "| Processes:                                                                  |\n",
      "|  GPU   GI   CI        PID   Type   Process name                  GPU Memory |\n",
      "|        ID   ID                                                   Usage      |\n",
      "|=============================================================================|\n",
      "|  No running processes found                                                 |\n",
      "+-----------------------------------------------------------------------------+\n",
      "-- Autodetected CUDA architecture(s):  7.5\n",
      "-- Configuring done\n",
      "-- Generating done\n",
      "-- Build files have been written to: /content/drive/MyDrive/10714/DAGMM-Needle/build\n",
      "make[1]: Entering directory '/content/drive/MyDrive/10714/DAGMM-Needle/build'\n",
      "make[2]: Entering directory '/content/drive/MyDrive/10714/DAGMM-Needle/build'\n",
      "make[3]: Entering directory '/content/drive/MyDrive/10714/DAGMM-Needle/build'\n",
      "\u001B[35m\u001B[1mConsolidate compiler generated dependencies of target ndarray_backend_cpu\u001B[0m\n",
      "make[3]: Leaving directory '/content/drive/MyDrive/10714/DAGMM-Needle/build'\n",
      "[  0%] Built target ndarray_backend_cpu\n",
      "make[3]: Entering directory '/content/drive/MyDrive/10714/DAGMM-Needle/build'\n",
      "make[3]: Leaving directory '/content/drive/MyDrive/10714/DAGMM-Needle/build'\n",
      "make[3]: Entering directory '/content/drive/MyDrive/10714/DAGMM-Needle/build'\n",
      "[ 25%] \u001B[32m\u001B[1mLinking CXX shared module ../python/needle/backend_ndarray/ndarray_backend_cuda.cpython-38-x86_64-linux-gnu.so\u001B[0m\n",
      "make[3]: Leaving directory '/content/drive/MyDrive/10714/DAGMM-Needle/build'\n",
      "[ 50%] Built target ndarray_backend_cuda\n",
      "make[2]: Leaving directory '/content/drive/MyDrive/10714/DAGMM-Needle/build'\n",
      "make[1]: Leaving directory '/content/drive/MyDrive/10714/DAGMM-Needle/build'\n"
     ]
    }
   ],
   "source": [
    "!make"
   ]
  },
  {
   "cell_type": "markdown",
   "source": [
    "## Needle Framework\n",
    "\n",
    "The following operators are implemented in `python/needle/ops.py`:\n",
    "\n",
    "- `squeeze`\n",
    "- `unsqueeze`\n",
    "- `Abs` and `abs`\n",
    "- `norm`\n",
    "- `cosine_similarity`\n",
    "- `pairwise_distance`\n",
    "- `relative_distance`\n",
    "- `softmax`\n",
    "- `bmm`\n",
    "- `Inverse` and `inv`\n",
    "- `Det` and `det`\n",
    "- `Phi` and `phi`\n",
    "- `Cholesky` and `cholesky`\n",
    "\n"
   ],
   "metadata": {
    "id": "QeTe1La1cxH4"
   }
  },
  {
   "cell_type": "markdown",
   "source": [
    "### Squeeze and Unsqueeze\n",
    "\n",
    "The `needle.ops.squeeze` and `needle.ops.unsqueeze` are implemented to compute new tensors with dimensions removed or inserted at the specified position. These operator functions are verified by [`torch.squeeze`](https://pytorch.org/docs/stable/generated/torch.squeeze.html) and [`torch.unsqueeze`](https://pytorch.org/docs/stable/generated/torch.unsqueeze.html)."
   ],
   "metadata": {
    "id": "GIW69z3UewFL"
   }
  },
  {
   "cell_type": "code",
   "source": [
    "!python3 -m pytest -l -v -k \"op_squeeze\""
   ],
   "metadata": {
    "colab": {
     "base_uri": "https://localhost:8080/"
    },
    "id": "AjTKbxaDe1DY",
    "outputId": "1fedc751-230d-4d0e-ad76-ac02e9ae9128"
   },
   "execution_count": 3,
   "outputs": [
    {
     "output_type": "stream",
     "name": "stdout",
     "text": [
      "\u001B[1m============================= test session starts ==============================\u001B[0m\n",
      "platform linux -- Python 3.8.16, pytest-3.6.4, py-1.11.0, pluggy-0.7.1 -- /usr/bin/python3\n",
      "cachedir: .pytest_cache\n",
      "rootdir: /content/drive/MyDrive/10714/DAGMM-Needle, inifile:\n",
      "plugins: typeguard-2.7.1\n",
      "collected 144 items / 128 deselected                                           \u001B[0m\n",
      "\n",
      "tests/test_ops.py::test_op_squeeze[forward-cpu-x_shape0-None] \u001B[32mPASSED\u001B[0m\u001B[36m     [  6%]\u001B[0m\n",
      "tests/test_ops.py::test_op_squeeze[forward-cpu-x_shape1-0] \u001B[32mPASSED\u001B[0m\u001B[36m        [ 12%]\u001B[0m\n",
      "tests/test_ops.py::test_op_squeeze[forward-cpu-x_shape2-1] \u001B[32mPASSED\u001B[0m\u001B[36m        [ 18%]\u001B[0m\n",
      "tests/test_ops.py::test_op_squeeze[forward-cpu-x_shape3-1] \u001B[32mPASSED\u001B[0m\u001B[36m        [ 25%]\u001B[0m\n",
      "tests/test_ops.py::test_op_squeeze[forward-cuda-x_shape0-None] \u001B[32mPASSED\u001B[0m\u001B[36m    [ 31%]\u001B[0m\n",
      "tests/test_ops.py::test_op_squeeze[forward-cuda-x_shape1-0] \u001B[32mPASSED\u001B[0m\u001B[36m       [ 37%]\u001B[0m\n",
      "tests/test_ops.py::test_op_squeeze[forward-cuda-x_shape2-1] \u001B[32mPASSED\u001B[0m\u001B[36m       [ 43%]\u001B[0m\n",
      "tests/test_ops.py::test_op_squeeze[forward-cuda-x_shape3-1] \u001B[32mPASSED\u001B[0m\u001B[36m       [ 50%]\u001B[0m\n",
      "tests/test_ops.py::test_op_squeeze[backward-cpu-x_shape0-None] \u001B[32mPASSED\u001B[0m\u001B[36m    [ 56%]\u001B[0m\n",
      "tests/test_ops.py::test_op_squeeze[backward-cpu-x_shape1-0] \u001B[32mPASSED\u001B[0m\u001B[36m       [ 62%]\u001B[0m\n",
      "tests/test_ops.py::test_op_squeeze[backward-cpu-x_shape2-1] \u001B[32mPASSED\u001B[0m\u001B[36m       [ 68%]\u001B[0m\n",
      "tests/test_ops.py::test_op_squeeze[backward-cpu-x_shape3-1] \u001B[32mPASSED\u001B[0m\u001B[36m       [ 75%]\u001B[0m\n",
      "tests/test_ops.py::test_op_squeeze[backward-cuda-x_shape0-None] \u001B[32mPASSED\u001B[0m\u001B[36m   [ 81%]\u001B[0m\n",
      "tests/test_ops.py::test_op_squeeze[backward-cuda-x_shape1-0] \u001B[32mPASSED\u001B[0m\u001B[36m      [ 87%]\u001B[0m\n",
      "tests/test_ops.py::test_op_squeeze[backward-cuda-x_shape2-1] \u001B[32mPASSED\u001B[0m\u001B[36m      [ 93%]\u001B[0m\n",
      "tests/test_ops.py::test_op_squeeze[backward-cuda-x_shape3-1] \u001B[32mPASSED\u001B[0m\u001B[36m      [100%]\u001B[0m\n",
      "\n",
      "\u001B[32m\u001B[1m================== 16 passed, 128 deselected in 3.07 seconds ===================\u001B[0m\n"
     ]
    }
   ]
  },
  {
   "cell_type": "code",
   "source": [
    "!python3 -m pytest -l -v -k \"op_unsqueeze\""
   ],
   "metadata": {
    "colab": {
     "base_uri": "https://localhost:8080/"
    },
    "id": "DhEvBMqye1LJ",
    "outputId": "2a4b8b1e-dfba-4dbf-8a1a-d01da9c9eb53"
   },
   "execution_count": 4,
   "outputs": [
    {
     "output_type": "stream",
     "name": "stdout",
     "text": [
      "\u001B[1m============================= test session starts ==============================\u001B[0m\n",
      "platform linux -- Python 3.8.16, pytest-3.6.4, py-1.11.0, pluggy-0.7.1 -- /usr/bin/python3\n",
      "cachedir: .pytest_cache\n",
      "rootdir: /content/drive/MyDrive/10714/DAGMM-Needle, inifile:\n",
      "plugins: typeguard-2.7.1\n",
      "collected 144 items / 124 deselected                                           \u001B[0m\n",
      "\n",
      "tests/test_ops.py::test_op_unsqueeze[forward-cpu-x_shape0-0] \u001B[32mPASSED\u001B[0m\u001B[36m      [  5%]\u001B[0m\n",
      "tests/test_ops.py::test_op_unsqueeze[forward-cpu-x_shape1-1] \u001B[32mPASSED\u001B[0m\u001B[36m      [ 10%]\u001B[0m\n",
      "tests/test_ops.py::test_op_unsqueeze[forward-cpu-x_shape2-0] \u001B[32mPASSED\u001B[0m\u001B[36m      [ 15%]\u001B[0m\n",
      "tests/test_ops.py::test_op_unsqueeze[forward-cpu-x_shape3-1] \u001B[32mPASSED\u001B[0m\u001B[36m      [ 20%]\u001B[0m\n",
      "tests/test_ops.py::test_op_unsqueeze[forward-cpu-x_shape4-2] \u001B[32mPASSED\u001B[0m\u001B[36m      [ 25%]\u001B[0m\n",
      "tests/test_ops.py::test_op_unsqueeze[forward-cuda-x_shape0-0] \u001B[32mPASSED\u001B[0m\u001B[36m     [ 30%]\u001B[0m\n",
      "tests/test_ops.py::test_op_unsqueeze[forward-cuda-x_shape1-1] \u001B[32mPASSED\u001B[0m\u001B[36m     [ 35%]\u001B[0m\n",
      "tests/test_ops.py::test_op_unsqueeze[forward-cuda-x_shape2-0] \u001B[32mPASSED\u001B[0m\u001B[36m     [ 40%]\u001B[0m\n",
      "tests/test_ops.py::test_op_unsqueeze[forward-cuda-x_shape3-1] \u001B[32mPASSED\u001B[0m\u001B[36m     [ 45%]\u001B[0m\n",
      "tests/test_ops.py::test_op_unsqueeze[forward-cuda-x_shape4-2] \u001B[32mPASSED\u001B[0m\u001B[36m     [ 50%]\u001B[0m\n",
      "tests/test_ops.py::test_op_unsqueeze[backward-cpu-x_shape0-0] \u001B[32mPASSED\u001B[0m\u001B[36m     [ 55%]\u001B[0m\n",
      "tests/test_ops.py::test_op_unsqueeze[backward-cpu-x_shape1-1] \u001B[32mPASSED\u001B[0m\u001B[36m     [ 60%]\u001B[0m\n",
      "tests/test_ops.py::test_op_unsqueeze[backward-cpu-x_shape2-0] \u001B[32mPASSED\u001B[0m\u001B[36m     [ 65%]\u001B[0m\n",
      "tests/test_ops.py::test_op_unsqueeze[backward-cpu-x_shape3-1] \u001B[32mPASSED\u001B[0m\u001B[36m     [ 70%]\u001B[0m\n",
      "tests/test_ops.py::test_op_unsqueeze[backward-cpu-x_shape4-2] \u001B[32mPASSED\u001B[0m\u001B[36m     [ 75%]\u001B[0m\n",
      "tests/test_ops.py::test_op_unsqueeze[backward-cuda-x_shape0-0] \u001B[32mPASSED\u001B[0m\u001B[36m    [ 80%]\u001B[0m\n",
      "tests/test_ops.py::test_op_unsqueeze[backward-cuda-x_shape1-1] \u001B[32mPASSED\u001B[0m\u001B[36m    [ 85%]\u001B[0m\n",
      "tests/test_ops.py::test_op_unsqueeze[backward-cuda-x_shape2-0] \u001B[32mPASSED\u001B[0m\u001B[36m    [ 90%]\u001B[0m\n",
      "tests/test_ops.py::test_op_unsqueeze[backward-cuda-x_shape3-1] \u001B[32mPASSED\u001B[0m\u001B[36m    [ 95%]\u001B[0m\n",
      "tests/test_ops.py::test_op_unsqueeze[backward-cuda-x_shape4-2] \u001B[32mPASSED\u001B[0m\u001B[36m    [100%]\u001B[0m\n",
      "\n",
      "\u001B[32m\u001B[1m================== 20 passed, 124 deselected in 4.40 seconds ===================\u001B[0m\n"
     ]
    }
   ]
  },
  {
   "cell_type": "markdown",
   "source": [
    "### Abs\n",
    "\n",
    "The `needle.ops.abs` is implemented to compute the absolute value of each element in a tensor. This operator function is verified by [`torch.abs`](https://pytorch.org/docs/stable/generated/torch.abs.html)."
   ],
   "metadata": {
    "id": "5y4CKksDyuxl"
   }
  },
  {
   "cell_type": "code",
   "source": [
    "!python3 -m pytest -l -v -k \"op_abs\""
   ],
   "metadata": {
    "colab": {
     "base_uri": "https://localhost:8080/"
    },
    "outputId": "280ba258-6dda-4c7e-c0a0-e449cc95edbb",
    "id": "W7JuPSsByuxm"
   },
   "execution_count": 5,
   "outputs": [
    {
     "output_type": "stream",
     "name": "stdout",
     "text": [
      "\u001B[1m============================= test session starts ==============================\u001B[0m\n",
      "platform linux -- Python 3.8.16, pytest-3.6.4, py-1.11.0, pluggy-0.7.1 -- /usr/bin/python3\n",
      "cachedir: .pytest_cache\n",
      "rootdir: /content/drive/MyDrive/10714/DAGMM-Needle, inifile:\n",
      "plugins: typeguard-2.7.1\n",
      "collected 144 items / 132 deselected                                           \u001B[0m\n",
      "\n",
      "tests/test_ops.py::test_op_abs[forward-cpu-x_shape0] \u001B[32mPASSED\u001B[0m\u001B[36m              [  8%]\u001B[0m\n",
      "tests/test_ops.py::test_op_abs[forward-cpu-x_shape1] \u001B[32mPASSED\u001B[0m\u001B[36m              [ 16%]\u001B[0m\n",
      "tests/test_ops.py::test_op_abs[forward-cpu-x_shape2] \u001B[32mPASSED\u001B[0m\u001B[36m              [ 25%]\u001B[0m\n",
      "tests/test_ops.py::test_op_abs[forward-cuda-x_shape0] \u001B[32mPASSED\u001B[0m\u001B[36m             [ 33%]\u001B[0m\n",
      "tests/test_ops.py::test_op_abs[forward-cuda-x_shape1] \u001B[32mPASSED\u001B[0m\u001B[36m             [ 41%]\u001B[0m\n",
      "tests/test_ops.py::test_op_abs[forward-cuda-x_shape2] \u001B[32mPASSED\u001B[0m\u001B[36m             [ 50%]\u001B[0m\n",
      "tests/test_ops.py::test_op_abs[backward-cpu-x_shape0] \u001B[32mPASSED\u001B[0m\u001B[36m             [ 58%]\u001B[0m\n",
      "tests/test_ops.py::test_op_abs[backward-cpu-x_shape1] \u001B[32mPASSED\u001B[0m\u001B[36m             [ 66%]\u001B[0m\n",
      "tests/test_ops.py::test_op_abs[backward-cpu-x_shape2] \u001B[32mPASSED\u001B[0m\u001B[36m             [ 75%]\u001B[0m\n",
      "tests/test_ops.py::test_op_abs[backward-cuda-x_shape0] \u001B[32mPASSED\u001B[0m\u001B[36m            [ 83%]\u001B[0m\n",
      "tests/test_ops.py::test_op_abs[backward-cuda-x_shape1] \u001B[32mPASSED\u001B[0m\u001B[36m            [ 91%]\u001B[0m\n",
      "tests/test_ops.py::test_op_abs[backward-cuda-x_shape2] \u001B[32mPASSED\u001B[0m\u001B[36m            [100%]\u001B[0m\n",
      "\n",
      "\u001B[32m\u001B[1m================== 12 passed, 132 deselected in 2.92 seconds ===================\u001B[0m\n"
     ]
    }
   ]
  },
  {
   "cell_type": "markdown",
   "source": [
    "### Norm\n",
    "\n",
    "The `needle.ops.norm` is implemented to compute the vector norm of a tensor. This operator function is verified by [`torch.norm`](https://pytorch.org/docs/stable/generated/torch.norm.html)."
   ],
   "metadata": {
    "id": "CTA5-hfYezy0"
   }
  },
  {
   "cell_type": "code",
   "source": [
    "!python3 -m pytest -l -v -k \"op_norm\""
   ],
   "metadata": {
    "colab": {
     "base_uri": "https://localhost:8080/"
    },
    "id": "ANoCyU5KLOLJ",
    "outputId": "55b75613-ff4d-4613-f7c7-3f3c4450aa7d"
   },
   "execution_count": 6,
   "outputs": [
    {
     "output_type": "stream",
     "name": "stdout",
     "text": [
      "\u001B[1m============================= test session starts ==============================\u001B[0m\n",
      "platform linux -- Python 3.8.16, pytest-3.6.4, py-1.11.0, pluggy-0.7.1 -- /usr/bin/python3\n",
      "cachedir: .pytest_cache\n",
      "rootdir: /content/drive/MyDrive/10714/DAGMM-Needle, inifile:\n",
      "plugins: typeguard-2.7.1\n",
      "collected 144 items / 132 deselected                                           \u001B[0m\n",
      "\n",
      "tests/test_ops.py::test_op_norm[forward-cpu-x_shape0-0] \u001B[32mPASSED\u001B[0m\u001B[36m           [  8%]\u001B[0m\n",
      "tests/test_ops.py::test_op_norm[forward-cpu-x_shape1-0] \u001B[32mPASSED\u001B[0m\u001B[36m           [ 16%]\u001B[0m\n",
      "tests/test_ops.py::test_op_norm[forward-cpu-x_shape2-1] \u001B[32mPASSED\u001B[0m\u001B[36m           [ 25%]\u001B[0m\n",
      "tests/test_ops.py::test_op_norm[forward-cuda-x_shape0-0] \u001B[32mPASSED\u001B[0m\u001B[36m          [ 33%]\u001B[0m\n",
      "tests/test_ops.py::test_op_norm[forward-cuda-x_shape1-0] \u001B[32mPASSED\u001B[0m\u001B[36m          [ 41%]\u001B[0m\n",
      "tests/test_ops.py::test_op_norm[forward-cuda-x_shape2-1] \u001B[32mPASSED\u001B[0m\u001B[36m          [ 50%]\u001B[0m\n",
      "tests/test_ops.py::test_op_norm[backward-cpu-x_shape0-0] \u001B[32mPASSED\u001B[0m\u001B[36m          [ 58%]\u001B[0m\n",
      "tests/test_ops.py::test_op_norm[backward-cpu-x_shape1-0] \u001B[32mPASSED\u001B[0m\u001B[36m          [ 66%]\u001B[0m\n",
      "tests/test_ops.py::test_op_norm[backward-cpu-x_shape2-1] \u001B[32mPASSED\u001B[0m\u001B[36m          [ 75%]\u001B[0m\n",
      "tests/test_ops.py::test_op_norm[backward-cuda-x_shape0-0] \u001B[32mPASSED\u001B[0m\u001B[36m         [ 83%]\u001B[0m\n",
      "tests/test_ops.py::test_op_norm[backward-cuda-x_shape1-0] \u001B[32mPASSED\u001B[0m\u001B[36m         [ 91%]\u001B[0m\n",
      "tests/test_ops.py::test_op_norm[backward-cuda-x_shape2-1] \u001B[32mPASSED\u001B[0m\u001B[36m         [100%]\u001B[0m\n",
      "\n",
      "\u001B[32m\u001B[1m================== 12 passed, 132 deselected in 2.49 seconds ===================\u001B[0m\n"
     ]
    }
   ]
  },
  {
   "cell_type": "markdown",
   "source": [
    "### Cosine Similarity\n",
    "\n",
    "The `needle.ops.cosine_similarity` is implemented to compute the cosine similarity of two vectors:\n",
    "$$ \\frac{\\mathbf{x} \\cdot \\mathbf{x}'}{\\lVert \\mathbf{x} \\rVert_2 \\lVert \\mathbf{x}' \\rVert_2} . $$\n",
    "This operator function is verified by [`torch.nn.functional.cosine_similarity`](https://pytorch.org/docs/stable/generated/torch.nn.functional.cosine_similarity.html)."
   ],
   "metadata": {
    "id": "LNOeihnLe4z6"
   }
  },
  {
   "cell_type": "code",
   "source": [
    "!python3 -m pytest -l -v -k \"op_cosine_similarity\""
   ],
   "metadata": {
    "colab": {
     "base_uri": "https://localhost:8080/"
    },
    "id": "BCnt4MlWMvOl",
    "outputId": "c27a8817-6ec0-47dd-c40a-a1a344d9d366"
   },
   "execution_count": 7,
   "outputs": [
    {
     "output_type": "stream",
     "name": "stdout",
     "text": [
      "\u001B[1m============================= test session starts ==============================\u001B[0m\n",
      "platform linux -- Python 3.8.16, pytest-3.6.4, py-1.11.0, pluggy-0.7.1 -- /usr/bin/python3\n",
      "cachedir: .pytest_cache\n",
      "rootdir: /content/drive/MyDrive/10714/DAGMM-Needle, inifile:\n",
      "plugins: typeguard-2.7.1\n",
      "collected 144 items / 132 deselected                                           \u001B[0m\n",
      "\n",
      "tests/test_ops.py::test_op_cosine_similarity[forward-cpu-x_shape0-0] \u001B[32mPASSED\u001B[0m\u001B[36m [  8%]\u001B[0m\n",
      "tests/test_ops.py::test_op_cosine_similarity[forward-cpu-x_shape1-0] \u001B[32mPASSED\u001B[0m\u001B[36m [ 16%]\u001B[0m\n",
      "tests/test_ops.py::test_op_cosine_similarity[forward-cpu-x_shape2-1] \u001B[32mPASSED\u001B[0m\u001B[36m [ 25%]\u001B[0m\n",
      "tests/test_ops.py::test_op_cosine_similarity[forward-cuda-x_shape0-0] \u001B[32mPASSED\u001B[0m\u001B[36m [ 33%]\u001B[0m\n",
      "tests/test_ops.py::test_op_cosine_similarity[forward-cuda-x_shape1-0] \u001B[32mPASSED\u001B[0m\u001B[36m [ 41%]\u001B[0m\n",
      "tests/test_ops.py::test_op_cosine_similarity[forward-cuda-x_shape2-1] \u001B[32mPASSED\u001B[0m\u001B[36m [ 50%]\u001B[0m\n",
      "tests/test_ops.py::test_op_cosine_similarity[backward-cpu-x_shape0-0] \u001B[32mPASSED\u001B[0m\u001B[36m [ 58%]\u001B[0m\n",
      "tests/test_ops.py::test_op_cosine_similarity[backward-cpu-x_shape1-0] \u001B[32mPASSED\u001B[0m\u001B[36m [ 66%]\u001B[0m\n",
      "tests/test_ops.py::test_op_cosine_similarity[backward-cpu-x_shape2-1] \u001B[32mPASSED\u001B[0m\u001B[36m [ 75%]\u001B[0m\n",
      "tests/test_ops.py::test_op_cosine_similarity[backward-cuda-x_shape0-0] \u001B[32mPASSED\u001B[0m\u001B[36m [ 83%]\u001B[0m\n",
      "tests/test_ops.py::test_op_cosine_similarity[backward-cuda-x_shape1-0] \u001B[32mPASSED\u001B[0m\u001B[36m [ 91%]\u001B[0m\n",
      "tests/test_ops.py::test_op_cosine_similarity[backward-cuda-x_shape2-1] \u001B[32mPASSED\u001B[0m\u001B[36m [100%]\u001B[0m\n",
      "\n",
      "\u001B[32m\u001B[1m================== 12 passed, 132 deselected in 2.92 seconds ===================\u001B[0m\n"
     ]
    }
   ]
  },
  {
   "cell_type": "markdown",
   "source": [
    "### Pairwise Distance\n",
    "\n",
    "The `needle.ops.pairwise_distance` is implemented to compute the pairwise distance between input vectors. This operator function is verified by [`torch.nn.functional.pairwise_distance`](https://pytorch.org/docs/stable/generated/torch.nn.functional.pairwise_distance.html)."
   ],
   "metadata": {
    "id": "Uyu0qj_9e7UV"
   }
  },
  {
   "cell_type": "code",
   "source": [
    "!python3 -m pytest -l -v -k \"op_pairwise_distance\""
   ],
   "metadata": {
    "colab": {
     "base_uri": "https://localhost:8080/"
    },
    "id": "4jRgyws_SRbd",
    "outputId": "f1568a30-ef2f-4645-a1cb-8aed1dfab863"
   },
   "execution_count": 8,
   "outputs": [
    {
     "output_type": "stream",
     "name": "stdout",
     "text": [
      "\u001B[1m============================= test session starts ==============================\u001B[0m\n",
      "platform linux -- Python 3.8.16, pytest-3.6.4, py-1.11.0, pluggy-0.7.1 -- /usr/bin/python3\n",
      "cachedir: .pytest_cache\n",
      "rootdir: /content/drive/MyDrive/10714/DAGMM-Needle, inifile:\n",
      "plugins: typeguard-2.7.1\n",
      "collected 144 items / 136 deselected                                           \u001B[0m\n",
      "\n",
      "tests/test_ops.py::test_op_pairwise_distance[forward-cpu-x_shape0-0] \u001B[32mPASSED\u001B[0m\u001B[36m [ 12%]\u001B[0m\n",
      "tests/test_ops.py::test_op_pairwise_distance[forward-cpu-x_shape1-1] \u001B[32mPASSED\u001B[0m\u001B[36m [ 25%]\u001B[0m\n",
      "tests/test_ops.py::test_op_pairwise_distance[forward-cuda-x_shape0-0] \u001B[32mPASSED\u001B[0m\u001B[36m [ 37%]\u001B[0m\n",
      "tests/test_ops.py::test_op_pairwise_distance[forward-cuda-x_shape1-1] \u001B[32mPASSED\u001B[0m\u001B[36m [ 50%]\u001B[0m\n",
      "tests/test_ops.py::test_op_pairwise_distance[backward-cpu-x_shape0-0] \u001B[32mPASSED\u001B[0m\u001B[36m [ 62%]\u001B[0m\n",
      "tests/test_ops.py::test_op_pairwise_distance[backward-cpu-x_shape1-1] \u001B[32mPASSED\u001B[0m\u001B[36m [ 75%]\u001B[0m\n",
      "tests/test_ops.py::test_op_pairwise_distance[backward-cuda-x_shape0-0] \u001B[32mPASSED\u001B[0m\u001B[36m [ 87%]\u001B[0m\n",
      "tests/test_ops.py::test_op_pairwise_distance[backward-cuda-x_shape1-1] \u001B[32mPASSED\u001B[0m\u001B[36m [100%]\u001B[0m\n",
      "\n",
      "\u001B[32m\u001B[1m=================== 8 passed, 136 deselected in 2.43 seconds ===================\u001B[0m\n"
     ]
    }
   ]
  },
  {
   "cell_type": "markdown",
   "source": [
    "### Softmax\n",
    "\n",
    "The `needle.ops.softmax` is implemented to apply the softmax function. This operator function is verified by [`torch.nn.functional.softmax`](https://pytorch.org/docs/stable/generated/torch.nn.functional.softmax.html)."
   ],
   "metadata": {
    "id": "kqfZdFZ3e-Is"
   }
  },
  {
   "cell_type": "code",
   "source": [
    "!python3 -m pytest -l -v -k \"op_softmax\""
   ],
   "metadata": {
    "colab": {
     "base_uri": "https://localhost:8080/"
    },
    "id": "KSjOsn3CQKNS",
    "outputId": "2cd1612c-d0cc-427c-c7d6-48f33456ac31"
   },
   "execution_count": 9,
   "outputs": [
    {
     "output_type": "stream",
     "name": "stdout",
     "text": [
      "\u001B[1m============================= test session starts ==============================\u001B[0m\n",
      "platform linux -- Python 3.8.16, pytest-3.6.4, py-1.11.0, pluggy-0.7.1 -- /usr/bin/python3\n",
      "cachedir: .pytest_cache\n",
      "rootdir: /content/drive/MyDrive/10714/DAGMM-Needle, inifile:\n",
      "plugins: typeguard-2.7.1\n",
      "collected 144 items / 132 deselected                                           \u001B[0m\n",
      "\n",
      "tests/test_ops.py::test_op_softmax[forward-cpu-x_shape0-0] \u001B[32mPASSED\u001B[0m\u001B[36m        [  8%]\u001B[0m\n",
      "tests/test_ops.py::test_op_softmax[forward-cpu-x_shape1-1] \u001B[32mPASSED\u001B[0m\u001B[36m        [ 16%]\u001B[0m\n",
      "tests/test_ops.py::test_op_softmax[forward-cpu-x_shape2-1] \u001B[32mPASSED\u001B[0m\u001B[36m        [ 25%]\u001B[0m\n",
      "tests/test_ops.py::test_op_softmax[forward-cuda-x_shape0-0] \u001B[32mPASSED\u001B[0m\u001B[36m       [ 33%]\u001B[0m\n",
      "tests/test_ops.py::test_op_softmax[forward-cuda-x_shape1-1] \u001B[32mPASSED\u001B[0m\u001B[36m       [ 41%]\u001B[0m\n",
      "tests/test_ops.py::test_op_softmax[forward-cuda-x_shape2-1] \u001B[32mPASSED\u001B[0m\u001B[36m       [ 50%]\u001B[0m\n",
      "tests/test_ops.py::test_op_softmax[backward-cpu-x_shape0-0] \u001B[32mPASSED\u001B[0m\u001B[36m       [ 58%]\u001B[0m\n",
      "tests/test_ops.py::test_op_softmax[backward-cpu-x_shape1-1] \u001B[32mPASSED\u001B[0m\u001B[36m       [ 66%]\u001B[0m\n",
      "tests/test_ops.py::test_op_softmax[backward-cpu-x_shape2-1] \u001B[32mPASSED\u001B[0m\u001B[36m       [ 75%]\u001B[0m\n",
      "tests/test_ops.py::test_op_softmax[backward-cuda-x_shape0-0] \u001B[32mPASSED\u001B[0m\u001B[36m      [ 83%]\u001B[0m\n",
      "tests/test_ops.py::test_op_softmax[backward-cuda-x_shape1-1] \u001B[32mPASSED\u001B[0m\u001B[36m      [ 91%]\u001B[0m\n",
      "tests/test_ops.py::test_op_softmax[backward-cuda-x_shape2-1] \u001B[32mPASSED\u001B[0m\u001B[36m      [100%]\u001B[0m\n",
      "\n",
      "\u001B[32m\u001B[1m================== 12 passed, 132 deselected in 2.73 seconds ===================\u001B[0m\n"
     ]
    }
   ]
  },
  {
   "cell_type": "markdown",
   "source": [
    "### Batch Matrix Multiplication\n",
    "\n",
    "The `needle.ops.bmm` is implemented to compute a batch matrix-matrix product of matrices. This operator function is verified by [`torch.bmm`](https://pytorch.org/docs/stable/generated/torch.bmm.html)."
   ],
   "metadata": {
    "id": "Nyo1UrkWfGS2"
   }
  },
  {
   "cell_type": "code",
   "source": [
    "!python3 -m pytest -l -v -k \"op_bmm\""
   ],
   "metadata": {
    "colab": {
     "base_uri": "https://localhost:8080/"
    },
    "id": "XJ0piw54UW0y",
    "outputId": "d294e615-9516-4916-a22f-5d9fa90f8203"
   },
   "execution_count": 10,
   "outputs": [
    {
     "output_type": "stream",
     "name": "stdout",
     "text": [
      "\u001B[1m============================= test session starts ==============================\u001B[0m\n",
      "platform linux -- Python 3.8.16, pytest-3.6.4, py-1.11.0, pluggy-0.7.1 -- /usr/bin/python3\n",
      "cachedir: .pytest_cache\n",
      "rootdir: /content/drive/MyDrive/10714/DAGMM-Needle, inifile:\n",
      "plugins: typeguard-2.7.1\n",
      "collected 144 items / 136 deselected                                           \u001B[0m\n",
      "\n",
      "tests/test_ops.py::test_op_bmm[forward-cpu-A_shape0-B_shape0] \u001B[32mPASSED\u001B[0m\u001B[36m     [ 12%]\u001B[0m\n",
      "tests/test_ops.py::test_op_bmm[forward-cpu-A_shape1-B_shape1] \u001B[32mPASSED\u001B[0m\u001B[36m     [ 25%]\u001B[0m\n",
      "tests/test_ops.py::test_op_bmm[forward-cuda-A_shape0-B_shape0] \u001B[32mPASSED\u001B[0m\u001B[36m    [ 37%]\u001B[0m\n",
      "tests/test_ops.py::test_op_bmm[forward-cuda-A_shape1-B_shape1] \u001B[32mPASSED\u001B[0m\u001B[36m    [ 50%]\u001B[0m\n",
      "tests/test_ops.py::test_op_bmm[backward-cpu-A_shape0-B_shape0] \u001B[32mPASSED\u001B[0m\u001B[36m    [ 62%]\u001B[0m\n",
      "tests/test_ops.py::test_op_bmm[backward-cpu-A_shape1-B_shape1] \u001B[32mPASSED\u001B[0m\u001B[36m    [ 75%]\u001B[0m\n",
      "tests/test_ops.py::test_op_bmm[backward-cuda-A_shape0-B_shape0] \u001B[32mPASSED\u001B[0m\u001B[36m   [ 87%]\u001B[0m\n",
      "tests/test_ops.py::test_op_bmm[backward-cuda-A_shape1-B_shape1] \u001B[32mPASSED\u001B[0m\u001B[36m   [100%]\u001B[0m\n",
      "\n",
      "\u001B[32m\u001B[1m=================== 8 passed, 136 deselected in 2.38 seconds ===================\u001B[0m\n"
     ]
    }
   ]
  },
  {
   "cell_type": "markdown",
   "source": [
    "### Matrix Inverse\n",
    "\n",
    "The `needle.ops.Inverse` and `needle.ops.inv` are implemented to compute the inverse of a square matrix. The reverse mode can be calculatedc by $ \\bar{A} = - C^{T} \\bar{C} C^{T} $, where $ C = A^{-1} $. This operator function is verified by [`torch.linalg.inv`](https://pytorch.org/docs/stable/generated/torch.linalg.inv.html)."
   ],
   "metadata": {
    "id": "9yW5Qo5DfNkt"
   }
  },
  {
   "cell_type": "code",
   "source": [
    "!python3 -m pytest -l -v -k \"op_inv\""
   ],
   "metadata": {
    "colab": {
     "base_uri": "https://localhost:8080/"
    },
    "id": "FeVPaPPV_B-Q",
    "outputId": "82aa419e-f50b-4f2a-e92c-d8a035ed1338"
   },
   "execution_count": 11,
   "outputs": [
    {
     "output_type": "stream",
     "name": "stdout",
     "text": [
      "\u001B[1m============================= test session starts ==============================\u001B[0m\n",
      "platform linux -- Python 3.8.16, pytest-3.6.4, py-1.11.0, pluggy-0.7.1 -- /usr/bin/python3\n",
      "cachedir: .pytest_cache\n",
      "rootdir: /content/drive/MyDrive/10714/DAGMM-Needle, inifile:\n",
      "plugins: typeguard-2.7.1\n",
      "collected 144 items / 136 deselected                                           \u001B[0m\n",
      "\n",
      "tests/test_ops.py::test_op_inv[forward-cpu-A_shape0] \u001B[32mPASSED\u001B[0m\u001B[36m              [ 12%]\u001B[0m\n",
      "tests/test_ops.py::test_op_inv[forward-cpu-A_shape1] \u001B[32mPASSED\u001B[0m\u001B[36m              [ 25%]\u001B[0m\n",
      "tests/test_ops.py::test_op_inv[forward-cuda-A_shape0] \u001B[32mPASSED\u001B[0m\u001B[36m             [ 37%]\u001B[0m\n",
      "tests/test_ops.py::test_op_inv[forward-cuda-A_shape1] \u001B[32mPASSED\u001B[0m\u001B[36m             [ 50%]\u001B[0m\n",
      "tests/test_ops.py::test_op_inv[backward-cpu-A_shape0] \u001B[32mPASSED\u001B[0m\u001B[36m             [ 62%]\u001B[0m\n",
      "tests/test_ops.py::test_op_inv[backward-cpu-A_shape1] \u001B[32mPASSED\u001B[0m\u001B[36m             [ 75%]\u001B[0m\n",
      "tests/test_ops.py::test_op_inv[backward-cuda-A_shape0] \u001B[32mPASSED\u001B[0m\u001B[36m            [ 87%]\u001B[0m\n",
      "tests/test_ops.py::test_op_inv[backward-cuda-A_shape1] \u001B[32mPASSED\u001B[0m\u001B[36m            [100%]\u001B[0m\n",
      "\n",
      "\u001B[32m\u001B[1m=================== 8 passed, 136 deselected in 2.43 seconds ===================\u001B[0m\n"
     ]
    }
   ]
  },
  {
   "cell_type": "markdown",
   "source": [
    "### Matrix Determinant\n",
    "\n",
    "The `needle.ops.Det` and `needle.ops.det` are implemented to compute the determinant of a square matrix. The reverse mode can be calculatedc by $ \\bar{A} = \\bar{C} C A^{-T} $, where $ C = \\text{det} A $. This operator function is verified by [`torch.linalg.det`](https://pytorch.org/docs/stable/generated/torch.linalg.det.html)."
   ],
   "metadata": {
    "id": "_cEyCLJSfPaq"
   }
  },
  {
   "cell_type": "code",
   "source": [
    "!python3 -m pytest -l -v -k \"op_det\""
   ],
   "metadata": {
    "colab": {
     "base_uri": "https://localhost:8080/"
    },
    "id": "m5pta9q__BC6",
    "outputId": "b7ad5f2f-1676-470a-d997-f86551a5d2a5"
   },
   "execution_count": 12,
   "outputs": [
    {
     "output_type": "stream",
     "name": "stdout",
     "text": [
      "\u001B[1m============================= test session starts ==============================\u001B[0m\n",
      "platform linux -- Python 3.8.16, pytest-3.6.4, py-1.11.0, pluggy-0.7.1 -- /usr/bin/python3\n",
      "cachedir: .pytest_cache\n",
      "rootdir: /content/drive/MyDrive/10714/DAGMM-Needle, inifile:\n",
      "plugins: typeguard-2.7.1\n",
      "collected 144 items / 136 deselected                                           \u001B[0m\n",
      "\n",
      "tests/test_ops.py::test_op_det[forward-cpu-A_shape0] \u001B[32mPASSED\u001B[0m\u001B[36m              [ 12%]\u001B[0m\n",
      "tests/test_ops.py::test_op_det[forward-cpu-A_shape1] \u001B[32mPASSED\u001B[0m\u001B[36m              [ 25%]\u001B[0m\n",
      "tests/test_ops.py::test_op_det[forward-cuda-A_shape0] \u001B[32mPASSED\u001B[0m\u001B[36m             [ 37%]\u001B[0m\n",
      "tests/test_ops.py::test_op_det[forward-cuda-A_shape1] \u001B[32mPASSED\u001B[0m\u001B[36m             [ 50%]\u001B[0m\n",
      "tests/test_ops.py::test_op_det[backward-cpu-A_shape0] \u001B[32mPASSED\u001B[0m\u001B[36m             [ 62%]\u001B[0m\n",
      "tests/test_ops.py::test_op_det[backward-cpu-A_shape1] \u001B[32mPASSED\u001B[0m\u001B[36m             [ 75%]\u001B[0m\n",
      "tests/test_ops.py::test_op_det[backward-cuda-A_shape0] \u001B[32mPASSED\u001B[0m\u001B[36m            [ 87%]\u001B[0m\n",
      "tests/test_ops.py::test_op_det[backward-cuda-A_shape1] \u001B[32mPASSED\u001B[0m\u001B[36m            [100%]\u001B[0m\n",
      "\n",
      "\u001B[32m\u001B[1m=================== 8 passed, 136 deselected in 2.74 seconds ===================\u001B[0m\n"
     ]
    }
   ]
  },
  {
   "cell_type": "markdown",
   "source": [
    "### Matrix Diagonal\n",
    "\n",
    "The `needle.ops.Diagonal` and `needle.ops.diagonal` are implemented to get the diagonal of a square matrix. This operator function is verified by [`torch.diag`](https://pytorch.org/docs/stable/generated/torch.diag.html)."
   ],
   "metadata": {
    "id": "FB45s2TjfVv3"
   }
  },
  {
   "cell_type": "code",
   "source": [
    "!python3 -m pytest -l -v -k \"op_diagonal\""
   ],
   "metadata": {
    "colab": {
     "base_uri": "https://localhost:8080/"
    },
    "id": "lW-c2bQik-yE",
    "outputId": "d8a10473-8856-4852-8ce2-7abe1c376636"
   },
   "execution_count": 13,
   "outputs": [
    {
     "output_type": "stream",
     "name": "stdout",
     "text": [
      "\u001B[1m============================= test session starts ==============================\u001B[0m\n",
      "platform linux -- Python 3.8.16, pytest-3.6.4, py-1.11.0, pluggy-0.7.1 -- /usr/bin/python3\n",
      "cachedir: .pytest_cache\n",
      "rootdir: /content/drive/MyDrive/10714/DAGMM-Needle, inifile:\n",
      "plugins: typeguard-2.7.1\n",
      "collected 144 items / 140 deselected                                           \u001B[0m\n",
      "\n",
      "tests/test_ops.py::test_op_diagonal[forward-cpu-A_shape0] \u001B[32mPASSED\u001B[0m\u001B[36m         [ 25%]\u001B[0m\n",
      "tests/test_ops.py::test_op_diagonal[forward-cuda-A_shape0] \u001B[32mPASSED\u001B[0m\u001B[36m        [ 50%]\u001B[0m\n",
      "tests/test_ops.py::test_op_diagonal[backward-cpu-A_shape0] \u001B[32mPASSED\u001B[0m\u001B[36m        [ 75%]\u001B[0m\n",
      "tests/test_ops.py::test_op_diagonal[backward-cuda-A_shape0] \u001B[32mPASSED\u001B[0m\u001B[36m       [100%]\u001B[0m\n",
      "\n",
      "\u001B[32m\u001B[1m=================== 4 passed, 140 deselected in 2.41 seconds ===================\u001B[0m\n"
     ]
    }
   ]
  },
  {
   "cell_type": "markdown",
   "source": [
    "### Cholesky Decomposition\n",
    "\n",
    "The Cholesky decomposition a symmetric positive definite matrix $ \\Sigma $ is to compute the unique lower-triangular matrix $ L $ with positive diagonal elements such that $ \\Sigma = L L^{T} $. The reverse mode of the Cholesky decomposition can be obtained by $ \\text{tril}{\\bar{\\Sigma}} = \\Phi \\left( L^{-T} \\left( P + P^{T} \\right) L^{-1} \\right) $, where $ P = \\Phi \\left(L^{T} \\bar{L} \\right) $ and $ \\Phi $ takes the lower-triangular part of a matrix and halves its diagonal:\n",
    "$$\n",
    "\\Phi_{ij} (A) = \\begin{cases}\n",
    "A_{ij} & i > j \\\\\n",
    "A_{ii} / 2 & i = j \\\\\n",
    "0 & i < j\n",
    "\\end{cases} .\n",
    "$$\n",
    "The `needle.ops.Cholesky` and `needle.ops.cholesky` are implemented with auxiliary functions `needle.ops.Phi` and `needle.ops.phi`. The operator function is verified by [`torch.cholesky`](https://pytorch.org/docs/stable/generated/torch.cholesky.html)."
   ],
   "metadata": {
    "id": "oUwmhCUJfX9h"
   }
  },
  {
   "cell_type": "code",
   "source": [
    "!python3 -m pytest -l -v -k \"op_cholesky\""
   ],
   "metadata": {
    "colab": {
     "base_uri": "https://localhost:8080/"
    },
    "id": "M4louqzu_Bp-",
    "outputId": "b9026001-5638-450f-a053-5f5d057439a4"
   },
   "execution_count": 14,
   "outputs": [
    {
     "output_type": "stream",
     "name": "stdout",
     "text": [
      "\u001B[1m============================= test session starts ==============================\u001B[0m\n",
      "platform linux -- Python 3.8.16, pytest-3.6.4, py-1.11.0, pluggy-0.7.1 -- /usr/bin/python3\n",
      "cachedir: .pytest_cache\n",
      "rootdir: /content/drive/MyDrive/10714/DAGMM-Needle, inifile:\n",
      "plugins: typeguard-2.7.1\n",
      "collected 144 items / 136 deselected                                           \u001B[0m\n",
      "\n",
      "tests/test_ops.py::test_op_cholesky[forward-cpu-A_shape0] \u001B[32mPASSED\u001B[0m\u001B[36m         [ 12%]\u001B[0m\n",
      "tests/test_ops.py::test_op_cholesky[forward-cpu-A_shape1] \u001B[32mPASSED\u001B[0m\u001B[36m         [ 25%]\u001B[0m\n",
      "tests/test_ops.py::test_op_cholesky[forward-cuda-A_shape0] \u001B[32mPASSED\u001B[0m\u001B[36m        [ 37%]\u001B[0m\n",
      "tests/test_ops.py::test_op_cholesky[forward-cuda-A_shape1] \u001B[32mPASSED\u001B[0m\u001B[36m        [ 50%]\u001B[0m\n",
      "tests/test_ops.py::test_op_cholesky[backward-cpu-A_shape0] \u001B[32mPASSED\u001B[0m\u001B[36m        [ 62%]\u001B[0m\n",
      "tests/test_ops.py::test_op_cholesky[backward-cpu-A_shape1] \u001B[32mPASSED\u001B[0m\u001B[36m        [ 75%]\u001B[0m\n",
      "tests/test_ops.py::test_op_cholesky[backward-cuda-A_shape0] \u001B[32mPASSED\u001B[0m\u001B[36m       [ 87%]\u001B[0m\n",
      "tests/test_ops.py::test_op_cholesky[backward-cuda-A_shape1] \u001B[32mPASSED\u001B[0m\u001B[36m       [100%]\u001B[0m\n",
      "\n",
      "\u001B[32m\u001B[1m=================== 8 passed, 136 deselected in 2.69 seconds ===================\u001B[0m\n"
     ]
    }
   ]
  },
  {
   "cell_type": "markdown",
   "source": [
    "## Deep Autoencoding Gaussian Mixture Model\n",
    "\n",
    "The Deep Autoencoding Gaussian Mixture Model (DAGMM) `DAGMM` is implemented in `apps/models.py`."
   ],
   "metadata": {
    "id": "xY7_DzU6dBEH"
   }
  },
  {
   "cell_type": "markdown",
   "source": [
    "### Model Overview\n",
    "\n",
    "The Deep Autoencoding Gaussian Mixture Model (DAGMM) includes a compression network and an estimation network."
   ],
   "metadata": {
    "id": "LGGPx7mjfhGC"
   }
  },
  {
   "cell_type": "markdown",
   "source": [
    "### Compression Network\n",
    "\n",
    "Encoder: $ \\mathbf{z}_c = h \\left( \\mathbf{x}; \\theta_e \\right) $, where $ \\theta_e $ is the parameter of the encoder.\n",
    "\n",
    "Decoder: $ \\mathbf{x}' = g \\left( \\mathbf{z}_c; \\theta_d \\right) $, where $ \\theta_d $ is the parameter of the decoder.\n",
    "\n",
    "Reconstruction features: $ \\mathbf{z}_r = f(\\mathbf{x}, \\mathbf{x}') $, where the relative Euclidean distance $ \\frac{\\lVert \\mathbf{x} - \\mathbf{x}' \\rVert_2}{\\lVert \\mathbf{x} \\rVert_2} $ and cosine similarity $ \\frac{\\mathbf{x} \\cdot \\mathbf{x}'}{\\lVert \\mathbf{x} \\rVert_2 \\lVert \\mathbf{x}' \\rVert_2} $ are used. \n",
    "\n",
    "Low-dimensional representation: $ \\mathbf{z} = \\left[ \\mathbf{z}_c, \\mathbf{z}_r \\right] $.\n"
   ],
   "metadata": {
    "id": "M-NmZ-0Zgjpr"
   }
  },
  {
   "cell_type": "markdown",
   "source": [
    "### Estimation Network\n",
    "\n",
    "Estimation network: $ \\mathbf{p} = \\text{MLN} \\left( \\mathbf{z}; \\theta_m \\right) $, where $ \\theta_m $ is the parameter of the estimation network.\n",
    "\n",
    "Soft mixture component membership prediction: $ \\hat{\\gamma} = \\text{softmax} (\\mathbf{p}) $.\n",
    "\n",
    "Gaussian Mixture Model (GMM) parameters:\n",
    "* Mixture probability: $$ \\hat{\\phi}_k = \\sum_{i=1}^{N} \\frac{\\hat{\\gamma}_{ik}}{N} .$$\n",
    "* Mean: $$ \\hat{\\mu}_k = \\frac{\\sum_{i=1}^{N} \\hat{\\gamma}_{ik} \\mathbf{z}_i}{\\sum_{i=1}^{N} \\hat{\\gamma}_{ik}} . $$\n",
    "* Covariance: $$ \\hat{\\mathbf{\\Sigma}}_k = \\frac{\\sum_{i=1}^{N} \\hat{\\gamma}_{ik} \\left( \\mathbf{z}_i - \\hat{\\mu}_k \\right) \\left( \\mathbf{z}_i - \\hat{\\mu}_k \\right)^{T}}{\\sum_{i=1}^{N} \\hat{\\gamma}_{ik}} . $$\n",
    "\n",
    "Sample energy:\n",
    "$$\n",
    "E(\\mathbf{z}) = - \\log \\left( \\sum_{k=1}^{K} \\hat{\\phi}_k \\frac{\\exp \\left( -\\frac{1}{2} \\left( \\mathbf{z} - \\hat{\\mu}_k \\right)^{T} \\hat{\\mathbf{\\Sigma}}_k^{-1} \\left( \\mathbf{z} - \\hat{\\mu}_k \\right) \\right)}{\\sqrt{\\left| 2 \\pi \\hat{\\mathbf{\\Sigma}}_k \\right|}} \\right)\n",
    "$$"
   ],
   "metadata": {
    "id": "EjhbbfsSglK7"
   }
  },
  {
   "cell_type": "markdown",
   "source": [
    "Now we implement and test the functions of `gmm_parameters` for calculating the GMM parameters and `sample_energy` for calculating the sample energy."
   ],
   "metadata": {
    "id": "MgFpSJi3OBE7"
   }
  },
  {
   "cell_type": "code",
   "source": [
    "!python3 -m pytest -l -v -k \"gmm_parameters\""
   ],
   "metadata": {
    "colab": {
     "base_uri": "https://localhost:8080/"
    },
    "id": "V0xEg8s1-JK0",
    "outputId": "2485fd45-d4d5-446b-f66c-6efcb2d7e34b"
   },
   "execution_count": 15,
   "outputs": [
    {
     "output_type": "stream",
     "name": "stdout",
     "text": [
      "\u001B[1m============================= test session starts ==============================\u001B[0m\n",
      "platform linux -- Python 3.8.16, pytest-3.6.4, py-1.11.0, pluggy-0.7.1 -- /usr/bin/python3\n",
      "cachedir: .pytest_cache\n",
      "rootdir: /content/drive/MyDrive/10714/DAGMM-Needle, inifile:\n",
      "plugins: typeguard-2.7.1\n",
      "collected 144 items / 142 deselected                                           \u001B[0m\n",
      "\n",
      "tests/test_dagmm.py::test_gmm_parameters[cpu-16-120-3-4] \u001B[32mPASSED\u001B[0m\u001B[36m          [ 50%]\u001B[0m\n",
      "tests/test_dagmm.py::test_gmm_parameters[cuda-16-120-3-4] \u001B[32mPASSED\u001B[0m\u001B[36m         [100%]\u001B[0m\n",
      "\n",
      "\u001B[32m\u001B[1m=================== 2 passed, 142 deselected in 2.25 seconds ===================\u001B[0m\n"
     ]
    }
   ]
  },
  {
   "cell_type": "code",
   "source": [
    "!python3 -m pytest -l -v -k \"sample_energy\""
   ],
   "metadata": {
    "colab": {
     "base_uri": "https://localhost:8080/"
    },
    "id": "yqOjKrr1OtCd",
    "outputId": "c21cc5a2-3f79-478e-bf99-793a4c3eefe3"
   },
   "execution_count": 16,
   "outputs": [
    {
     "output_type": "stream",
     "name": "stdout",
     "text": [
      "\u001B[1m============================= test session starts ==============================\u001B[0m\n",
      "platform linux -- Python 3.8.16, pytest-3.6.4, py-1.11.0, pluggy-0.7.1 -- /usr/bin/python3\n",
      "cachedir: .pytest_cache\n",
      "rootdir: /content/drive/MyDrive/10714/DAGMM-Needle, inifile:\n",
      "plugins: typeguard-2.7.1\n",
      "collected 144 items / 142 deselected                                           \u001B[0m\n",
      "\n",
      "tests/test_dagmm.py::test_sample_energy[cpu-16-120-3-4] \u001B[32mPASSED\u001B[0m\u001B[36m           [ 50%]\u001B[0m\n",
      "tests/test_dagmm.py::test_sample_energy[cuda-16-120-3-4] \u001B[32mPASSED\u001B[0m\u001B[36m          [100%]\u001B[0m\n",
      "\n",
      "\u001B[32m\u001B[1m=================== 2 passed, 142 deselected in 2.51 seconds ===================\u001B[0m\n"
     ]
    }
   ]
  },
  {
   "cell_type": "markdown",
   "source": [
    "### Objective Function\n",
    "\n",
    "Objective function:\n",
    "$$\n",
    "J(\\theta_e, \\theta_d, \\theta_m) = \\frac{1}{N} \\sum_{i=1}^{N} L \\left( \\mathbf{x}_i, \\mathbf{x}'_i \\right) + \\frac{\\lambda_1}{N} \\sum_{i=1}^{N} E \\left( \\mathbf{z}_i \\right) + \\lambda_2 P \\left( \\hat{\\mathbf{\\Sigma}} \\right) ,\n",
    "$$\n",
    "where $ L \\left( \\mathbf{x}_i, \\mathbf{x}'_i \\right) $ is the reconstruction error, $ E \\left( \\mathbf{z}_i \\right) $ is the sample energy, $ P \\left( \\hat{\\mathbf{\\Sigma}} \\right) $ is the penalty loss for the diagonal entries of the covariance  matrix: $ P \\left( \\hat{\\mathbf{\\Sigma}} \\right) = \\sum_{k=1}^{K} \\sum_{j=1}^{d} \\frac{1}{\\hat{\\mathbf{\\Sigma}}_{kjj}} $, and the meta parameters are $ \\lambda_1 = 0.1 $ and $ \\lambda_2 = 0.005 $."
   ],
   "metadata": {
    "id": "1dygiDhNfwBI"
   }
  },
  {
   "cell_type": "markdown",
   "source": [
    "Now we implement the whole model `DAGMM` and test its outputs."
   ],
   "metadata": {
    "id": "zSes6RJ8OUtt"
   }
  },
  {
   "cell_type": "code",
   "source": [
    "!python3 -m pytest -l -v -k \"model_dagmm\""
   ],
   "metadata": {
    "colab": {
     "base_uri": "https://localhost:8080/"
    },
    "id": "KVvSidHf5DUl",
    "outputId": "41047513-d0b4-4457-9ce5-63b2a0f6b506"
   },
   "execution_count": 17,
   "outputs": [
    {
     "output_type": "stream",
     "name": "stdout",
     "text": [
      "\u001B[1m============================= test session starts ==============================\u001B[0m\n",
      "platform linux -- Python 3.8.16, pytest-3.6.4, py-1.11.0, pluggy-0.7.1 -- /usr/bin/python3\n",
      "cachedir: .pytest_cache\n",
      "rootdir: /content/drive/MyDrive/10714/DAGMM-Needle, inifile:\n",
      "plugins: typeguard-2.7.1\n",
      "collected 144 items / 142 deselected                                           \u001B[0m\n",
      "\n",
      "tests/test_dagmm.py::test_model_dagmm[cpu-16-120-3-4] \u001B[32mPASSED\u001B[0m\u001B[36m             [ 50%]\u001B[0m\n",
      "tests/test_dagmm.py::test_model_dagmm[cuda-16-120-3-4] \u001B[32mPASSED\u001B[0m\u001B[36m            [100%]\u001B[0m\n",
      "\n",
      "\u001B[32m\u001B[1m=================== 2 passed, 142 deselected in 2.47 seconds ===================\u001B[0m\n"
     ]
    }
   ]
  },
  {
   "cell_type": "markdown",
   "source": [],
   "metadata": {
    "id": "R9Ln44F8dJ5q"
   }
  },
  {
   "cell_type": "markdown",
   "source": [
    "## Experiment"
   ],
   "metadata": {
    "id": "fngn2shfdMYY"
   }
  },
  {
   "cell_type": "markdown",
   "source": [
    "### KDD CUP Dataset\n",
    "\n",
    "The KDD CUP 1999 Dataset `KDDCUPDataset` is implemented in `python/needle/data.py`, which can load the KDD CUP 1999 data, preprocess the data, and split training and testing datasets."
   ],
   "metadata": {
    "id": "h6LGiyAwf78A"
   }
  },
  {
   "cell_type": "code",
   "source": [
    "!python3 -m pytest -l -v -k \"kdd_cup_dataset\""
   ],
   "metadata": {
    "colab": {
     "base_uri": "https://localhost:8080/"
    },
    "id": "Jay4hvQBlGVj",
    "outputId": "5e8497d3-1e66-4555-97a8-5e1b143c6527"
   },
   "execution_count": 21,
   "outputs": [
    {
     "output_type": "stream",
     "name": "stdout",
     "text": [
      "\u001B[1m============================= test session starts ==============================\u001B[0m\n",
      "platform linux -- Python 3.8.16, pytest-3.6.4, py-1.11.0, pluggy-0.7.1 -- /usr/bin/python3\n",
      "cachedir: .pytest_cache\n",
      "rootdir: /content/drive/MyDrive/10714/DAGMM-Needle, inifile:\n",
      "plugins: typeguard-2.7.1\n",
      "collected 144 items / 142 deselected                                           \u001B[0m\n",
      "\n",
      "tests/test_dataset.py::test_kdd_cup_dataset[True] \u001B[32mPASSED\u001B[0m\u001B[36m                 [ 50%]\u001B[0m\n",
      "tests/test_dataset.py::test_kdd_cup_dataset[False] \u001B[32mPASSED\u001B[0m\u001B[36m                [100%]\u001B[0m\n",
      "\n",
      "\u001B[32m\u001B[1m================== 2 passed, 142 deselected in 19.49 seconds ===================\u001B[0m\n"
     ]
    }
   ]
  },
  {
   "cell_type": "code",
   "source": [
    "!python3 -m pytest -l -v -k \"kdd_cup_dataloader\""
   ],
   "metadata": {
    "colab": {
     "base_uri": "https://localhost:8080/"
    },
    "id": "jDDYESVqlO6I",
    "outputId": "e876f694-3cde-466e-faab-4a085eafb860"
   },
   "execution_count": 22,
   "outputs": [
    {
     "output_type": "stream",
     "name": "stdout",
     "text": [
      "\u001B[1m============================= test session starts ==============================\u001B[0m\n",
      "platform linux -- Python 3.8.16, pytest-3.6.4, py-1.11.0, pluggy-0.7.1 -- /usr/bin/python3\n",
      "cachedir: .pytest_cache\n",
      "rootdir: /content/drive/MyDrive/10714/DAGMM-Needle, inifile:\n",
      "plugins: typeguard-2.7.1\n",
      "collected 144 items / 136 deselected                                           \u001B[0m\n",
      "\n",
      "tests/test_dataset.py::test_kdd_cup_dataloader[cpu-True-1] \u001B[32mPASSED\u001B[0m\u001B[36m        [ 12%]\u001B[0m\n",
      "tests/test_dataset.py::test_kdd_cup_dataloader[cpu-True-16] \u001B[32mPASSED\u001B[0m\u001B[36m       [ 25%]\u001B[0m\n",
      "tests/test_dataset.py::test_kdd_cup_dataloader[cpu-False-1] \u001B[32mPASSED\u001B[0m\u001B[36m       [ 37%]\u001B[0m\n",
      "tests/test_dataset.py::test_kdd_cup_dataloader[cpu-False-16] \u001B[32mPASSED\u001B[0m\u001B[36m      [ 50%]\u001B[0m\n",
      "tests/test_dataset.py::test_kdd_cup_dataloader[cuda-True-1] \u001B[32mPASSED\u001B[0m\u001B[36m       [ 62%]\u001B[0m\n",
      "tests/test_dataset.py::test_kdd_cup_dataloader[cuda-True-16] \u001B[32mPASSED\u001B[0m\u001B[36m      [ 75%]\u001B[0m\n",
      "tests/test_dataset.py::test_kdd_cup_dataloader[cuda-False-1] \u001B[32mPASSED\u001B[0m\u001B[36m      [ 87%]\u001B[0m\n",
      "tests/test_dataset.py::test_kdd_cup_dataloader[cuda-False-16] \u001B[32mPASSED\u001B[0m\u001B[36m     [100%]\u001B[0m\n",
      "\n",
      "\u001B[32m\u001B[1m================== 8 passed, 136 deselected in 12.81 seconds ===================\u001B[0m\n"
     ]
    }
   ]
  },
  {
   "cell_type": "markdown",
   "source": [
    "### Model Training\n",
    "\n",
    "Now we can train and test the model. The training and testing procedures `epoch_general_kdd_cup`, `train_kdd_cup`, and `evaluate_kdd_cup` are implemented in `apps/training.py`. Since the our implementation of the DAGMM with the Needle framwork is not so efficient, only 5% data are used."
   ],
   "metadata": {
    "id": "yxCJjZefgB1n"
   }
  },
  {
   "cell_type": "code",
   "source": [
    "import sys\n",
    "sys.path.append('./python')\n",
    "sys.path.append('./apps')\n",
    "import numpy as np\n",
    "import needle as ndl\n",
    "from models import DAGMM\n",
    "from training import train_kdd_cup, evaluate_kdd_cup"
   ],
   "metadata": {
    "id": "AmsAp4LKTHFn"
   },
   "execution_count": 4,
   "outputs": []
  },
  {
   "cell_type": "code",
   "source": [
    "device = ndl.cuda()\n",
    "dataset_train = ndl.data.KDDCUPDataset(train=True, train_ratio=0.5, sample_ratio=0.05)\n",
    "dataset_test = ndl.data.KDDCUPDataset(train=False, train_ratio=0.5, sample_ratio=0.05)"
   ],
   "metadata": {
    "id": "cdmqlO0bTKAT"
   },
   "execution_count": 5,
   "outputs": []
  },
  {
   "cell_type": "code",
   "source": [
    "dataloader_train = ndl.data.DataLoader(\n",
    "    dataset=dataset_train,\n",
    "    batch_size=64,\n",
    "    shuffle=True,\n",
    "    device=device,\n",
    "    dtype=\"float32\")\n",
    "dataloader_test = ndl.data.DataLoader(\n",
    "    dataset=dataset_test,\n",
    "    batch_size=64,\n",
    "    shuffle=False,\n",
    "    device=device,\n",
    "    dtype=\"float32\")"
   ],
   "metadata": {
    "id": "exIXYRfeJYY9"
   },
   "execution_count": 6,
   "outputs": []
  },
  {
   "cell_type": "code",
   "source": [
    "model = DAGMM(device=device, dtype=\"float32\")"
   ],
   "metadata": {
    "id": "4RP69d1BTQyL"
   },
   "execution_count": 7,
   "outputs": []
  },
  {
   "cell_type": "code",
   "source": [
    "_, energies_train, targets_train = train_kdd_cup(\n",
    "    model, dataloader_train, n_epochs=1, optimizer=ndl.optim.Adam,\n",
    "    lr=0.001, weight_decay=0.001, verbose=True, print_step=1)"
   ],
   "metadata": {
    "id": "Icu8Su8_UHaf"
   },
   "execution_count": null,
   "outputs": []
  },
  {
   "cell_type": "code",
   "source": [
    "_, energies_test, targets_test = evaluate_kdd_cup(\n",
    "    model, dataloader_test, verbose=True, print_step=1)"
   ],
   "metadata": {
    "id": "KZuks9meUHzV"
   },
   "execution_count": null,
   "outputs": []
  },
  {
   "cell_type": "code",
   "source": [
    "energy_threshold = np.percentile(energies_test, 60)\n",
    "preds_test = (energies_test > energy_threshold).astype(int)\n",
    "targets_test = targets_test.astype(int)"
   ],
   "metadata": {
    "id": "A68T8szd-r_i"
   },
   "execution_count": 57,
   "outputs": []
  },
  {
   "cell_type": "markdown",
   "source": [
    "### Experiment Results"
   ],
   "metadata": {
    "id": "HicvCuRTgM-p"
   }
  },
  {
   "cell_type": "code",
   "source": [
    "from sklearn.metrics import classification_report, ConfusionMatrixDisplay\n",
    "print(classification_report(y_true=targets_test, y_pred=preds_test))"
   ],
   "metadata": {
    "id": "NUz2JArACy_3"
   },
   "execution_count": null,
   "outputs": []
  },
  {
   "cell_type": "code",
   "source": [
    "ConfusionMatrixDisplay.from_predictions(\n",
    "    y_true=targets_test, y_pred=preds_test)"
   ],
   "metadata": {
    "id": "4y1p6VdVDHEp"
   },
   "execution_count": null,
   "outputs": []
  },
  {
   "cell_type": "markdown",
   "source": [
    "## Conclusion\n",
    "\n",
    "In this project, we implemented the Deep Autoencoding Gaussian Mixture Model (DAGMM) with Needle (NEcessary Elements of Deep Learning). Several new operators, including `squeeze`, `unsqueeze`, `abs`, `norm`, `cosine_similarity`, `pairwise_distance`, `relative_distance`, `softmax`, `bmm`, `inv`, `det`, and `cholesky`, were added to this framework. The DAGMM was realized with this framework and applied for the KDD Cup 1999 dataset. The experiment results with classification metrics (precision, recall, and f1-score) were obtained for the anomaly detection task.\n",
    "\n",
    "\n",
    "\n"
   ],
   "metadata": {
    "id": "xnQHWQnEdoRi"
   }
  },
  {
   "cell_type": "markdown",
   "source": [
    "## References\n",
    "\n",
    "* Deep Autoencoding Gaussian Mixture Model for Unsupervised Anomaly Detection: [paper](https://openreview.net/forum?id=BJJLHbb0-).\n",
    "* Differentiation of the Cholesky decomposition: [paper](https://arxiv.org/abs/1602.07527).\n",
    "* A PyTorch implementation for the Deep Autoencoding Gaussian Mixture Model: [GitHub repository](https://github.com/mperezcarrasco/PyTorch-DAGMM).\n",
    "* Another PyTorch implementation for the Deep Autoencoding Gaussian Mixture Model: [GitHub repository](https://github.com/lixiangwang/DAGMM-pytorch).\n",
    "* Differentiating the Cholesky decomposition: [GitHub repository](https://github.com/imurray/chol-rev).\n",
    "* An extended collection of matrix derivative results for forward and reverse mode algorithmic differentiation: [report](https://people.maths.ox.ac.uk/gilesm/files/NA-08-01.pdf).\n",
    "* PyTorch: [documentation](https://pytorch.org/docs/stable/index.html).\n",
    "* KDD Cup 1999 Data: [dataset](https://archive.ics.uci.edu/ml/datasets/kdd+cup+1999+data).\n",
    "* Loading the KDD Cup 1999 dataset: [API](https://scikit-learn.org/stable/modules/generated/sklearn.datasets.fetch_kddcup99.html).\n"
   ],
   "metadata": {
    "id": "O4QfT2cqdslc"
   }
  }
 ],
 "metadata": {
  "kernelspec": {
   "display_name": "Python 3",
   "language": "python",
   "name": "python3"
  },
  "language_info": {
   "codemirror_mode": {
    "name": "ipython",
    "version": 3
   },
   "file_extension": ".py",
   "mimetype": "text/x-python",
   "name": "python",
   "nbconvert_exporter": "python",
   "pygments_lexer": "ipython3",
   "version": "3.7.4"
  },
  "colab": {
   "provenance": []
  },
  "gpuClass": "standard",
  "accelerator": "GPU"
 },
 "nbformat": 4,
 "nbformat_minor": 0
}