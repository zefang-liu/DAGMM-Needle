{
  "cells": [
    {
      "cell_type": "markdown",
      "metadata": {
        "id": "tYti3NYwC9Fc"
      },
      "source": [
        "# 10-714 Project: Needle-DAGMM\n",
        "\n",
        "Needle (NEcessary Elements of Deep Learning) Implementation for the Deep Autoencoding Gaussian Mixture Model (DAGMM)"
      ]
    },
    {
      "cell_type": "code",
      "execution_count": 1,
      "metadata": {
        "id": "QsmQ1wfxC9Fe",
        "colab": {
          "base_uri": "https://localhost:8080/"
        },
        "outputId": "9df21899-43ed-4877-f181-746476015392"
      },
      "outputs": [
        {
          "output_type": "stream",
          "name": "stdout",
          "text": [
            "Mounted at /content/drive\n",
            "/content/drive/MyDrive\n",
            "/content/drive/MyDrive/10714/project\n",
            "Looking in indexes: https://pypi.org/simple, https://us-python.pkg.dev/colab-wheels/public/simple/\n",
            "Collecting pybind11\n",
            "  Downloading pybind11-2.10.2-py3-none-any.whl (222 kB)\n",
            "\u001b[K     |████████████████████████████████| 222 kB 39.4 MB/s \n",
            "\u001b[?25hInstalling collected packages: pybind11\n",
            "Successfully installed pybind11-2.10.2\n"
          ]
        }
      ],
      "source": [
        "from google.colab import drive\n",
        "drive.mount('/content/drive')\n",
        "%cd /content/drive/MyDrive/\n",
        "!mkdir -p 10714\n",
        "%cd /content/drive/MyDrive/10714/project\n",
        "!pip3 install pybind11"
      ]
    },
    {
      "cell_type": "code",
      "execution_count": 2,
      "metadata": {
        "id": "NRCrMddoC9Ff",
        "colab": {
          "base_uri": "https://localhost:8080/"
        },
        "outputId": "a209f11e-0c55-42e9-9b3a-7c7f033b7742"
      },
      "outputs": [
        {
          "output_type": "stream",
          "name": "stdout",
          "text": [
            "-- Found pybind11: /usr/local/lib/python3.8/dist-packages/pybind11/include (found version \"2.10.2\")\n",
            "-- Found cuda, building cuda backend\n",
            "Sat Dec 24 03:12:20 2022       \n",
            "+-----------------------------------------------------------------------------+\n",
            "| NVIDIA-SMI 460.32.03    Driver Version: 460.32.03    CUDA Version: 11.2     |\n",
            "|-------------------------------+----------------------+----------------------+\n",
            "| GPU  Name        Persistence-M| Bus-Id        Disp.A | Volatile Uncorr. ECC |\n",
            "| Fan  Temp  Perf  Pwr:Usage/Cap|         Memory-Usage | GPU-Util  Compute M. |\n",
            "|                               |                      |               MIG M. |\n",
            "|===============================+======================+======================|\n",
            "|   0  Tesla T4            Off  | 00000000:00:04.0 Off |                    0 |\n",
            "| N/A   45C    P0    25W /  70W |      0MiB / 15109MiB |      0%      Default |\n",
            "|                               |                      |                  N/A |\n",
            "+-------------------------------+----------------------+----------------------+\n",
            "                                                                               \n",
            "+-----------------------------------------------------------------------------+\n",
            "| Processes:                                                                  |\n",
            "|  GPU   GI   CI        PID   Type   Process name                  GPU Memory |\n",
            "|        ID   ID                                                   Usage      |\n",
            "|=============================================================================|\n",
            "|  No running processes found                                                 |\n",
            "+-----------------------------------------------------------------------------+\n",
            "-- Autodetected CUDA architecture(s):  7.5\n",
            "-- Configuring done\n",
            "-- Generating done\n",
            "-- Build files have been written to: /content/drive/MyDrive/10714/project/build\n",
            "make[1]: Entering directory '/content/drive/MyDrive/10714/project/build'\n",
            "make[2]: Entering directory '/content/drive/MyDrive/10714/project/build'\n",
            "make[3]: Entering directory '/content/drive/MyDrive/10714/project/build'\n",
            "\u001b[35m\u001b[1mConsolidate compiler generated dependencies of target ndarray_backend_cpu\u001b[0m\n",
            "make[3]: Leaving directory '/content/drive/MyDrive/10714/project/build'\n",
            "make[3]: Entering directory '/content/drive/MyDrive/10714/project/build'\n",
            "[-25%] \u001b[32mBuilding CXX object CMakeFiles/ndarray_backend_cpu.dir/src/ndarray_backend_cpu.cc.o\u001b[0m\n",
            "[  0%] \u001b[32m\u001b[1mLinking CXX shared module ../python/needle/backend_ndarray/ndarray_backend_cpu.cpython-38-x86_64-linux-gnu.so\u001b[0m\n",
            "make[3]: Leaving directory '/content/drive/MyDrive/10714/project/build'\n",
            "[  0%] Built target ndarray_backend_cpu\n",
            "make[3]: Entering directory '/content/drive/MyDrive/10714/project/build'\n",
            "[ 25%] \u001b[34m\u001b[1mBuilding NVCC (Device) object CMakeFiles/ndarray_backend_cuda.dir/src/ndarray_backend_cuda_generated_ndarray_backend_cuda.cu.o\u001b[0m\n",
            "make[3]: Leaving directory '/content/drive/MyDrive/10714/project/build'\n",
            "make[3]: Entering directory '/content/drive/MyDrive/10714/project/build'\n",
            "[ 50%] \u001b[32m\u001b[1mLinking CXX shared module ../python/needle/backend_ndarray/ndarray_backend_cuda.cpython-38-x86_64-linux-gnu.so\u001b[0m\n",
            "make[3]: Leaving directory '/content/drive/MyDrive/10714/project/build'\n",
            "[ 50%] Built target ndarray_backend_cuda\n",
            "make[2]: Leaving directory '/content/drive/MyDrive/10714/project/build'\n",
            "make[1]: Leaving directory '/content/drive/MyDrive/10714/project/build'\n"
          ]
        }
      ],
      "source": [
        "!make"
      ]
    },
    {
      "cell_type": "code",
      "execution_count": 3,
      "metadata": {
        "id": "ZvHDK8J5C9Ff"
      },
      "outputs": [],
      "source": [
        "import sys\n",
        "sys.path.append('./python')"
      ]
    },
    {
      "cell_type": "code",
      "source": [
        "!python3 -m pytest -l -v -k \"op_squeeze\""
      ],
      "metadata": {
        "colab": {
          "base_uri": "https://localhost:8080/"
        },
        "id": "AjTKbxaDe1DY",
        "outputId": "c4a3b265-ab32-448f-b7e1-ac9cd44e756e"
      },
      "execution_count": 9,
      "outputs": [
        {
          "output_type": "stream",
          "name": "stdout",
          "text": [
            "\u001b[1m============================= test session starts ==============================\u001b[0m\n",
            "platform linux -- Python 3.8.16, pytest-3.6.4, py-1.11.0, pluggy-0.7.1 -- /usr/bin/python3\n",
            "cachedir: .pytest_cache\n",
            "rootdir: /content/drive/MyDrive/10714/project, inifile:\n",
            "plugins: typeguard-2.7.1\n",
            "collected 116 items / 100 deselected                                           \u001b[0m\n",
            "\n",
            "tests/test_ops.py::test_op_squeeze[forward-cpu-x_shape0-None] \u001b[32mPASSED\u001b[0m\u001b[36m     [  6%]\u001b[0m\n",
            "tests/test_ops.py::test_op_squeeze[forward-cpu-x_shape1-0] \u001b[32mPASSED\u001b[0m\u001b[36m        [ 12%]\u001b[0m\n",
            "tests/test_ops.py::test_op_squeeze[forward-cpu-x_shape2-1] \u001b[32mPASSED\u001b[0m\u001b[36m        [ 18%]\u001b[0m\n",
            "tests/test_ops.py::test_op_squeeze[forward-cpu-x_shape3-1] \u001b[32mPASSED\u001b[0m\u001b[36m        [ 25%]\u001b[0m\n",
            "tests/test_ops.py::test_op_squeeze[forward-cuda-x_shape0-None] \u001b[32mPASSED\u001b[0m\u001b[36m    [ 31%]\u001b[0m\n",
            "tests/test_ops.py::test_op_squeeze[forward-cuda-x_shape1-0] \u001b[32mPASSED\u001b[0m\u001b[36m       [ 37%]\u001b[0m\n",
            "tests/test_ops.py::test_op_squeeze[forward-cuda-x_shape2-1] \u001b[32mPASSED\u001b[0m\u001b[36m       [ 43%]\u001b[0m\n",
            "tests/test_ops.py::test_op_squeeze[forward-cuda-x_shape3-1] \u001b[32mPASSED\u001b[0m\u001b[36m       [ 50%]\u001b[0m\n",
            "tests/test_ops.py::test_op_squeeze[backward-cpu-x_shape0-None] \u001b[32mPASSED\u001b[0m\u001b[36m    [ 56%]\u001b[0m\n",
            "tests/test_ops.py::test_op_squeeze[backward-cpu-x_shape1-0] \u001b[32mPASSED\u001b[0m\u001b[36m       [ 62%]\u001b[0m\n",
            "tests/test_ops.py::test_op_squeeze[backward-cpu-x_shape2-1] \u001b[32mPASSED\u001b[0m\u001b[36m       [ 68%]\u001b[0m\n",
            "tests/test_ops.py::test_op_squeeze[backward-cpu-x_shape3-1] \u001b[32mPASSED\u001b[0m\u001b[36m       [ 75%]\u001b[0m\n",
            "tests/test_ops.py::test_op_squeeze[backward-cuda-x_shape0-None] \u001b[32mPASSED\u001b[0m\u001b[36m   [ 81%]\u001b[0m\n",
            "tests/test_ops.py::test_op_squeeze[backward-cuda-x_shape1-0] \u001b[32mPASSED\u001b[0m\u001b[36m      [ 87%]\u001b[0m\n",
            "tests/test_ops.py::test_op_squeeze[backward-cuda-x_shape2-1] \u001b[32mPASSED\u001b[0m\u001b[36m      [ 93%]\u001b[0m\n",
            "tests/test_ops.py::test_op_squeeze[backward-cuda-x_shape3-1] \u001b[32mPASSED\u001b[0m\u001b[36m      [100%]\u001b[0m\n",
            "\n",
            "\u001b[32m\u001b[1m================== 16 passed, 100 deselected in 2.30 seconds ===================\u001b[0m\n"
          ]
        }
      ]
    },
    {
      "cell_type": "code",
      "source": [
        "!python3 -m pytest -l -v -k \"op_unsqueeze\""
      ],
      "metadata": {
        "colab": {
          "base_uri": "https://localhost:8080/"
        },
        "id": "DhEvBMqye1LJ",
        "outputId": "ad6bf4fd-6d4b-4082-aa1d-66feebdabdf9"
      },
      "execution_count": 10,
      "outputs": [
        {
          "output_type": "stream",
          "name": "stdout",
          "text": [
            "\u001b[1m============================= test session starts ==============================\u001b[0m\n",
            "platform linux -- Python 3.8.16, pytest-3.6.4, py-1.11.0, pluggy-0.7.1 -- /usr/bin/python3\n",
            "cachedir: .pytest_cache\n",
            "rootdir: /content/drive/MyDrive/10714/project, inifile:\n",
            "plugins: typeguard-2.7.1\n",
            "collected 116 items / 96 deselected                                            \u001b[0m\n",
            "\n",
            "tests/test_ops.py::test_op_unsqueeze[forward-cpu-x_shape0-0] \u001b[32mPASSED\u001b[0m\u001b[36m      [  5%]\u001b[0m\n",
            "tests/test_ops.py::test_op_unsqueeze[forward-cpu-x_shape1-1] \u001b[32mPASSED\u001b[0m\u001b[36m      [ 10%]\u001b[0m\n",
            "tests/test_ops.py::test_op_unsqueeze[forward-cpu-x_shape2-0] \u001b[32mPASSED\u001b[0m\u001b[36m      [ 15%]\u001b[0m\n",
            "tests/test_ops.py::test_op_unsqueeze[forward-cpu-x_shape3-1] \u001b[32mPASSED\u001b[0m\u001b[36m      [ 20%]\u001b[0m\n",
            "tests/test_ops.py::test_op_unsqueeze[forward-cpu-x_shape4-2] \u001b[32mPASSED\u001b[0m\u001b[36m      [ 25%]\u001b[0m\n",
            "tests/test_ops.py::test_op_unsqueeze[forward-cuda-x_shape0-0] \u001b[32mPASSED\u001b[0m\u001b[36m     [ 30%]\u001b[0m\n",
            "tests/test_ops.py::test_op_unsqueeze[forward-cuda-x_shape1-1] \u001b[32mPASSED\u001b[0m\u001b[36m     [ 35%]\u001b[0m\n",
            "tests/test_ops.py::test_op_unsqueeze[forward-cuda-x_shape2-0] \u001b[32mPASSED\u001b[0m\u001b[36m     [ 40%]\u001b[0m\n",
            "tests/test_ops.py::test_op_unsqueeze[forward-cuda-x_shape3-1] \u001b[32mPASSED\u001b[0m\u001b[36m     [ 45%]\u001b[0m\n",
            "tests/test_ops.py::test_op_unsqueeze[forward-cuda-x_shape4-2] \u001b[32mPASSED\u001b[0m\u001b[36m     [ 50%]\u001b[0m\n",
            "tests/test_ops.py::test_op_unsqueeze[backward-cpu-x_shape0-0] \u001b[32mPASSED\u001b[0m\u001b[36m     [ 55%]\u001b[0m\n",
            "tests/test_ops.py::test_op_unsqueeze[backward-cpu-x_shape1-1] \u001b[32mPASSED\u001b[0m\u001b[36m     [ 60%]\u001b[0m\n",
            "tests/test_ops.py::test_op_unsqueeze[backward-cpu-x_shape2-0] \u001b[32mPASSED\u001b[0m\u001b[36m     [ 65%]\u001b[0m\n",
            "tests/test_ops.py::test_op_unsqueeze[backward-cpu-x_shape3-1] \u001b[32mPASSED\u001b[0m\u001b[36m     [ 70%]\u001b[0m\n",
            "tests/test_ops.py::test_op_unsqueeze[backward-cpu-x_shape4-2] \u001b[32mPASSED\u001b[0m\u001b[36m     [ 75%]\u001b[0m\n",
            "tests/test_ops.py::test_op_unsqueeze[backward-cuda-x_shape0-0] \u001b[32mPASSED\u001b[0m\u001b[36m    [ 80%]\u001b[0m\n",
            "tests/test_ops.py::test_op_unsqueeze[backward-cuda-x_shape1-1] \u001b[32mPASSED\u001b[0m\u001b[36m    [ 85%]\u001b[0m\n",
            "tests/test_ops.py::test_op_unsqueeze[backward-cuda-x_shape2-0] \u001b[32mPASSED\u001b[0m\u001b[36m    [ 90%]\u001b[0m\n",
            "tests/test_ops.py::test_op_unsqueeze[backward-cuda-x_shape3-1] \u001b[32mPASSED\u001b[0m\u001b[36m    [ 95%]\u001b[0m\n",
            "tests/test_ops.py::test_op_unsqueeze[backward-cuda-x_shape4-2] \u001b[32mPASSED\u001b[0m\u001b[36m    [100%]\u001b[0m\n",
            "\n",
            "\u001b[32m\u001b[1m=================== 20 passed, 96 deselected in 2.02 seconds ===================\u001b[0m\n"
          ]
        }
      ]
    },
    {
      "cell_type": "code",
      "source": [
        "!python3 -m pytest -l -v -k \"op_norm\""
      ],
      "metadata": {
        "colab": {
          "base_uri": "https://localhost:8080/"
        },
        "id": "ANoCyU5KLOLJ",
        "outputId": "20a98b46-daea-4314-d0a1-4c50ed484355"
      },
      "execution_count": 11,
      "outputs": [
        {
          "output_type": "stream",
          "name": "stdout",
          "text": [
            "\u001b[1m============================= test session starts ==============================\u001b[0m\n",
            "platform linux -- Python 3.8.16, pytest-3.6.4, py-1.11.0, pluggy-0.7.1 -- /usr/bin/python3\n",
            "cachedir: .pytest_cache\n",
            "rootdir: /content/drive/MyDrive/10714/project, inifile:\n",
            "plugins: typeguard-2.7.1\n",
            "collected 116 items / 104 deselected                                           \u001b[0m\n",
            "\n",
            "tests/test_ops.py::test_op_norm[forward-cpu-x_shape0-0] \u001b[32mPASSED\u001b[0m\u001b[36m           [  8%]\u001b[0m\n",
            "tests/test_ops.py::test_op_norm[forward-cpu-x_shape1-0] \u001b[32mPASSED\u001b[0m\u001b[36m           [ 16%]\u001b[0m\n",
            "tests/test_ops.py::test_op_norm[forward-cpu-x_shape2-1] \u001b[32mPASSED\u001b[0m\u001b[36m           [ 25%]\u001b[0m\n",
            "tests/test_ops.py::test_op_norm[forward-cuda-x_shape0-0] \u001b[32mPASSED\u001b[0m\u001b[36m          [ 33%]\u001b[0m\n",
            "tests/test_ops.py::test_op_norm[forward-cuda-x_shape1-0] \u001b[32mPASSED\u001b[0m\u001b[36m          [ 41%]\u001b[0m\n",
            "tests/test_ops.py::test_op_norm[forward-cuda-x_shape2-1] \u001b[32mPASSED\u001b[0m\u001b[36m          [ 50%]\u001b[0m\n",
            "tests/test_ops.py::test_op_norm[backward-cpu-x_shape0-0] \u001b[32mPASSED\u001b[0m\u001b[36m          [ 58%]\u001b[0m\n",
            "tests/test_ops.py::test_op_norm[backward-cpu-x_shape1-0] \u001b[32mPASSED\u001b[0m\u001b[36m          [ 66%]\u001b[0m\n",
            "tests/test_ops.py::test_op_norm[backward-cpu-x_shape2-1] \u001b[32mPASSED\u001b[0m\u001b[36m          [ 75%]\u001b[0m\n",
            "tests/test_ops.py::test_op_norm[backward-cuda-x_shape0-0] \u001b[32mPASSED\u001b[0m\u001b[36m         [ 83%]\u001b[0m\n",
            "tests/test_ops.py::test_op_norm[backward-cuda-x_shape1-0] \u001b[32mPASSED\u001b[0m\u001b[36m         [ 91%]\u001b[0m\n",
            "tests/test_ops.py::test_op_norm[backward-cuda-x_shape2-1] \u001b[32mPASSED\u001b[0m\u001b[36m         [100%]\u001b[0m\n",
            "\n",
            "\u001b[32m\u001b[1m================== 12 passed, 104 deselected in 2.32 seconds ===================\u001b[0m\n"
          ]
        }
      ]
    },
    {
      "cell_type": "code",
      "source": [
        "!python3 -m pytest -l -v -k \"op_cosine_similarity\""
      ],
      "metadata": {
        "colab": {
          "base_uri": "https://localhost:8080/"
        },
        "id": "BCnt4MlWMvOl",
        "outputId": "9125b6ef-68ce-41ec-c2d7-78db9a92aa6e"
      },
      "execution_count": 12,
      "outputs": [
        {
          "output_type": "stream",
          "name": "stdout",
          "text": [
            "\u001b[1m============================= test session starts ==============================\u001b[0m\n",
            "platform linux -- Python 3.8.16, pytest-3.6.4, py-1.11.0, pluggy-0.7.1 -- /usr/bin/python3\n",
            "cachedir: .pytest_cache\n",
            "rootdir: /content/drive/MyDrive/10714/project, inifile:\n",
            "plugins: typeguard-2.7.1\n",
            "collected 116 items / 104 deselected                                           \u001b[0m\n",
            "\n",
            "tests/test_ops.py::test_op_cosine_similarity[forward-cpu-x_shape0-0] \u001b[32mPASSED\u001b[0m\u001b[36m [  8%]\u001b[0m\n",
            "tests/test_ops.py::test_op_cosine_similarity[forward-cpu-x_shape1-0] \u001b[32mPASSED\u001b[0m\u001b[36m [ 16%]\u001b[0m\n",
            "tests/test_ops.py::test_op_cosine_similarity[forward-cpu-x_shape2-1] \u001b[32mPASSED\u001b[0m\u001b[36m [ 25%]\u001b[0m\n",
            "tests/test_ops.py::test_op_cosine_similarity[forward-cuda-x_shape0-0] \u001b[32mPASSED\u001b[0m\u001b[36m [ 33%]\u001b[0m\n",
            "tests/test_ops.py::test_op_cosine_similarity[forward-cuda-x_shape1-0] \u001b[32mPASSED\u001b[0m\u001b[36m [ 41%]\u001b[0m\n",
            "tests/test_ops.py::test_op_cosine_similarity[forward-cuda-x_shape2-1] \u001b[32mPASSED\u001b[0m\u001b[36m [ 50%]\u001b[0m\n",
            "tests/test_ops.py::test_op_cosine_similarity[backward-cpu-x_shape0-0] \u001b[32mPASSED\u001b[0m\u001b[36m [ 58%]\u001b[0m\n",
            "tests/test_ops.py::test_op_cosine_similarity[backward-cpu-x_shape1-0] \u001b[32mPASSED\u001b[0m\u001b[36m [ 66%]\u001b[0m\n",
            "tests/test_ops.py::test_op_cosine_similarity[backward-cpu-x_shape2-1] \u001b[32mPASSED\u001b[0m\u001b[36m [ 75%]\u001b[0m\n",
            "tests/test_ops.py::test_op_cosine_similarity[backward-cuda-x_shape0-0] \u001b[32mPASSED\u001b[0m\u001b[36m [ 83%]\u001b[0m\n",
            "tests/test_ops.py::test_op_cosine_similarity[backward-cuda-x_shape1-0] \u001b[32mPASSED\u001b[0m\u001b[36m [ 91%]\u001b[0m\n",
            "tests/test_ops.py::test_op_cosine_similarity[backward-cuda-x_shape2-1] \u001b[32mPASSED\u001b[0m\u001b[36m [100%]\u001b[0m\n",
            "\n",
            "\u001b[32m\u001b[1m================== 12 passed, 104 deselected in 2.07 seconds ===================\u001b[0m\n"
          ]
        }
      ]
    },
    {
      "cell_type": "code",
      "source": [
        "!python3 -m pytest -l -v -k \"op_pairwise_distance\""
      ],
      "metadata": {
        "colab": {
          "base_uri": "https://localhost:8080/"
        },
        "id": "4jRgyws_SRbd",
        "outputId": "a64765a6-8e50-4ea0-dc2f-7d1e3b4bfc42"
      },
      "execution_count": 13,
      "outputs": [
        {
          "output_type": "stream",
          "name": "stdout",
          "text": [
            "\u001b[1m============================= test session starts ==============================\u001b[0m\n",
            "platform linux -- Python 3.8.16, pytest-3.6.4, py-1.11.0, pluggy-0.7.1 -- /usr/bin/python3\n",
            "cachedir: .pytest_cache\n",
            "rootdir: /content/drive/MyDrive/10714/project, inifile:\n",
            "plugins: typeguard-2.7.1\n",
            "collected 116 items / 108 deselected                                           \u001b[0m\n",
            "\n",
            "tests/test_ops.py::test_op_pairwise_distance[forward-cpu-x_shape0-0] \u001b[32mPASSED\u001b[0m\u001b[36m [ 12%]\u001b[0m\n",
            "tests/test_ops.py::test_op_pairwise_distance[forward-cpu-x_shape1-1] \u001b[32mPASSED\u001b[0m\u001b[36m [ 25%]\u001b[0m\n",
            "tests/test_ops.py::test_op_pairwise_distance[forward-cuda-x_shape0-0] \u001b[32mPASSED\u001b[0m\u001b[36m [ 37%]\u001b[0m\n",
            "tests/test_ops.py::test_op_pairwise_distance[forward-cuda-x_shape1-1] \u001b[32mPASSED\u001b[0m\u001b[36m [ 50%]\u001b[0m\n",
            "tests/test_ops.py::test_op_pairwise_distance[backward-cpu-x_shape0-0] \u001b[32mPASSED\u001b[0m\u001b[36m [ 62%]\u001b[0m\n",
            "tests/test_ops.py::test_op_pairwise_distance[backward-cpu-x_shape1-1] \u001b[32mPASSED\u001b[0m\u001b[36m [ 75%]\u001b[0m\n",
            "tests/test_ops.py::test_op_pairwise_distance[backward-cuda-x_shape0-0] \u001b[32mPASSED\u001b[0m\u001b[36m [ 87%]\u001b[0m\n",
            "tests/test_ops.py::test_op_pairwise_distance[backward-cuda-x_shape1-1] \u001b[32mPASSED\u001b[0m\u001b[36m [100%]\u001b[0m\n",
            "\n",
            "\u001b[32m\u001b[1m=================== 8 passed, 108 deselected in 2.00 seconds ===================\u001b[0m\n"
          ]
        }
      ]
    },
    {
      "cell_type": "code",
      "source": [
        "!python3 -m pytest -l -v -k \"op_softmax\""
      ],
      "metadata": {
        "colab": {
          "base_uri": "https://localhost:8080/"
        },
        "id": "KSjOsn3CQKNS",
        "outputId": "af3962c4-d409-4067-a00f-cf639e123e11"
      },
      "execution_count": 14,
      "outputs": [
        {
          "output_type": "stream",
          "name": "stdout",
          "text": [
            "\u001b[1m============================= test session starts ==============================\u001b[0m\n",
            "platform linux -- Python 3.8.16, pytest-3.6.4, py-1.11.0, pluggy-0.7.1 -- /usr/bin/python3\n",
            "cachedir: .pytest_cache\n",
            "rootdir: /content/drive/MyDrive/10714/project, inifile:\n",
            "plugins: typeguard-2.7.1\n",
            "collected 116 items / 104 deselected                                           \u001b[0m\n",
            "\n",
            "tests/test_ops.py::test_op_softmax[forward-cpu-x_shape0-0] \u001b[32mPASSED\u001b[0m\u001b[36m        [  8%]\u001b[0m\n",
            "tests/test_ops.py::test_op_softmax[forward-cpu-x_shape1-1] \u001b[32mPASSED\u001b[0m\u001b[36m        [ 16%]\u001b[0m\n",
            "tests/test_ops.py::test_op_softmax[forward-cpu-x_shape2-1] \u001b[32mPASSED\u001b[0m\u001b[36m        [ 25%]\u001b[0m\n",
            "tests/test_ops.py::test_op_softmax[forward-cuda-x_shape0-0] \u001b[32mPASSED\u001b[0m\u001b[36m       [ 33%]\u001b[0m\n",
            "tests/test_ops.py::test_op_softmax[forward-cuda-x_shape1-1] \u001b[32mPASSED\u001b[0m\u001b[36m       [ 41%]\u001b[0m\n",
            "tests/test_ops.py::test_op_softmax[forward-cuda-x_shape2-1] \u001b[32mPASSED\u001b[0m\u001b[36m       [ 50%]\u001b[0m\n",
            "tests/test_ops.py::test_op_softmax[backward-cpu-x_shape0-0] \u001b[32mPASSED\u001b[0m\u001b[36m       [ 58%]\u001b[0m\n",
            "tests/test_ops.py::test_op_softmax[backward-cpu-x_shape1-1] \u001b[32mPASSED\u001b[0m\u001b[36m       [ 66%]\u001b[0m\n",
            "tests/test_ops.py::test_op_softmax[backward-cpu-x_shape2-1] \u001b[32mPASSED\u001b[0m\u001b[36m       [ 75%]\u001b[0m\n",
            "tests/test_ops.py::test_op_softmax[backward-cuda-x_shape0-0] \u001b[32mPASSED\u001b[0m\u001b[36m      [ 83%]\u001b[0m\n",
            "tests/test_ops.py::test_op_softmax[backward-cuda-x_shape1-1] \u001b[32mPASSED\u001b[0m\u001b[36m      [ 91%]\u001b[0m\n",
            "tests/test_ops.py::test_op_softmax[backward-cuda-x_shape2-1] \u001b[32mPASSED\u001b[0m\u001b[36m      [100%]\u001b[0m\n",
            "\n",
            "\u001b[32m\u001b[1m================== 12 passed, 104 deselected in 2.05 seconds ===================\u001b[0m\n"
          ]
        }
      ]
    },
    {
      "cell_type": "code",
      "source": [
        "!python3 -m pytest -l -v -k \"op_bmm\""
      ],
      "metadata": {
        "colab": {
          "base_uri": "https://localhost:8080/"
        },
        "id": "XJ0piw54UW0y",
        "outputId": "6fdbc3df-0566-43a5-cba3-0063d482bdba"
      },
      "execution_count": 23,
      "outputs": [
        {
          "output_type": "stream",
          "name": "stdout",
          "text": [
            "\u001b[1m============================= test session starts ==============================\u001b[0m\n",
            "platform linux -- Python 3.8.16, pytest-3.6.4, py-1.11.0, pluggy-0.7.1 -- /usr/bin/python3\n",
            "cachedir: .pytest_cache\n",
            "rootdir: /content/drive/MyDrive/10714/project, inifile:\n",
            "plugins: typeguard-2.7.1\n",
            "collected 120 items / 112 deselected                                           \u001b[0m\n",
            "\n",
            "tests/test_ops.py::test_op_bmm[forward-cpu-A_shape0-B_shape0] \u001b[32mPASSED\u001b[0m\u001b[36m     [ 12%]\u001b[0m\n",
            "tests/test_ops.py::test_op_bmm[forward-cpu-A_shape1-B_shape1] \u001b[32mPASSED\u001b[0m\u001b[36m     [ 25%]\u001b[0m\n",
            "tests/test_ops.py::test_op_bmm[forward-cuda-A_shape0-B_shape0] \u001b[32mPASSED\u001b[0m\u001b[36m    [ 37%]\u001b[0m\n",
            "tests/test_ops.py::test_op_bmm[forward-cuda-A_shape1-B_shape1] \u001b[32mPASSED\u001b[0m\u001b[36m    [ 50%]\u001b[0m\n",
            "tests/test_ops.py::test_op_bmm[backward-cpu-A_shape0-B_shape0] \u001b[32mPASSED\u001b[0m\u001b[36m    [ 62%]\u001b[0m\n",
            "tests/test_ops.py::test_op_bmm[backward-cpu-A_shape1-B_shape1] \u001b[32mPASSED\u001b[0m\u001b[36m    [ 75%]\u001b[0m\n",
            "tests/test_ops.py::test_op_bmm[backward-cuda-A_shape0-B_shape0] \u001b[32mPASSED\u001b[0m\u001b[36m   [ 87%]\u001b[0m\n",
            "tests/test_ops.py::test_op_bmm[backward-cuda-A_shape1-B_shape1] \u001b[32mPASSED\u001b[0m\u001b[36m   [100%]\u001b[0m\n",
            "\n",
            "\u001b[32m\u001b[1m=================== 8 passed, 112 deselected in 1.93 seconds ===================\u001b[0m\n"
          ]
        }
      ]
    },
    {
      "cell_type": "code",
      "source": [
        "!python3 -m pytest -l -v -k \"op_inv\""
      ],
      "metadata": {
        "colab": {
          "base_uri": "https://localhost:8080/"
        },
        "id": "FeVPaPPV_B-Q",
        "outputId": "b50b696c-8819-495e-a085-8bf876819414"
      },
      "execution_count": 16,
      "outputs": [
        {
          "output_type": "stream",
          "name": "stdout",
          "text": [
            "\u001b[1m============================= test session starts ==============================\u001b[0m\n",
            "platform linux -- Python 3.8.16, pytest-3.6.4, py-1.11.0, pluggy-0.7.1 -- /usr/bin/python3\n",
            "cachedir: .pytest_cache\n",
            "rootdir: /content/drive/MyDrive/10714/project, inifile:\n",
            "plugins: typeguard-2.7.1\n",
            "collected 116 items / 108 deselected                                           \u001b[0m\n",
            "\n",
            "tests/test_ops.py::test_op_inv[forward-cpu-A_shape0] \u001b[32mPASSED\u001b[0m\u001b[36m              [ 12%]\u001b[0m\n",
            "tests/test_ops.py::test_op_inv[forward-cpu-A_shape1] \u001b[32mPASSED\u001b[0m\u001b[36m              [ 25%]\u001b[0m\n",
            "tests/test_ops.py::test_op_inv[forward-cuda-A_shape0] \u001b[32mPASSED\u001b[0m\u001b[36m             [ 37%]\u001b[0m\n",
            "tests/test_ops.py::test_op_inv[forward-cuda-A_shape1] \u001b[32mPASSED\u001b[0m\u001b[36m             [ 50%]\u001b[0m\n",
            "tests/test_ops.py::test_op_inv[backward-cpu-A_shape0] \u001b[32mPASSED\u001b[0m\u001b[36m             [ 62%]\u001b[0m\n",
            "tests/test_ops.py::test_op_inv[backward-cpu-A_shape1] \u001b[32mPASSED\u001b[0m\u001b[36m             [ 75%]\u001b[0m\n",
            "tests/test_ops.py::test_op_inv[backward-cuda-A_shape0] \u001b[32mPASSED\u001b[0m\u001b[36m            [ 87%]\u001b[0m\n",
            "tests/test_ops.py::test_op_inv[backward-cuda-A_shape1] \u001b[32mPASSED\u001b[0m\u001b[36m            [100%]\u001b[0m\n",
            "\n",
            "\u001b[32m\u001b[1m=================== 8 passed, 108 deselected in 2.10 seconds ===================\u001b[0m\n"
          ]
        }
      ]
    },
    {
      "cell_type": "code",
      "source": [
        "!python3 -m pytest -l -v -k \"op_det\""
      ],
      "metadata": {
        "colab": {
          "base_uri": "https://localhost:8080/"
        },
        "id": "m5pta9q__BC6",
        "outputId": "eebb4b3f-02ab-4a02-89d5-d974a935f0a3"
      },
      "execution_count": 17,
      "outputs": [
        {
          "output_type": "stream",
          "name": "stdout",
          "text": [
            "\u001b[1m============================= test session starts ==============================\u001b[0m\n",
            "platform linux -- Python 3.8.16, pytest-3.6.4, py-1.11.0, pluggy-0.7.1 -- /usr/bin/python3\n",
            "cachedir: .pytest_cache\n",
            "rootdir: /content/drive/MyDrive/10714/project, inifile:\n",
            "plugins: typeguard-2.7.1\n",
            "collected 116 items / 108 deselected                                           \u001b[0m\n",
            "\n",
            "tests/test_ops.py::test_op_det[forward-cpu-A_shape0] \u001b[32mPASSED\u001b[0m\u001b[36m              [ 12%]\u001b[0m\n",
            "tests/test_ops.py::test_op_det[forward-cpu-A_shape1] \u001b[32mPASSED\u001b[0m\u001b[36m              [ 25%]\u001b[0m\n",
            "tests/test_ops.py::test_op_det[forward-cuda-A_shape0] \u001b[32mPASSED\u001b[0m\u001b[36m             [ 37%]\u001b[0m\n",
            "tests/test_ops.py::test_op_det[forward-cuda-A_shape1] \u001b[32mPASSED\u001b[0m\u001b[36m             [ 50%]\u001b[0m\n",
            "tests/test_ops.py::test_op_det[backward-cpu-A_shape0] \u001b[32mPASSED\u001b[0m\u001b[36m             [ 62%]\u001b[0m\n",
            "tests/test_ops.py::test_op_det[backward-cpu-A_shape1] \u001b[32mPASSED\u001b[0m\u001b[36m             [ 75%]\u001b[0m\n",
            "tests/test_ops.py::test_op_det[backward-cuda-A_shape0] \u001b[32mPASSED\u001b[0m\u001b[36m            [ 87%]\u001b[0m\n",
            "tests/test_ops.py::test_op_det[backward-cuda-A_shape1] \u001b[32mPASSED\u001b[0m\u001b[36m            [100%]\u001b[0m\n",
            "\n",
            "\u001b[32m\u001b[1m=================== 8 passed, 108 deselected in 2.05 seconds ===================\u001b[0m\n"
          ]
        }
      ]
    },
    {
      "cell_type": "code",
      "source": [
        "!python3 -m pytest -l -v -k \"op_diagonal\""
      ],
      "metadata": {
        "colab": {
          "base_uri": "https://localhost:8080/"
        },
        "id": "lW-c2bQik-yE",
        "outputId": "89334acb-2d60-44a7-f08c-ba085c9ea8c4"
      },
      "execution_count": 5,
      "outputs": [
        {
          "output_type": "stream",
          "name": "stdout",
          "text": [
            "\u001b[1m============================= test session starts ==============================\u001b[0m\n",
            "platform linux -- Python 3.8.16, pytest-3.6.4, py-1.11.0, pluggy-0.7.1 -- /usr/bin/python3\n",
            "cachedir: .pytest_cache\n",
            "rootdir: /content/drive/MyDrive/10714/project, inifile:\n",
            "plugins: typeguard-2.7.1\n",
            "collected 120 items / 116 deselected                                           \u001b[0m\n",
            "\n",
            "tests/test_ops.py::test_op_diagonal[forward-cpu-A_shape0] \u001b[32mPASSED\u001b[0m\u001b[36m         [ 25%]\u001b[0m\n",
            "tests/test_ops.py::test_op_diagonal[forward-cuda-A_shape0] \u001b[32mPASSED\u001b[0m\u001b[36m        [ 50%]\u001b[0m\n",
            "tests/test_ops.py::test_op_diagonal[backward-cpu-A_shape0] \u001b[32mPASSED\u001b[0m\u001b[36m        [ 75%]\u001b[0m\n",
            "tests/test_ops.py::test_op_diagonal[backward-cuda-A_shape0] \u001b[32mPASSED\u001b[0m\u001b[36m       [100%]\u001b[0m\n",
            "\n",
            "\u001b[32m\u001b[1m=================== 4 passed, 116 deselected in 2.10 seconds ===================\u001b[0m\n"
          ]
        }
      ]
    },
    {
      "cell_type": "code",
      "source": [
        "!python3 -m pytest -l -v -k \"op_cholesky\""
      ],
      "metadata": {
        "colab": {
          "base_uri": "https://localhost:8080/"
        },
        "id": "M4louqzu_Bp-",
        "outputId": "f6ff9829-0704-4bc4-c744-d0cab47102f5"
      },
      "execution_count": 18,
      "outputs": [
        {
          "output_type": "stream",
          "name": "stdout",
          "text": [
            "\u001b[1m============================= test session starts ==============================\u001b[0m\n",
            "platform linux -- Python 3.8.16, pytest-3.6.4, py-1.11.0, pluggy-0.7.1 -- /usr/bin/python3\n",
            "cachedir: .pytest_cache\n",
            "rootdir: /content/drive/MyDrive/10714/project, inifile:\n",
            "plugins: typeguard-2.7.1\n",
            "collected 116 items / 108 deselected                                           \u001b[0m\n",
            "\n",
            "tests/test_ops.py::test_op_cholesky[forward-cpu-A_shape0] \u001b[32mPASSED\u001b[0m\u001b[36m         [ 12%]\u001b[0m\n",
            "tests/test_ops.py::test_op_cholesky[forward-cpu-A_shape1] \u001b[32mPASSED\u001b[0m\u001b[36m         [ 25%]\u001b[0m\n",
            "tests/test_ops.py::test_op_cholesky[forward-cuda-A_shape0] \u001b[32mPASSED\u001b[0m\u001b[36m        [ 37%]\u001b[0m\n",
            "tests/test_ops.py::test_op_cholesky[forward-cuda-A_shape1] \u001b[32mPASSED\u001b[0m\u001b[36m        [ 50%]\u001b[0m\n",
            "tests/test_ops.py::test_op_cholesky[backward-cpu-A_shape0] \u001b[32mPASSED\u001b[0m\u001b[36m        [ 62%]\u001b[0m\n",
            "tests/test_ops.py::test_op_cholesky[backward-cpu-A_shape1] \u001b[32mPASSED\u001b[0m\u001b[36m        [ 75%]\u001b[0m\n",
            "tests/test_ops.py::test_op_cholesky[backward-cuda-A_shape0] \u001b[32mPASSED\u001b[0m\u001b[36m       [ 87%]\u001b[0m\n",
            "tests/test_ops.py::test_op_cholesky[backward-cuda-A_shape1] \u001b[32mPASSED\u001b[0m\u001b[36m       [100%]\u001b[0m\n",
            "\n",
            "\u001b[32m\u001b[1m=================== 8 passed, 108 deselected in 2.42 seconds ===================\u001b[0m\n"
          ]
        }
      ]
    },
    {
      "cell_type": "code",
      "source": [
        "!python3 -m pytest -l -v -k \"dagmm\""
      ],
      "metadata": {
        "colab": {
          "base_uri": "https://localhost:8080/"
        },
        "id": "ScPyAVzQD8O8",
        "outputId": "ab1869b2-b198-4cdf-d3b4-1bd7b04b5857"
      },
      "execution_count": 25,
      "outputs": [
        {
          "output_type": "stream",
          "name": "stdout",
          "text": [
            "\u001b[1m============================= test session starts ==============================\u001b[0m\n",
            "platform linux -- Python 3.8.16, pytest-3.6.4, py-1.11.0, pluggy-0.7.1 -- /usr/bin/python3\n",
            "cachedir: .pytest_cache\n",
            "rootdir: /content/drive/MyDrive/10714/project, inifile:\n",
            "plugins: typeguard-2.7.1\n",
            "collected 120 items / 118 deselected                                           \u001b[0m\n",
            "\n",
            "tests/test_dagmm.py::test_dagmm[device0-2-120-3-4] \u001b[32mPASSED\u001b[0m\u001b[36m                [ 50%]\u001b[0m\n",
            "tests/test_dagmm.py::test_dagmm[device1-2-120-3-4] \u001b[32mPASSED\u001b[0m\u001b[36m                [100%]\u001b[0m\n",
            "\n",
            "\u001b[32m\u001b[1m=================== 2 passed, 118 deselected in 2.02 seconds ===================\u001b[0m\n"
          ]
        }
      ]
    }
  ],
  "metadata": {
    "kernelspec": {
      "display_name": "Python 3",
      "language": "python",
      "name": "python3"
    },
    "language_info": {
      "codemirror_mode": {
        "name": "ipython",
        "version": 3
      },
      "file_extension": ".py",
      "mimetype": "text/x-python",
      "name": "python",
      "nbconvert_exporter": "python",
      "pygments_lexer": "ipython3",
      "version": "3.7.4"
    },
    "colab": {
      "provenance": []
    },
    "gpuClass": "standard",
    "accelerator": "GPU"
  },
  "nbformat": 4,
  "nbformat_minor": 0
}