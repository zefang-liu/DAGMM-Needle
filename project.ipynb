{
  "cells": [
    {
      "cell_type": "markdown",
      "metadata": {
        "id": "tYti3NYwC9Fc"
      },
      "source": [
        "# 10-714 Project: Needle-DAGMM\n",
        "\n",
        "Needle (NEcessary Elements of Deep Learning) Implementation for the Deep Autoencoding Gaussian Mixture Model (DAGMM)"
      ]
    },
    {
      "cell_type": "code",
      "execution_count": 1,
      "metadata": {
        "id": "QsmQ1wfxC9Fe",
        "colab": {
          "base_uri": "https://localhost:8080/"
        },
        "outputId": "ee267438-e0ee-4b41-cac9-f7bc24a8a274"
      },
      "outputs": [
        {
          "output_type": "stream",
          "name": "stdout",
          "text": [
            "Mounted at /content/drive\n",
            "/content/drive/MyDrive\n",
            "/content/drive/MyDrive/10714/project\n",
            "Looking in indexes: https://pypi.org/simple, https://us-python.pkg.dev/colab-wheels/public/simple/\n",
            "Collecting pybind11\n",
            "  Downloading pybind11-2.10.2-py3-none-any.whl (222 kB)\n",
            "\u001b[K     |████████████████████████████████| 222 kB 18.3 MB/s \n",
            "\u001b[?25hInstalling collected packages: pybind11\n",
            "Successfully installed pybind11-2.10.2\n"
          ]
        }
      ],
      "source": [
        "from google.colab import drive\n",
        "drive.mount('/content/drive')\n",
        "%cd /content/drive/MyDrive/\n",
        "!mkdir -p 10714\n",
        "%cd /content/drive/MyDrive/10714/project\n",
        "!pip3 install pybind11"
      ]
    },
    {
      "cell_type": "code",
      "execution_count": 2,
      "metadata": {
        "id": "NRCrMddoC9Ff",
        "colab": {
          "base_uri": "https://localhost:8080/"
        },
        "outputId": "40e53d3f-4598-47b7-c3e8-d39d09013891"
      },
      "outputs": [
        {
          "output_type": "stream",
          "name": "stdout",
          "text": [
            "-- Found pybind11: /usr/local/lib/python3.8/dist-packages/pybind11/include (found version \"2.10.2\")\n",
            "-- Found cuda, building cuda backend\n",
            "Thu Dec 22 02:02:30 2022       \n",
            "+-----------------------------------------------------------------------------+\n",
            "| NVIDIA-SMI 460.32.03    Driver Version: 460.32.03    CUDA Version: 11.2     |\n",
            "|-------------------------------+----------------------+----------------------+\n",
            "| GPU  Name        Persistence-M| Bus-Id        Disp.A | Volatile Uncorr. ECC |\n",
            "| Fan  Temp  Perf  Pwr:Usage/Cap|         Memory-Usage | GPU-Util  Compute M. |\n",
            "|                               |                      |               MIG M. |\n",
            "|===============================+======================+======================|\n",
            "|   0  Tesla T4            Off  | 00000000:00:04.0 Off |                    0 |\n",
            "| N/A   50C    P0    28W /  70W |      0MiB / 15109MiB |      0%      Default |\n",
            "|                               |                      |                  N/A |\n",
            "+-------------------------------+----------------------+----------------------+\n",
            "                                                                               \n",
            "+-----------------------------------------------------------------------------+\n",
            "| Processes:                                                                  |\n",
            "|  GPU   GI   CI        PID   Type   Process name                  GPU Memory |\n",
            "|        ID   ID                                                   Usage      |\n",
            "|=============================================================================|\n",
            "|  No running processes found                                                 |\n",
            "+-----------------------------------------------------------------------------+\n",
            "-- Autodetected CUDA architecture(s):  7.5\n",
            "-- Configuring done\n",
            "-- Generating done\n",
            "-- Build files have been written to: /content/drive/MyDrive/10714/project/build\n",
            "make[1]: Entering directory '/content/drive/MyDrive/10714/project/build'\n",
            "make[2]: Entering directory '/content/drive/MyDrive/10714/project/build'\n",
            "make[3]: Entering directory '/content/drive/MyDrive/10714/project/build'\n",
            "\u001b[35m\u001b[1mConsolidate compiler generated dependencies of target ndarray_backend_cpu\u001b[0m\n",
            "make[3]: Leaving directory '/content/drive/MyDrive/10714/project/build'\n",
            "make[3]: Entering directory '/content/drive/MyDrive/10714/project/build'\n",
            "[-25%] \u001b[32mBuilding CXX object CMakeFiles/ndarray_backend_cpu.dir/src/ndarray_backend_cpu.cc.o\u001b[0m\n",
            "[  0%] \u001b[32m\u001b[1mLinking CXX shared module ../python/needle/backend_ndarray/ndarray_backend_cpu.cpython-38-x86_64-linux-gnu.so\u001b[0m\n",
            "make[3]: Leaving directory '/content/drive/MyDrive/10714/project/build'\n",
            "[  0%] Built target ndarray_backend_cpu\n",
            "make[3]: Entering directory '/content/drive/MyDrive/10714/project/build'\n",
            "[ 25%] \u001b[34m\u001b[1mBuilding NVCC (Device) object CMakeFiles/ndarray_backend_cuda.dir/src/ndarray_backend_cuda_generated_ndarray_backend_cuda.cu.o\u001b[0m\n",
            "make[3]: Leaving directory '/content/drive/MyDrive/10714/project/build'\n",
            "make[3]: Entering directory '/content/drive/MyDrive/10714/project/build'\n",
            "[ 50%] \u001b[32m\u001b[1mLinking CXX shared module ../python/needle/backend_ndarray/ndarray_backend_cuda.cpython-38-x86_64-linux-gnu.so\u001b[0m\n",
            "make[3]: Leaving directory '/content/drive/MyDrive/10714/project/build'\n",
            "[ 50%] Built target ndarray_backend_cuda\n",
            "make[2]: Leaving directory '/content/drive/MyDrive/10714/project/build'\n",
            "make[1]: Leaving directory '/content/drive/MyDrive/10714/project/build'\n"
          ]
        }
      ],
      "source": [
        "!make"
      ]
    },
    {
      "cell_type": "code",
      "execution_count": 3,
      "metadata": {
        "id": "ZvHDK8J5C9Ff"
      },
      "outputs": [],
      "source": [
        "import sys\n",
        "sys.path.append('./python')"
      ]
    },
    {
      "cell_type": "code",
      "source": [
        "!python3 -m pytest -l -v -k \"op_cholesky\""
      ],
      "metadata": {
        "colab": {
          "base_uri": "https://localhost:8080/"
        },
        "id": "L8F8S3yBX6v_",
        "outputId": "98567064-f264-4c5c-dc72-70aa7a12f940"
      },
      "execution_count": 4,
      "outputs": [
        {
          "output_type": "stream",
          "name": "stdout",
          "text": [
            "\u001b[1m============================= test session starts ==============================\u001b[0m\n",
            "platform linux -- Python 3.8.16, pytest-3.6.4, py-1.11.0, pluggy-0.7.1 -- /usr/bin/python3\n",
            "cachedir: .pytest_cache\n",
            "rootdir: /content/drive/MyDrive/10714/project, inifile:\n",
            "plugins: typeguard-2.7.1\n",
            "collected 47 items / 35 deselected                                             \u001b[0m\n",
            "\n",
            "tests/test_cholesky.py::test_op_cholesky[forward-cpu-3] \u001b[32mPASSED\u001b[0m\u001b[36m           [  8%]\u001b[0m\n",
            "tests/test_cholesky.py::test_op_cholesky[forward-cpu-4] \u001b[32mPASSED\u001b[0m\u001b[36m           [ 16%]\u001b[0m\n",
            "tests/test_cholesky.py::test_op_cholesky[forward-cpu-5] \u001b[32mPASSED\u001b[0m\u001b[36m           [ 25%]\u001b[0m\n",
            "tests/test_cholesky.py::test_op_cholesky[forward-cuda-3] \u001b[32mPASSED\u001b[0m\u001b[36m          [ 33%]\u001b[0m\n",
            "tests/test_cholesky.py::test_op_cholesky[forward-cuda-4] \u001b[32mPASSED\u001b[0m\u001b[36m          [ 41%]\u001b[0m\n",
            "tests/test_cholesky.py::test_op_cholesky[forward-cuda-5] \u001b[32mPASSED\u001b[0m\u001b[36m          [ 50%]\u001b[0m\n",
            "tests/test_cholesky.py::test_op_cholesky[backward-cpu-3] \u001b[32mPASSED\u001b[0m\u001b[36m          [ 58%]\u001b[0m\n",
            "tests/test_cholesky.py::test_op_cholesky[backward-cpu-4] \u001b[32mPASSED\u001b[0m\u001b[36m          [ 66%]\u001b[0m\n",
            "tests/test_cholesky.py::test_op_cholesky[backward-cpu-5] \u001b[32mPASSED\u001b[0m\u001b[36m          [ 75%]\u001b[0m\n",
            "tests/test_cholesky.py::test_op_cholesky[backward-cuda-3] \u001b[32mPASSED\u001b[0m\u001b[36m         [ 83%]\u001b[0m\n",
            "tests/test_cholesky.py::test_op_cholesky[backward-cuda-4] \u001b[32mPASSED\u001b[0m\u001b[36m         [ 91%]\u001b[0m\n",
            "tests/test_cholesky.py::test_op_cholesky[backward-cuda-5] \u001b[32mPASSED\u001b[0m\u001b[36m         [100%]\u001b[0m\n",
            "\n",
            "\u001b[32m\u001b[1m================== 12 passed, 35 deselected in 11.24 seconds ===================\u001b[0m\n"
          ]
        }
      ]
    },
    {
      "cell_type": "code",
      "source": [
        "!python3 -m pytest -l -v -k \"op_norm\""
      ],
      "metadata": {
        "colab": {
          "base_uri": "https://localhost:8080/"
        },
        "id": "ANoCyU5KLOLJ",
        "outputId": "ee2f115f-d0a0-4a45-c0f2-291ff8d51495"
      },
      "execution_count": 5,
      "outputs": [
        {
          "output_type": "stream",
          "name": "stdout",
          "text": [
            "\u001b[1m============================= test session starts ==============================\u001b[0m\n",
            "platform linux -- Python 3.8.16, pytest-3.6.4, py-1.11.0, pluggy-0.7.1 -- /usr/bin/python3\n",
            "cachedir: .pytest_cache\n",
            "rootdir: /content/drive/MyDrive/10714/project, inifile:\n",
            "plugins: typeguard-2.7.1\n",
            "collected 47 items / 35 deselected                                             \u001b[0m\n",
            "\n",
            "tests/test_cholesky.py::test_op_norm[forward-cpu-x_shape0-0] \u001b[32mPASSED\u001b[0m\u001b[36m      [  8%]\u001b[0m\n",
            "tests/test_cholesky.py::test_op_norm[forward-cpu-x_shape1-0] \u001b[32mPASSED\u001b[0m\u001b[36m      [ 16%]\u001b[0m\n",
            "tests/test_cholesky.py::test_op_norm[forward-cpu-x_shape2-1] \u001b[32mPASSED\u001b[0m\u001b[36m      [ 25%]\u001b[0m\n",
            "tests/test_cholesky.py::test_op_norm[forward-cuda-x_shape0-0] \u001b[32mPASSED\u001b[0m\u001b[36m     [ 33%]\u001b[0m\n",
            "tests/test_cholesky.py::test_op_norm[forward-cuda-x_shape1-0] \u001b[32mPASSED\u001b[0m\u001b[36m     [ 41%]\u001b[0m\n",
            "tests/test_cholesky.py::test_op_norm[forward-cuda-x_shape2-1] \u001b[32mPASSED\u001b[0m\u001b[36m     [ 50%]\u001b[0m\n",
            "tests/test_cholesky.py::test_op_norm[backward-cpu-x_shape0-0] \u001b[32mPASSED\u001b[0m\u001b[36m     [ 58%]\u001b[0m\n",
            "tests/test_cholesky.py::test_op_norm[backward-cpu-x_shape1-0] \u001b[32mPASSED\u001b[0m\u001b[36m     [ 66%]\u001b[0m\n",
            "tests/test_cholesky.py::test_op_norm[backward-cpu-x_shape2-1] \u001b[32mPASSED\u001b[0m\u001b[36m     [ 75%]\u001b[0m\n",
            "tests/test_cholesky.py::test_op_norm[backward-cuda-x_shape0-0] \u001b[32mPASSED\u001b[0m\u001b[36m    [ 83%]\u001b[0m\n",
            "tests/test_cholesky.py::test_op_norm[backward-cuda-x_shape1-0] \u001b[32mPASSED\u001b[0m\u001b[36m    [ 91%]\u001b[0m\n",
            "tests/test_cholesky.py::test_op_norm[backward-cuda-x_shape2-1] \u001b[32mPASSED\u001b[0m\u001b[36m    [100%]\u001b[0m\n",
            "\n",
            "\u001b[32m\u001b[1m=================== 12 passed, 35 deselected in 2.45 seconds ===================\u001b[0m\n"
          ]
        }
      ]
    },
    {
      "cell_type": "code",
      "source": [
        "!python3 -m pytest -l -v -k \"op_cosine_similarity\""
      ],
      "metadata": {
        "colab": {
          "base_uri": "https://localhost:8080/"
        },
        "id": "BCnt4MlWMvOl",
        "outputId": "edf41da4-b6f5-4461-e2c4-1222bf465f1b"
      },
      "execution_count": 6,
      "outputs": [
        {
          "output_type": "stream",
          "name": "stdout",
          "text": [
            "\u001b[1m============================= test session starts ==============================\u001b[0m\n",
            "platform linux -- Python 3.8.16, pytest-3.6.4, py-1.11.0, pluggy-0.7.1 -- /usr/bin/python3\n",
            "cachedir: .pytest_cache\n",
            "rootdir: /content/drive/MyDrive/10714/project, inifile:\n",
            "plugins: typeguard-2.7.1\n",
            "collected 47 items / 35 deselected                                             \u001b[0m\n",
            "\n",
            "tests/test_cholesky.py::test_op_cosine_similarity[forward-cpu-x_shape0-0] \u001b[32mPASSED\u001b[0m\u001b[36m [  8%]\u001b[0m\n",
            "tests/test_cholesky.py::test_op_cosine_similarity[forward-cpu-x_shape1-0] \u001b[32mPASSED\u001b[0m\u001b[36m [ 16%]\u001b[0m\n",
            "tests/test_cholesky.py::test_op_cosine_similarity[forward-cpu-x_shape2-1] \u001b[32mPASSED\u001b[0m\u001b[36m [ 25%]\u001b[0m\n",
            "tests/test_cholesky.py::test_op_cosine_similarity[forward-cuda-x_shape0-0] \u001b[32mPASSED\u001b[0m\u001b[36m [ 33%]\u001b[0m\n",
            "tests/test_cholesky.py::test_op_cosine_similarity[forward-cuda-x_shape1-0] \u001b[32mPASSED\u001b[0m\u001b[36m [ 41%]\u001b[0m\n",
            "tests/test_cholesky.py::test_op_cosine_similarity[forward-cuda-x_shape2-1] \u001b[32mPASSED\u001b[0m\u001b[36m [ 50%]\u001b[0m\n",
            "tests/test_cholesky.py::test_op_cosine_similarity[backward-cpu-x_shape0-0] \u001b[32mPASSED\u001b[0m\u001b[36m [ 58%]\u001b[0m\n",
            "tests/test_cholesky.py::test_op_cosine_similarity[backward-cpu-x_shape1-0] \u001b[32mPASSED\u001b[0m\u001b[36m [ 66%]\u001b[0m\n",
            "tests/test_cholesky.py::test_op_cosine_similarity[backward-cpu-x_shape2-1] \u001b[32mPASSED\u001b[0m\u001b[36m [ 75%]\u001b[0m\n",
            "tests/test_cholesky.py::test_op_cosine_similarity[backward-cuda-x_shape0-0] \u001b[32mPASSED\u001b[0m\u001b[36m [ 83%]\u001b[0m\n",
            "tests/test_cholesky.py::test_op_cosine_similarity[backward-cuda-x_shape1-0] \u001b[32mPASSED\u001b[0m\u001b[36m [ 91%]\u001b[0m\n",
            "tests/test_cholesky.py::test_op_cosine_similarity[backward-cuda-x_shape2-1] \u001b[32mPASSED\u001b[0m\u001b[36m [100%]\u001b[0m\n",
            "\n",
            "\u001b[32m\u001b[1m=================== 12 passed, 35 deselected in 2.14 seconds ===================\u001b[0m\n"
          ]
        }
      ]
    },
    {
      "cell_type": "code",
      "source": [
        "!python3 -m pytest -l -v -k \"op_pairwise_distance\""
      ],
      "metadata": {
        "colab": {
          "base_uri": "https://localhost:8080/"
        },
        "id": "4jRgyws_SRbd",
        "outputId": "de5ac56f-ecf7-443a-daa2-20c280b0ae79"
      },
      "execution_count": 7,
      "outputs": [
        {
          "output_type": "stream",
          "name": "stdout",
          "text": [
            "\u001b[1m============================= test session starts ==============================\u001b[0m\n",
            "platform linux -- Python 3.8.16, pytest-3.6.4, py-1.11.0, pluggy-0.7.1 -- /usr/bin/python3\n",
            "cachedir: .pytest_cache\n",
            "rootdir: /content/drive/MyDrive/10714/project, inifile:\n",
            "plugins: typeguard-2.7.1\n",
            "collected 47 items / 39 deselected                                             \u001b[0m\n",
            "\n",
            "tests/test_cholesky.py::test_op_pairwise_distance[forward-cpu-x_shape0-0] \u001b[32mPASSED\u001b[0m\u001b[36m [ 12%]\u001b[0m\n",
            "tests/test_cholesky.py::test_op_pairwise_distance[forward-cpu-x_shape1-1] \u001b[32mPASSED\u001b[0m\u001b[36m [ 25%]\u001b[0m\n",
            "tests/test_cholesky.py::test_op_pairwise_distance[forward-cuda-x_shape0-0] \u001b[32mPASSED\u001b[0m\u001b[36m [ 37%]\u001b[0m\n",
            "tests/test_cholesky.py::test_op_pairwise_distance[forward-cuda-x_shape1-1] \u001b[32mPASSED\u001b[0m\u001b[36m [ 50%]\u001b[0m\n",
            "tests/test_cholesky.py::test_op_pairwise_distance[backward-cpu-x_shape0-0] \u001b[32mPASSED\u001b[0m\u001b[36m [ 62%]\u001b[0m\n",
            "tests/test_cholesky.py::test_op_pairwise_distance[backward-cpu-x_shape1-1] \u001b[32mPASSED\u001b[0m\u001b[36m [ 75%]\u001b[0m\n",
            "tests/test_cholesky.py::test_op_pairwise_distance[backward-cuda-x_shape0-0] \u001b[32mPASSED\u001b[0m\u001b[36m [ 87%]\u001b[0m\n",
            "tests/test_cholesky.py::test_op_pairwise_distance[backward-cuda-x_shape1-1] \u001b[32mPASSED\u001b[0m\u001b[36m [100%]\u001b[0m\n",
            "\n",
            "\u001b[32m\u001b[1m=================== 8 passed, 39 deselected in 1.91 seconds ====================\u001b[0m\n"
          ]
        }
      ]
    }
  ],
  "metadata": {
    "kernelspec": {
      "display_name": "Python 3",
      "language": "python",
      "name": "python3"
    },
    "language_info": {
      "codemirror_mode": {
        "name": "ipython",
        "version": 3
      },
      "file_extension": ".py",
      "mimetype": "text/x-python",
      "name": "python",
      "nbconvert_exporter": "python",
      "pygments_lexer": "ipython3",
      "version": "3.7.4"
    },
    "colab": {
      "provenance": []
    },
    "gpuClass": "standard",
    "accelerator": "GPU"
  },
  "nbformat": 4,
  "nbformat_minor": 0
}